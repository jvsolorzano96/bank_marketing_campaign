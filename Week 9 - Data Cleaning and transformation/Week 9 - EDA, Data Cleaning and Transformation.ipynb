{
 "cells": [
  {
   "cell_type": "markdown",
   "id": "ee484e7a",
   "metadata": {},
   "source": [
    "# EDA (Exploratory Data Analysis)"
   ]
  },
  {
   "cell_type": "markdown",
   "id": "bde76ff7",
   "metadata": {},
   "source": [
    "It is time to get familiar with the data itself through exploratory analysis of the dataset and its features.\n",
    "\n",
    "Additionally, we are going to clean and transform the data in ordert to get the best prepared variables for the later Machine Learning model. \n",
    "\n",
    "As we mentioned in last week deliverables, we chose two approaches for outliers treatment:\n",
    "\n",
    "1) IQR outliers treatment\n",
    "\n",
    "2) WOE outliers treatment\n",
    "\n",
    "Afterwards, we are going to analyze the best way to approach missing values."
   ]
  },
  {
   "cell_type": "code",
   "execution_count": 1,
   "id": "d7002227",
   "metadata": {},
   "outputs": [],
   "source": [
    "import pandas as pd\n",
    "import numpy as np\n",
    "import matplotlib.pyplot as plt\n",
    "import seaborn as sns\n",
    "import warnings\n",
    "warnings.filterwarnings('ignore')\n",
    "import numpy as np \n",
    "import pandas as pd \n",
    "import matplotlib.pyplot as plt\n",
    "import missingno as msno\n",
    "from operator import itemgetter\n",
    "from sklearn.experimental import enable_iterative_imputer \n",
    "from sklearn.impute import IterativeImputer\n",
    "from sklearn.preprocessing import OrdinalEncoder\n",
    "from sklearn.preprocessing import StandardScaler\n",
    "from sklearn.ensemble import (GradientBoostingRegressor, GradientBoostingClassifier)\n",
    "pd.set_option('display.max_columns', 500)\n",
    "#import xgboost\n",
    "\n",
    "%matplotlib inline\n",
    "sns.set()\n",
    "plt.rc('xtick', labelsize=10)     \n",
    "plt.rc('ytick', labelsize=10)\n"
   ]
  },
  {
   "cell_type": "markdown",
   "id": "0b8d5374",
   "metadata": {},
   "source": [
    "## Dataset"
   ]
  },
  {
   "cell_type": "code",
   "execution_count": 2,
   "id": "943961fd",
   "metadata": {},
   "outputs": [
    {
     "data": {
      "text/html": [
       "<div>\n",
       "<style scoped>\n",
       "    .dataframe tbody tr th:only-of-type {\n",
       "        vertical-align: middle;\n",
       "    }\n",
       "\n",
       "    .dataframe tbody tr th {\n",
       "        vertical-align: top;\n",
       "    }\n",
       "\n",
       "    .dataframe thead th {\n",
       "        text-align: right;\n",
       "    }\n",
       "</style>\n",
       "<table border=\"1\" class=\"dataframe\">\n",
       "  <thead>\n",
       "    <tr style=\"text-align: right;\">\n",
       "      <th></th>\n",
       "      <th>age</th>\n",
       "      <th>job</th>\n",
       "      <th>marital</th>\n",
       "      <th>education</th>\n",
       "      <th>default</th>\n",
       "      <th>housing</th>\n",
       "      <th>loan</th>\n",
       "      <th>contact</th>\n",
       "      <th>month</th>\n",
       "      <th>day_of_week</th>\n",
       "      <th>duration</th>\n",
       "      <th>campaign</th>\n",
       "      <th>pdays</th>\n",
       "      <th>previous</th>\n",
       "      <th>poutcome</th>\n",
       "      <th>emp.var.rate</th>\n",
       "      <th>cons.price.idx</th>\n",
       "      <th>cons.conf.idx</th>\n",
       "      <th>euribor3m</th>\n",
       "      <th>nr.employed</th>\n",
       "      <th>y</th>\n",
       "    </tr>\n",
       "  </thead>\n",
       "  <tbody>\n",
       "    <tr>\n",
       "      <th>0</th>\n",
       "      <td>56</td>\n",
       "      <td>housemaid</td>\n",
       "      <td>married</td>\n",
       "      <td>basic.4y</td>\n",
       "      <td>no</td>\n",
       "      <td>no</td>\n",
       "      <td>no</td>\n",
       "      <td>telephone</td>\n",
       "      <td>may</td>\n",
       "      <td>mon</td>\n",
       "      <td>261</td>\n",
       "      <td>1</td>\n",
       "      <td>999</td>\n",
       "      <td>0</td>\n",
       "      <td>nonexistent</td>\n",
       "      <td>1.1</td>\n",
       "      <td>93.994</td>\n",
       "      <td>-36.4</td>\n",
       "      <td>4.857</td>\n",
       "      <td>5191.0</td>\n",
       "      <td>no</td>\n",
       "    </tr>\n",
       "    <tr>\n",
       "      <th>1</th>\n",
       "      <td>57</td>\n",
       "      <td>services</td>\n",
       "      <td>married</td>\n",
       "      <td>high.school</td>\n",
       "      <td>unknown</td>\n",
       "      <td>no</td>\n",
       "      <td>no</td>\n",
       "      <td>telephone</td>\n",
       "      <td>may</td>\n",
       "      <td>mon</td>\n",
       "      <td>149</td>\n",
       "      <td>1</td>\n",
       "      <td>999</td>\n",
       "      <td>0</td>\n",
       "      <td>nonexistent</td>\n",
       "      <td>1.1</td>\n",
       "      <td>93.994</td>\n",
       "      <td>-36.4</td>\n",
       "      <td>4.857</td>\n",
       "      <td>5191.0</td>\n",
       "      <td>no</td>\n",
       "    </tr>\n",
       "  </tbody>\n",
       "</table>\n",
       "</div>"
      ],
      "text/plain": [
       "   age        job  marital    education  default housing loan    contact  \\\n",
       "0   56  housemaid  married     basic.4y       no      no   no  telephone   \n",
       "1   57   services  married  high.school  unknown      no   no  telephone   \n",
       "\n",
       "  month day_of_week  duration  campaign  pdays  previous     poutcome  \\\n",
       "0   may         mon       261         1    999         0  nonexistent   \n",
       "1   may         mon       149         1    999         0  nonexistent   \n",
       "\n",
       "   emp.var.rate  cons.price.idx  cons.conf.idx  euribor3m  nr.employed   y  \n",
       "0           1.1          93.994          -36.4      4.857       5191.0  no  \n",
       "1           1.1          93.994          -36.4      4.857       5191.0  no  "
      ]
     },
     "execution_count": 2,
     "metadata": {},
     "output_type": "execute_result"
    }
   ],
   "source": [
    "path = \"/Users/vicentesolorzano/Desktop/DATA_GLACIER/FINAL/data/bank-additional-full.csv\"\n",
    "\n",
    "bank_df = pd.read_csv(path,sep=\";\")\n",
    "bank_df.head(2)"
   ]
  },
  {
   "cell_type": "code",
   "execution_count": 3,
   "id": "5aa76780",
   "metadata": {},
   "outputs": [
    {
     "name": "stdout",
     "output_type": "stream",
     "text": [
      "Number of rows:  41188  -  Number of columns:  21\n"
     ]
    }
   ],
   "source": [
    "print(\"Number of rows: \",bank_df.shape[0],\" - \",\"Number of columns: \",bank_df.shape[1])"
   ]
  },
  {
   "cell_type": "code",
   "execution_count": 4,
   "id": "e48ee3cd",
   "metadata": {},
   "outputs": [
    {
     "data": {
      "text/plain": [
       "Index(['age', 'job', 'marital', 'education', 'default', 'housing', 'loan',\n",
       "       'contact', 'month', 'day_of_week', 'duration', 'campaign', 'pdays',\n",
       "       'previous', 'poutcome', 'emp.var.rate', 'cons.price.idx',\n",
       "       'cons.conf.idx', 'euribor3m', 'nr.employed', 'y'],\n",
       "      dtype='object')"
      ]
     },
     "execution_count": 4,
     "metadata": {},
     "output_type": "execute_result"
    }
   ],
   "source": [
    "bank_df.columns"
   ]
  },
  {
   "cell_type": "markdown",
   "id": "e6955fd9",
   "metadata": {},
   "source": [
    "#### Categorical columns"
   ]
  },
  {
   "cell_type": "code",
   "execution_count": 5,
   "id": "d6f67429",
   "metadata": {},
   "outputs": [
    {
     "name": "stdout",
     "output_type": "stream",
     "text": [
      "job :\n",
      "['housemaid' 'services' 'admin.' 'blue-collar' 'technician' 'retired'\n",
      " 'management' 'unemployed' 'self-employed' 'unknown' 'entrepreneur'\n",
      " 'student']\n",
      "marital :\n",
      "['married' 'single' 'divorced' 'unknown']\n",
      "education :\n",
      "['basic.4y' 'high.school' 'basic.6y' 'basic.9y' 'professional.course'\n",
      " 'unknown' 'university.degree' 'illiterate']\n",
      "default :\n",
      "['no' 'unknown' 'yes']\n",
      "housing :\n",
      "['no' 'yes' 'unknown']\n",
      "loan :\n",
      "['no' 'yes' 'unknown']\n",
      "contact :\n",
      "['telephone' 'cellular']\n",
      "month :\n",
      "['may' 'jun' 'jul' 'aug' 'oct' 'nov' 'dec' 'mar' 'apr' 'sep']\n",
      "day_of_week :\n",
      "['mon' 'tue' 'wed' 'thu' 'fri']\n",
      "poutcome :\n",
      "['nonexistent' 'failure' 'success']\n"
     ]
    }
   ],
   "source": [
    "#Values in categorical columns\n",
    "\n",
    "categorical_cols=['job', 'marital', 'education', 'default', 'housing', 'loan',\n",
    "       'contact', 'month', 'day_of_week', 'poutcome']\n",
    "\n",
    "for col in categorical_cols:# categories\n",
    "  print(col,\":\")\n",
    "  print(bank_df[col].unique())"
   ]
  },
  {
   "cell_type": "markdown",
   "id": "8035737e",
   "metadata": {},
   "source": [
    "#### Numerical columns"
   ]
  },
  {
   "cell_type": "code",
   "execution_count": 6,
   "id": "7492c432",
   "metadata": {},
   "outputs": [
    {
     "data": {
      "text/html": [
       "<div>\n",
       "<style scoped>\n",
       "    .dataframe tbody tr th:only-of-type {\n",
       "        vertical-align: middle;\n",
       "    }\n",
       "\n",
       "    .dataframe tbody tr th {\n",
       "        vertical-align: top;\n",
       "    }\n",
       "\n",
       "    .dataframe thead th {\n",
       "        text-align: right;\n",
       "    }\n",
       "</style>\n",
       "<table border=\"1\" class=\"dataframe\">\n",
       "  <thead>\n",
       "    <tr style=\"text-align: right;\">\n",
       "      <th></th>\n",
       "      <th>age</th>\n",
       "      <th>duration</th>\n",
       "      <th>campaign</th>\n",
       "      <th>pdays</th>\n",
       "      <th>previous</th>\n",
       "      <th>emp.var.rate</th>\n",
       "      <th>cons.price.idx</th>\n",
       "      <th>cons.conf.idx</th>\n",
       "      <th>euribor3m</th>\n",
       "      <th>nr.employed</th>\n",
       "    </tr>\n",
       "  </thead>\n",
       "  <tbody>\n",
       "    <tr>\n",
       "      <th>count</th>\n",
       "      <td>41188.00000</td>\n",
       "      <td>41188.000000</td>\n",
       "      <td>41188.000000</td>\n",
       "      <td>41188.000000</td>\n",
       "      <td>41188.000000</td>\n",
       "      <td>41188.000000</td>\n",
       "      <td>41188.000000</td>\n",
       "      <td>41188.000000</td>\n",
       "      <td>41188.000000</td>\n",
       "      <td>41188.000000</td>\n",
       "    </tr>\n",
       "    <tr>\n",
       "      <th>mean</th>\n",
       "      <td>40.02406</td>\n",
       "      <td>258.285010</td>\n",
       "      <td>2.567593</td>\n",
       "      <td>962.475454</td>\n",
       "      <td>0.172963</td>\n",
       "      <td>0.081886</td>\n",
       "      <td>93.575664</td>\n",
       "      <td>-40.502600</td>\n",
       "      <td>3.621291</td>\n",
       "      <td>5167.035911</td>\n",
       "    </tr>\n",
       "    <tr>\n",
       "      <th>std</th>\n",
       "      <td>10.42125</td>\n",
       "      <td>259.279249</td>\n",
       "      <td>2.770014</td>\n",
       "      <td>186.910907</td>\n",
       "      <td>0.494901</td>\n",
       "      <td>1.570960</td>\n",
       "      <td>0.578840</td>\n",
       "      <td>4.628198</td>\n",
       "      <td>1.734447</td>\n",
       "      <td>72.251528</td>\n",
       "    </tr>\n",
       "    <tr>\n",
       "      <th>min</th>\n",
       "      <td>17.00000</td>\n",
       "      <td>0.000000</td>\n",
       "      <td>1.000000</td>\n",
       "      <td>0.000000</td>\n",
       "      <td>0.000000</td>\n",
       "      <td>-3.400000</td>\n",
       "      <td>92.201000</td>\n",
       "      <td>-50.800000</td>\n",
       "      <td>0.634000</td>\n",
       "      <td>4963.600000</td>\n",
       "    </tr>\n",
       "    <tr>\n",
       "      <th>25%</th>\n",
       "      <td>32.00000</td>\n",
       "      <td>102.000000</td>\n",
       "      <td>1.000000</td>\n",
       "      <td>999.000000</td>\n",
       "      <td>0.000000</td>\n",
       "      <td>-1.800000</td>\n",
       "      <td>93.075000</td>\n",
       "      <td>-42.700000</td>\n",
       "      <td>1.344000</td>\n",
       "      <td>5099.100000</td>\n",
       "    </tr>\n",
       "    <tr>\n",
       "      <th>50%</th>\n",
       "      <td>38.00000</td>\n",
       "      <td>180.000000</td>\n",
       "      <td>2.000000</td>\n",
       "      <td>999.000000</td>\n",
       "      <td>0.000000</td>\n",
       "      <td>1.100000</td>\n",
       "      <td>93.749000</td>\n",
       "      <td>-41.800000</td>\n",
       "      <td>4.857000</td>\n",
       "      <td>5191.000000</td>\n",
       "    </tr>\n",
       "    <tr>\n",
       "      <th>75%</th>\n",
       "      <td>47.00000</td>\n",
       "      <td>319.000000</td>\n",
       "      <td>3.000000</td>\n",
       "      <td>999.000000</td>\n",
       "      <td>0.000000</td>\n",
       "      <td>1.400000</td>\n",
       "      <td>93.994000</td>\n",
       "      <td>-36.400000</td>\n",
       "      <td>4.961000</td>\n",
       "      <td>5228.100000</td>\n",
       "    </tr>\n",
       "    <tr>\n",
       "      <th>max</th>\n",
       "      <td>98.00000</td>\n",
       "      <td>4918.000000</td>\n",
       "      <td>56.000000</td>\n",
       "      <td>999.000000</td>\n",
       "      <td>7.000000</td>\n",
       "      <td>1.400000</td>\n",
       "      <td>94.767000</td>\n",
       "      <td>-26.900000</td>\n",
       "      <td>5.045000</td>\n",
       "      <td>5228.100000</td>\n",
       "    </tr>\n",
       "  </tbody>\n",
       "</table>\n",
       "</div>"
      ],
      "text/plain": [
       "               age      duration      campaign         pdays      previous  \\\n",
       "count  41188.00000  41188.000000  41188.000000  41188.000000  41188.000000   \n",
       "mean      40.02406    258.285010      2.567593    962.475454      0.172963   \n",
       "std       10.42125    259.279249      2.770014    186.910907      0.494901   \n",
       "min       17.00000      0.000000      1.000000      0.000000      0.000000   \n",
       "25%       32.00000    102.000000      1.000000    999.000000      0.000000   \n",
       "50%       38.00000    180.000000      2.000000    999.000000      0.000000   \n",
       "75%       47.00000    319.000000      3.000000    999.000000      0.000000   \n",
       "max       98.00000   4918.000000     56.000000    999.000000      7.000000   \n",
       "\n",
       "       emp.var.rate  cons.price.idx  cons.conf.idx     euribor3m   nr.employed  \n",
       "count  41188.000000    41188.000000   41188.000000  41188.000000  41188.000000  \n",
       "mean       0.081886       93.575664     -40.502600      3.621291   5167.035911  \n",
       "std        1.570960        0.578840       4.628198      1.734447     72.251528  \n",
       "min       -3.400000       92.201000     -50.800000      0.634000   4963.600000  \n",
       "25%       -1.800000       93.075000     -42.700000      1.344000   5099.100000  \n",
       "50%        1.100000       93.749000     -41.800000      4.857000   5191.000000  \n",
       "75%        1.400000       93.994000     -36.400000      4.961000   5228.100000  \n",
       "max        1.400000       94.767000     -26.900000      5.045000   5228.100000  "
      ]
     },
     "execution_count": 6,
     "metadata": {},
     "output_type": "execute_result"
    }
   ],
   "source": [
    "#Some statistics of the numerical columns from our dataset\n",
    "\n",
    "bank_df.describe()\n"
   ]
  },
  {
   "cell_type": "code",
   "execution_count": 7,
   "id": "c0fa52da",
   "metadata": {},
   "outputs": [],
   "source": [
    "numeric_col=bank_df._get_numeric_data().columns\n",
    "num_bank_df=bank_df._get_numeric_data()"
   ]
  },
  {
   "cell_type": "markdown",
   "id": "76150ba3",
   "metadata": {},
   "source": [
    "#### Target"
   ]
  },
  {
   "cell_type": "markdown",
   "id": "706b7b5e",
   "metadata": {},
   "source": [
    "We want to see the distribution of the binary target, to realise if it is unbalanced or not."
   ]
  },
  {
   "cell_type": "code",
   "execution_count": 8,
   "id": "843017a3",
   "metadata": {},
   "outputs": [
    {
     "name": "stdout",
     "output_type": "stream",
     "text": [
      "\"y\" distribution in % : \n",
      " y\n",
      "no     88.734583\n",
      "yes    11.265417\n",
      "Name: y, dtype: float64\n",
      "\"y\" distribution in instances: \n",
      " y\n",
      "no     36548\n",
      "yes     4640\n",
      "Name: y, dtype: int64\n"
     ]
    }
   ],
   "source": [
    "print('\"y\" distribution in % : \\n', (bank_df.groupby(\"y\")[\"y\"].count())/bank_df.y.count()*100)\n",
    "\n",
    "print('\"y\" distribution in instances: \\n', bank_df.groupby(\"y\")[\"y\"].count())"
   ]
  },
  {
   "cell_type": "code",
   "execution_count": 9,
   "id": "a7ab43b6",
   "metadata": {},
   "outputs": [],
   "source": [
    "y_perc=(bank_df.groupby(\"y\")[\"y\"].count())/bank_df.y.count()*100"
   ]
  },
  {
   "cell_type": "code",
   "execution_count": 10,
   "id": "51e44d4d",
   "metadata": {},
   "outputs": [
    {
     "data": {
      "image/png": "[encoded data removed]",
      "text/plain": [
       "<Figure size 720x360 with 1 Axes>"
      ]
     },
     "metadata": {},
     "output_type": "display_data"
    }
   ],
   "source": [
    "labels=list(y_perc.index)\n",
    "fig = plt.figure(figsize=(10,5)); ax = plt.axes()\n",
    "\n",
    "ax.pie(y_perc ,labels=labels,autopct='%1.2f%%')\n",
    "plt.show()"
   ]
  },
  {
   "cell_type": "markdown",
   "id": "97ce2f3c",
   "metadata": {},
   "source": [
    "The target is unbalanced. No = 88.7% v/s Yes = 11.3%. We will consider this later to apply strategias to avoid the impact of this problem in the model."
   ]
  },
  {
   "cell_type": "markdown",
   "id": "a29001b6",
   "metadata": {},
   "source": [
    "## Outliers detection\n",
    "\n",
    "#### Boxplot view"
   ]
  },
  {
   "cell_type": "code",
   "execution_count": 12,
   "id": "3f1f1b50",
   "metadata": {},
   "outputs": [
    {
     "data": {
      "image/png": "[encoded data removed]",
      "text/plain": [
       "<Figure size 1440x1440 with 10 Axes>"
      ]
     },
     "metadata": {},
     "output_type": "display_data"
    }
   ],
   "source": [
    "plt.figure(figsize = (20,20))\n",
    "plt.subplot(5, 2, 1)\n",
    "sns.boxplot(data = bank_df, x= 'age', palette = 'pink')\n",
    "plt.title('Age boxplot')\n",
    "plt.xlabel('Age')\n",
    "\n",
    "plt.subplot(5, 2, 2)\n",
    "sns.boxplot(data = bank_df, x= 'duration', palette = 'pink')\n",
    "plt.title('Duration boxplot')\n",
    "plt.xlabel('Duration')\n",
    "\n",
    "plt.subplot(5, 2, 3)\n",
    "sns.boxplot(data = bank_df, x= 'campaign', palette = 'pink')\n",
    "plt.title('Campaign boxplot')\n",
    "plt.xlabel('Campaign')\n",
    "\n",
    "plt.subplot(5, 2, 4)\n",
    "sns.boxplot(data = bank_df, x= 'pdays', palette = 'pink')\n",
    "plt.title('pdays boxplot')\n",
    "plt.xlabel('pdays')\n",
    "\n",
    "plt.subplot(5, 2, 5)\n",
    "sns.boxplot(data = bank_df, x= 'previous', palette = 'pink')\n",
    "plt.title('Previous boxplot')\n",
    "plt.xlabel('Previous')\n",
    "\n",
    "plt.subplot(5, 2, 6)\n",
    "sns.boxplot(data = bank_df, x= 'emp.var.rate', palette = 'pink')\n",
    "plt.title('emp.var.rate boxplot')\n",
    "plt.xlabel('emp.var.rate')\n",
    "\n",
    "plt.subplot(5, 2, 7)\n",
    "sns.boxplot(data = bank_df, x= 'cons.price.idx', palette = 'pink')\n",
    "plt.title('cons.price.idx boxplot')\n",
    "plt.xlabel('cons.price.idx')\n",
    "\n",
    "plt.subplot(5, 2, 8)\n",
    "sns.boxplot(data = bank_df, x= 'cons.conf.idx', palette = 'pink')\n",
    "plt.title('cons.conf.idx boxplot')\n",
    "plt.xlabel('cons.conf.idx')\n",
    "\n",
    "plt.subplot(5, 2, 9)\n",
    "sns.boxplot(data = bank_df, x= 'euribor3m', palette = 'pink')\n",
    "plt.title('euribor3m boxplot')\n",
    "plt.xlabel('euribor3m')\n",
    "\n",
    "plt.subplot(5, 2, 10)\n",
    "sns.boxplot(data = bank_df, x= 'nr.employed', palette = 'pink')\n",
    "plt.title('nr.employed boxplot')\n",
    "plt.xlabel('nr.employed')\n",
    "\n",
    "plt.tight_layout()\n",
    "plt.show()"
   ]
  },
  {
   "cell_type": "markdown",
   "id": "24470229",
   "metadata": {},
   "source": [
    "Based on the boxplots (IQR), we can think that variables needing outliers treatment are:\n",
    "\n",
    "- Age\n",
    "- Duration\n",
    "- Campaign\n",
    "\n",
    "As the asignment statement says, \"duration\" highly affects the output target, so we are going to put it aside in the rest of the analysis.\n",
    "\n",
    "Boxplots based on Pdays and Previous are strange, so we will deep a little bit."
   ]
  },
  {
   "cell_type": "code",
   "execution_count": 13,
   "id": "4e46fb73",
   "metadata": {},
   "outputs": [],
   "source": [
    "bank_df.drop(\"duration\",inplace=True,axis=1)"
   ]
  },
  {
   "cell_type": "markdown",
   "id": "b8904c36",
   "metadata": {},
   "source": [
    "#### Pdays\n",
    "\n",
    "Number of days that passed by after the client was last contacted from a previous campaign (numeric; 999 means client was not previously contacted)."
   ]
  },
  {
   "cell_type": "code",
   "execution_count": 14,
   "id": "1a9ddcab",
   "metadata": {},
   "outputs": [
    {
     "name": "stdout",
     "output_type": "stream",
     "text": [
      "pdays_range\n",
      "0-5                       1.711664\n",
      "6-10                      1.471302\n",
      "11-15                     0.403030\n",
      "16-20                     0.072837\n",
      "21-25                     0.014567\n",
      "26-30                     0.004856\n",
      "No previous contacted    96.321744\n",
      "Name: campaign, dtype: float64\n",
      "pdays_range\n",
      "0-5                        705\n",
      "6-10                       606\n",
      "11-15                      166\n",
      "16-20                       30\n",
      "21-25                        6\n",
      "26-30                        2\n",
      "No previous contacted    39673\n",
      "Name: campaign, dtype: int64\n"
     ]
    }
   ],
   "source": [
    "ranges=[-1,5,10,15,20,25,30,1000]\n",
    "labels=[\"0-5\",\"6-10\",\"11-15\",\"16-20\",\"21-25\",\"26-30\",\"No previous contacted\"]\n",
    "\n",
    "bank_df[\"pdays_range\"]=pd.cut(bank_df.pdays,bins= ranges,labels=labels)\n",
    "\n",
    "pdays_range_df=bank_df.groupby(\"pdays_range\")[\"campaign\"].count()\n",
    "\n",
    "pdays_range_df_per=pdays_range_df/(bank_df.campaign.count())*100\n",
    "\n",
    "print(pdays_range_df_per)\n",
    "print(pdays_range_df)"
   ]
  },
  {
   "cell_type": "markdown",
   "id": "eafbc907",
   "metadata": {},
   "source": [
    "We are not considering outliers in this feature because 96% of the clients were not contacted before."
   ]
  },
  {
   "cell_type": "markdown",
   "id": "8cf3c798",
   "metadata": {},
   "source": [
    "#### Previous\n",
    "\n",
    "Number of contacts performed before this campaign and for this client (numeric)."
   ]
  },
  {
   "cell_type": "code",
   "execution_count": 15,
   "id": "314ed3ee",
   "metadata": {},
   "outputs": [
    {
     "data": {
      "text/plain": [
       "previous\n",
       "0    86.343110\n",
       "1    11.073614\n",
       "2     1.830630\n",
       "3     0.524425\n",
       "4     0.169952\n",
       "5     0.043702\n",
       "6     0.012139\n",
       "7     0.002428\n",
       "Name: campaign, dtype: float64"
      ]
     },
     "execution_count": 15,
     "metadata": {},
     "output_type": "execute_result"
    }
   ],
   "source": [
    "(bank_df.groupby(\"previous\")[\"campaign\"].count())/bank_df.campaign.count()*100"
   ]
  },
  {
   "cell_type": "markdown",
   "id": "5c36d80f",
   "metadata": {},
   "source": [
    "We are not considering outliers in this feature because 97% of the clients are in values 0 and 1."
   ]
  },
  {
   "cell_type": "markdown",
   "id": "603fdf93",
   "metadata": {},
   "source": [
    "The reason of avoid outliers treatment in both features, is because we want the model to learn how to treat customers contacted before. They are few, but it is a real possibility. "
   ]
  },
  {
   "cell_type": "markdown",
   "id": "88d5a7b2",
   "metadata": {},
   "source": [
    "### 1) IQR\n"
   ]
  },
  {
   "cell_type": "code",
   "execution_count": 16,
   "id": "c8e43eee",
   "metadata": {},
   "outputs": [],
   "source": [
    "# Outlier filter\n",
    "\n",
    "def remove_outliers(dfx):\n",
    "    q1 = dfx.quantile(0.25)\n",
    "    q3 = dfx.quantile(0.75)\n",
    "    iqr = q3 - q1\n",
    "    cut_off = iqr*1.5\n",
    "    \n",
    "    df_filtred = dfx[~((dfx < (dfx.quantile(0.25) - cut_off)) | (dfx > (dfx.quantile(0.75) + cut_off))).any(axis=1)]\n",
    "    \n",
    "    \n",
    "    return df_filtred"
   ]
  },
  {
   "cell_type": "code",
   "execution_count": 17,
   "id": "bddf9ceb",
   "metadata": {},
   "outputs": [],
   "source": [
    "bank_df_iqr = bank_df.copy()\n",
    "\n",
    "bank_df_iqr = remove_outliers(bank_df_iqr[['age','campaign']])"
   ]
  },
  {
   "cell_type": "code",
   "execution_count": 18,
   "id": "0029813c",
   "metadata": {},
   "outputs": [
    {
     "name": "stdout",
     "output_type": "stream",
     "text": [
      "2861 rows have been eliminated\n"
     ]
    }
   ],
   "source": [
    "print(bank_df.shape[0]-bank_df_iqr.shape[0], 'rows have been eliminated')\n"
   ]
  },
  {
   "cell_type": "code",
   "execution_count": 19,
   "id": "c483c6de",
   "metadata": {},
   "outputs": [],
   "source": [
    "bank_df_iqr.reset_index(drop=True, inplace=True)"
   ]
  },
  {
   "cell_type": "code",
   "execution_count": 20,
   "id": "6bff7faf",
   "metadata": {},
   "outputs": [
    {
     "data": {
      "text/plain": [
       "Text(0.5, 0, 'Campaign')"
      ]
     },
     "execution_count": 20,
     "metadata": {},
     "output_type": "execute_result"
    },
    {
     "data": {
      "image/png": "[encoded data removed]",
      "text/plain": [
       "<Figure size 1440x1440 with 2 Axes>"
      ]
     },
     "metadata": {},
     "output_type": "display_data"
    }
   ],
   "source": [
    "plt.figure(figsize = (20,20))\n",
    "plt.subplot(2, 1, 1)\n",
    "sns.boxplot(data = bank_df_iqr, x= 'age', palette = 'pink')\n",
    "plt.title('Age boxplot')\n",
    "plt.xlabel('Age')\n",
    "\n",
    "plt.subplot(2, 1, 2)\n",
    "sns.boxplot(data = bank_df_iqr, x= 'campaign', palette = 'pink')\n",
    "plt.title('Campaign boxplot')\n",
    "plt.xlabel('Campaign')"
   ]
  },
  {
   "cell_type": "markdown",
   "id": "6f4d2335",
   "metadata": {},
   "source": [
    "## 2) WOE"
   ]
  },
  {
   "cell_type": "code",
   "execution_count": 21,
   "id": "b67c38e4",
   "metadata": {},
   "outputs": [],
   "source": [
    "def iv_woe(data, target, bins=10, show_woe=False):\n",
    "    \n",
    "    #Empty Dataframe\n",
    "    newDF,woeDF = pd.DataFrame(), pd.DataFrame()\n",
    "    \n",
    "    #Extract Column Names\n",
    "    cols = data.columns\n",
    "    \n",
    "    #Run WOE and IV on all the independent variables\n",
    "    for ivars in cols[~cols.isin([target])]:\n",
    "        if (data[ivars].dtype.kind in 'bifc') and (len(np.unique(data[ivars]))>10):\n",
    "            binned_x = pd.qcut(data[ivars], bins,  duplicates='drop')\n",
    "            d0 = pd.DataFrame({'x': binned_x, 'y': data[target]})\n",
    "        else:\n",
    "            d0 = pd.DataFrame({'x': data[ivars], 'y': data[target]})\n",
    "        d = d0.groupby(\"x\", as_index=False).agg({\"y\": [\"count\", \"sum\"]})\n",
    "        d.columns = ['Cutoff', 'N', 'Events']\n",
    "        d['% of Events'] = np.maximum(d['Events'], 0.5) / d['Events'].sum()\n",
    "        d['Non-Events'] = d['N'] - d['Events']\n",
    "        d['% of Non-Events'] = np.maximum(d['Non-Events'], 0.5) / d['Non-Events'].sum()\n",
    "        d['WoE'] = np.log(d['% of Events']/d['% of Non-Events'])\n",
    "        d['IV'] = d['WoE'] * (d['% of Events'] - d['% of Non-Events'])\n",
    "        d.insert(loc=0, column='Variable', value=ivars)\n",
    "        print(\"Information value of \" + ivars + \" is \" + str(round(d['IV'].sum(),6)))\n",
    "        temp =pd.DataFrame({\"Variable\" : [ivars], \"IV\" : [d['IV'].sum()]}, columns = [\"Variable\", \"IV\"])\n",
    "        newDF=pd.concat([newDF,temp], axis=0)\n",
    "        woeDF=pd.concat([woeDF,d], axis=0)\n",
    "\n",
    "        #Show WOE Table\n",
    "        if show_woe == True:\n",
    "            print(d)\n",
    "    return newDF, woeDF"
   ]
  },
  {
   "cell_type": "code",
   "execution_count": 22,
   "id": "b6cdcf00",
   "metadata": {},
   "outputs": [
    {
     "data": {
      "text/plain": [
       "no     36548\n",
       "yes     4640\n",
       "Name: y, dtype: int64"
      ]
     },
     "execution_count": 22,
     "metadata": {},
     "output_type": "execute_result"
    }
   ],
   "source": [
    "#Binarization of target \n",
    "\n",
    "bank_df['y'].value_counts()"
   ]
  },
  {
   "cell_type": "code",
   "execution_count": 23,
   "id": "40878665",
   "metadata": {},
   "outputs": [
    {
     "data": {
      "text/plain": [
       "0    36548\n",
       "1     4640\n",
       "Name: y, dtype: int64"
      ]
     },
     "execution_count": 23,
     "metadata": {},
     "output_type": "execute_result"
    }
   ],
   "source": [
    "aux = bank_df['y'] == 'no'\n",
    "aux1 = bank_df['y'] == 'yes'\n",
    "\n",
    "#CONVIERTO\n",
    "bank_df.at[aux, 'y'] = 0\n",
    "bank_df.at[aux1, 'y'] = 1\n",
    "\n",
    "bank_df['y'].value_counts()"
   ]
  },
  {
   "cell_type": "code",
   "execution_count": 24,
   "id": "51fda056",
   "metadata": {},
   "outputs": [
    {
     "name": "stdout",
     "output_type": "stream",
     "text": [
      "Information value of age is 0.139397\n",
      "  Variable          Cutoff     N  Events  % of Events  Non-Events  \\\n",
      "0      age  (16.999, 28.0]  4216     736     0.158621        3480   \n",
      "1      age    (28.0, 31.0]  5114     608     0.131034        4506   \n",
      "2      age    (31.0, 33.0]  3679     394     0.084914        3285   \n",
      "3      age    (33.0, 35.0]  3504     351     0.075647        3153   \n",
      "4      age    (35.0, 38.0]  4662     434     0.093534        4228   \n",
      "5      age    (38.0, 41.0]  3871     311     0.067026        3560   \n",
      "6      age    (41.0, 45.0]  4311     348     0.075000        3963   \n",
      "7      age    (45.0, 49.0]  3776     289     0.062284        3487   \n",
      "8      age    (49.0, 55.0]  4473     428     0.092241        4045   \n",
      "9      age    (55.0, 98.0]  3582     741     0.159698        2841   \n",
      "\n",
      "   % of Non-Events       WoE        IV  \n",
      "0         0.095217  0.510355  0.032358  \n",
      "1         0.123290  0.060922  0.000472  \n",
      "2         0.089882 -0.056859  0.000282  \n",
      "3         0.086270 -0.131411  0.001396  \n",
      "4         0.115683 -0.212528  0.004707  \n",
      "5         0.097406 -0.373811  0.011356  \n",
      "6         0.108433 -0.368642  0.012325  \n",
      "7         0.095409 -0.426458  0.014126  \n",
      "8         0.110676 -0.182202  0.003359  \n",
      "9         0.077733  0.720001  0.059015  \n",
      "Information value of job is 0.188713\n",
      "   Variable         Cutoff      N  Events  % of Events  Non-Events  \\\n",
      "0       job         admin.  10422    1352     0.291379        9070   \n",
      "1       job    blue-collar   9254     638     0.137500        8616   \n",
      "2       job   entrepreneur   1456     124     0.026724        1332   \n",
      "3       job      housemaid   1060     106     0.022845         954   \n",
      "4       job     management   2924     328     0.070690        2596   \n",
      "5       job        retired   1720     434     0.093534        1286   \n",
      "6       job  self-employed   1421     149     0.032112        1272   \n",
      "7       job       services   3969     323     0.069612        3646   \n",
      "8       job        student    875     275     0.059267         600   \n",
      "9       job     technician   6743     730     0.157328        6013   \n",
      "10      job     unemployed   1014     144     0.031034         870   \n",
      "11      job        unknown    330      37     0.007974         293   \n",
      "\n",
      "    % of Non-Events       WoE            IV  \n",
      "0          0.248167  0.160525  6.936681e-03  \n",
      "1          0.235745 -0.539126  5.296630e-02  \n",
      "2          0.036445 -0.310243  3.015900e-03  \n",
      "3          0.026103 -0.133312  4.343096e-04  \n",
      "4          0.071030 -0.004801  1.633538e-06  \n",
      "5          0.035187  0.977665  5.704466e-02  \n",
      "6          0.034804 -0.080487  2.166298e-04  \n",
      "7          0.099759 -0.359822  1.084759e-02  \n",
      "8          0.016417  1.283754  5.500945e-02  \n",
      "9          0.164523 -0.044722  3.218128e-04  \n",
      "10         0.023804  0.265232  1.917674e-03  \n",
      "11         0.008017 -0.005343  2.282177e-07  \n",
      "Information value of marital is 0.028215\n",
      "  Variable    Cutoff      N  Events  % of Events  Non-Events  % of Non-Events  \\\n",
      "0  marital  divorced   4612     476     0.102586        4136         0.113166   \n",
      "1  marital   married  24928    2532     0.545690       22396         0.612783   \n",
      "2  marital    single  11568    1620     0.349138        9948         0.272190   \n",
      "3  marital   unknown     80      12     0.002586          68         0.001861   \n",
      "\n",
      "        WoE        IV  \n",
      "0 -0.098154  0.001038  \n",
      "1 -0.115961  0.007780  \n",
      "2  0.248967  0.019157  \n",
      "3  0.329311  0.000239  \n",
      "Information value of education is 0.048576\n",
      "    Variable               Cutoff      N  Events  % of Events  Non-Events  \\\n",
      "0  education             basic.4y   4176     428     0.092241        3748   \n",
      "1  education             basic.6y   2292     188     0.040517        2104   \n",
      "2  education             basic.9y   6045     473     0.101940        5572   \n",
      "3  education          high.school   9515    1031     0.222198        8484   \n",
      "4  education           illiterate     18       4     0.000862          14   \n",
      "5  education  professional.course   5243     595     0.128233        4648   \n",
      "6  education    university.degree  12168    1670     0.359914       10498   \n",
      "7  education              unknown   1731     251     0.054095        1480   \n",
      "\n",
      "   % of Non-Events       WoE        IV  \n",
      "0         0.102550 -0.105942  0.001092  \n",
      "1         0.057568 -0.351242  0.005989  \n",
      "2         0.152457 -0.402502  0.020333  \n",
      "3         0.232133 -0.043741  0.000435  \n",
      "4         0.000383  0.811149  0.000389  \n",
      "5         0.127175  0.008281  0.000009  \n",
      "6         0.287239  0.225551  0.016392  \n",
      "7         0.040495  0.289568  0.003938  \n",
      "Information value of default is 0.127776\n",
      "  Variable   Cutoff      N  Events  % of Events  Non-Events  % of Non-Events  \\\n",
      "0  default       no  32588    4197     0.904526       28391         0.776814   \n",
      "1  default  unknown   8597     443     0.095474        8154         0.223104   \n",
      "2  default      yes      3       0     0.000108           3         0.000082   \n",
      "\n",
      "        WoE        IV  \n",
      "0  0.152210  0.019439  \n",
      "1 -0.848782  0.108330  \n",
      "2  0.272153  0.000007  \n",
      "Information value of housing is 0.001383\n",
      "  Variable   Cutoff      N  Events  % of Events  Non-Events  % of Non-Events  \\\n",
      "0  housing       no  18622    2026     0.436638       16596         0.454088   \n",
      "1  housing  unknown    990     107     0.023060         883         0.024160   \n",
      "2  housing      yes  21576    2507     0.540302       19069         0.521752   \n",
      "\n",
      "        WoE        IV  \n",
      "0 -0.039186  0.000684  \n",
      "1 -0.046584  0.000051  \n",
      "2  0.034935  0.000648  \n",
      "Information value of loan is 0.000269\n",
      "  Variable   Cutoff      N  Events  % of Events  Non-Events  % of Non-Events  \\\n",
      "0     loan       no  33950    3850     0.829741       30100         0.823574   \n",
      "1     loan  unknown    990     107     0.023060         883         0.024160   \n",
      "2     loan      yes   6248     683     0.147198        5565         0.152266   \n",
      "\n",
      "        WoE        IV  \n",
      "0  0.007460  0.000046  \n",
      "1 -0.046584  0.000051  \n",
      "2 -0.033845  0.000172  \n",
      "Information value of contact is 0.251663\n",
      "  Variable     Cutoff      N  Events  % of Events  Non-Events  \\\n",
      "0  contact   cellular  26144    3853     0.830388       22291   \n",
      "1  contact  telephone  15044     787     0.169612       14257   \n",
      "\n",
      "   % of Non-Events       WoE        IV  \n",
      "0          0.60991  0.308581  0.068035  \n",
      "1          0.39009 -0.832863  0.183628  \n",
      "Information value of month is 0.485117\n",
      "  Variable Cutoff      N  Events  % of Events  Non-Events  % of Non-Events  \\\n",
      "0    month    apr   2632     539     0.116164        2093         0.057267   \n",
      "1    month    aug   6178     655     0.141164        5523         0.151116   \n",
      "2    month    dec    182      89     0.019181          93         0.002545   \n",
      "3    month    jul   7174     649     0.139871        6525         0.178532   \n",
      "4    month    jun   5318     559     0.120474        4759         0.130212   \n",
      "5    month    mar    546     276     0.059483         270         0.007388   \n",
      "6    month    may  13769     886     0.190948       12883         0.352495   \n",
      "7    month    nov   4101     416     0.089655        3685         0.100826   \n",
      "8    month    oct    718     315     0.067888         403         0.011027   \n",
      "9    month    sep    570     256     0.055172         314         0.008591   \n",
      "\n",
      "        WoE        IV  \n",
      "0  0.707274  0.041656  \n",
      "1 -0.068129  0.000678  \n",
      "2  2.019949  0.033605  \n",
      "3 -0.244051  0.009435  \n",
      "4 -0.077731  0.000757  \n",
      "5  2.085891  0.108665  \n",
      "6 -0.613035  0.099034  \n",
      "7 -0.117428  0.001312  \n",
      "8  1.817548  0.103348  \n",
      "9  1.859697  0.086626  \n",
      "Information value of day_of_week is 0.006493\n",
      "      Variable Cutoff     N  Events  % of Events  Non-Events  % of Non-Events  \\\n",
      "0  day_of_week    fri  7827     846     0.182328        6981         0.191009   \n",
      "1  day_of_week    mon  8514     847     0.182543        7667         0.209779   \n",
      "2  day_of_week    thu  8623    1045     0.225216        7578         0.207344   \n",
      "3  day_of_week    tue  8090     953     0.205388        7137         0.195277   \n",
      "4  day_of_week    wed  8134     949     0.204526        7185         0.196591   \n",
      "\n",
      "        WoE        IV  \n",
      "0 -0.046516  0.000404  \n",
      "1 -0.139068  0.003788  \n",
      "2  0.082680  0.001478  \n",
      "3  0.050479  0.000510  \n",
      "4  0.039570  0.000314  \n",
      "Information value of campaign is 0.054246\n",
      "   Variable        Cutoff      N  Events  % of Events  Non-Events  \\\n",
      "0  campaign  (0.999, 2.0]  28212    3511     0.756681       24701   \n",
      "1  campaign    (2.0, 3.0]   5341     574     0.123707        4767   \n",
      "2  campaign    (3.0, 5.0]   4250     369     0.079526        3881   \n",
      "3  campaign   (5.0, 56.0]   3385     186     0.040086        3199   \n",
      "\n",
      "   % of Non-Events       WoE        IV  \n",
      "0         0.675851  0.112969  0.009131  \n",
      "1         0.130431 -0.052931  0.000356  \n",
      "2         0.106189 -0.289139  0.007709  \n",
      "3         0.087529 -0.780935  0.037050  \n",
      "Information value of pdays is 0.0\n",
      "  Variable           Cutoff      N  Events  % of Events  Non-Events  \\\n",
      "0    pdays  (-0.001, 999.0]  41188    4640          1.0       36548   \n",
      "\n",
      "   % of Non-Events  WoE   IV  \n",
      "0              1.0  0.0  0.0  \n",
      "Information value of previous is 0.3505\n",
      "   Variable  Cutoff      N  Events  % of Events  Non-Events  % of Non-Events  \\\n",
      "0  previous       0  35563    3141     0.676940       32422         0.887107   \n",
      "1  previous       1   4561     967     0.208405        3594         0.098336   \n",
      "2  previous       2    754     350     0.075431         404         0.011054   \n",
      "3  previous       3    216     128     0.027586          88         0.002408   \n",
      "4  previous       4     70      38     0.008190          32         0.000876   \n",
      "5  previous       5     18      13     0.002802           5         0.000137   \n",
      "6  previous       6      5       3     0.000647           2         0.000055   \n",
      "7  previous       7      1       0     0.000108           1         0.000027   \n",
      "\n",
      "        WoE        IV  \n",
      "0 -0.270384  0.056826  \n",
      "1  0.751090  0.082671  \n",
      "2  1.920430  0.123632  \n",
      "3  2.438606  0.061400  \n",
      "4  2.235762  0.016353  \n",
      "5  3.019424  0.008047  \n",
      "6  2.469377  0.001461  \n",
      "7  1.370765  0.000110  \n",
      "Information value of poutcome is 0.547671\n",
      "   Variable       Cutoff      N  Events  % of Events  Non-Events  \\\n",
      "0  poutcome      failure   4252     605     0.130388        3647   \n",
      "1  poutcome  nonexistent  35563    3141     0.676940       32422   \n",
      "2  poutcome      success   1373     894     0.192672         479   \n",
      "\n",
      "   % of Non-Events       WoE        IV  \n",
      "0         0.099787  0.267480  0.008185  \n",
      "1         0.887107 -0.270384  0.056826  \n",
      "2         0.013106  2.687917  0.482660  \n"
     ]
    },
    {
     "name": "stdout",
     "output_type": "stream",
     "text": [
      "Information value of emp.var.rate is 1.06975\n",
      "       Variable  Cutoff      N  Events  % of Events  Non-Events  \\\n",
      "0  emp.var.rate    -3.4   1071     454     0.097845         617   \n",
      "1  emp.var.rate    -3.0    172      88     0.018966          84   \n",
      "2  emp.var.rate    -2.9   1663     594     0.128017        1069   \n",
      "3  emp.var.rate    -1.8   9184    1461     0.314871        7723   \n",
      "4  emp.var.rate    -1.7    773     403     0.086853         370   \n",
      "5  emp.var.rate    -1.1    635     301     0.064871         334   \n",
      "6  emp.var.rate    -0.2     10       1     0.000216           9   \n",
      "7  emp.var.rate    -0.1   3683     232     0.050000        3451   \n",
      "8  emp.var.rate     1.1   7763     240     0.051724        7523   \n",
      "9  emp.var.rate     1.4  16234     866     0.186638       15368   \n",
      "\n",
      "   % of Non-Events       WoE        IV  \n",
      "0         0.016882  1.757140  0.142263  \n",
      "1         0.002298  2.110432  0.035175  \n",
      "2         0.029249  1.476313  0.145812  \n",
      "3         0.211311  0.398830  0.041303  \n",
      "4         0.010124  2.149346  0.164919  \n",
      "5         0.009139  1.959881  0.109228  \n",
      "6         0.000246 -0.133312  0.000004  \n",
      "7         0.094424 -0.635770  0.028243  \n",
      "8         0.205839 -1.381169  0.212859  \n",
      "9         0.420488 -0.812246  0.189944  \n",
      "Information value of cons.price.idx is 0.440236\n",
      "         Variable                       Cutoff     N  Events  % of Events  \\\n",
      "0  cons.price.idx  (92.19999999999999, 92.893]  8277    1523     0.328233   \n",
      "1  cons.price.idx               (92.893, 93.2]  6789     896     0.193103   \n",
      "2  cons.price.idx               (93.2, 93.444]  5439     421     0.090733   \n",
      "3  cons.price.idx             (93.444, 93.749]   174      97     0.020905   \n",
      "4  cons.price.idx             (93.749, 93.918]  6964     571     0.123060   \n",
      "5  cons.price.idx             (93.918, 93.994]  7763     240     0.051724   \n",
      "6  cons.price.idx             (93.994, 94.465]  5450     741     0.159698   \n",
      "7  cons.price.idx             (94.465, 94.767]   332     151     0.032543   \n",
      "\n",
      "   Non-Events  % of Non-Events       WoE        IV  \n",
      "0        6754         0.184798  0.574459  0.082397  \n",
      "1        5893         0.161240  0.180332  0.005746  \n",
      "2        5018         0.137299 -0.414242  0.019290  \n",
      "3          77         0.002107  2.294818  0.043139  \n",
      "4        6393         0.174921 -0.351658  0.018237  \n",
      "5        7523         0.205839 -1.381169  0.212859  \n",
      "6        4709         0.128844  0.214682  0.006624  \n",
      "7         181         0.004952  1.882695  0.051945  \n",
      "Information value of cons.conf.idx is 0.86074\n",
      "        Variable                        Cutoff     N  Events  % of Events  \\\n",
      "0  cons.conf.idx  (-50.800999999999995, -46.2]  8866    1243     0.267888   \n",
      "1  cons.conf.idx                (-46.2, -42.7]  6695     408     0.087931   \n",
      "2  cons.conf.idx                (-42.7, -42.0]  3616     190     0.040948   \n",
      "3  cons.conf.idx                (-42.0, -41.8]  4374     188     0.040517   \n",
      "4  cons.conf.idx                (-41.8, -40.0]  1305     604     0.130172   \n",
      "5  cons.conf.idx                (-40.0, -36.4]  8528     617     0.132974   \n",
      "6  cons.conf.idx                (-36.4, -36.1]  5175     271     0.058405   \n",
      "7  cons.conf.idx                (-36.1, -26.9]  2629    1119     0.241164   \n",
      "\n",
      "   Non-Events  % of Non-Events       WoE        IV  \n",
      "0        7623         0.208575  0.250270  0.014844  \n",
      "1        6287         0.172020 -0.671060  0.056429  \n",
      "2        3426         0.093740 -0.828213  0.043723  \n",
      "3        4186         0.114534 -1.039147  0.076915  \n",
      "4         701         0.019180  1.914978  0.212548  \n",
      "5        7911         0.216455 -0.487228  0.040674  \n",
      "6        4904         0.134180 -0.831776  0.063027  \n",
      "7        1510         0.041316  1.764238  0.352580  \n",
      "Information value of euribor3m is 1.046047\n",
      "    Variable          Cutoff     N  Events  % of Events  Non-Events  \\\n",
      "0  euribor3m  (0.633, 1.046]  4128    1895     0.408405        2233   \n",
      "1  euribor3m  (1.046, 1.299]  4508     666     0.143534        3842   \n",
      "2  euribor3m   (1.299, 1.41]  3926     494     0.106466        3432   \n",
      "3  euribor3m   (1.41, 4.191]  4504     415     0.089440        4089   \n",
      "4  euribor3m  (4.191, 4.857]  4989     156     0.033621        4833   \n",
      "5  euribor3m  (4.857, 4.864]  3457     150     0.032328        3307   \n",
      "6  euribor3m   (4.864, 4.96]  3983     235     0.050647        3748   \n",
      "7  euribor3m   (4.96, 4.962]  4515     234     0.050431        4281   \n",
      "8  euribor3m  (4.962, 4.964]  3662     181     0.039009        3481   \n",
      "9  euribor3m  (4.964, 5.045]  3516     214     0.046121        3302   \n",
      "\n",
      "   % of Non-Events       WoE        IV  \n",
      "0         0.061098  1.899785  0.659809  \n",
      "1         0.105122  0.311453  0.011964  \n",
      "2         0.093904  0.125549  0.001577  \n",
      "3         0.111880 -0.223865  0.005024  \n",
      "4         0.132237 -1.369455  0.135051  \n",
      "5         0.090484 -1.029249  0.059857  \n",
      "6         0.102550 -0.705480  0.036617  \n",
      "7         0.117134 -0.842709  0.056211  \n",
      "8         0.095245 -0.892666  0.050200  \n",
      "9         0.090347 -0.672396  0.029738  \n",
      "Information value of nr.employed is 1.173723\n",
      "      Variable              Cutoff      N  Events  % of Events  Non-Events  \\\n",
      "0  nr.employed  (4963.599, 5076.2]   4964    2209     0.476078        2755   \n",
      "1  nr.employed    (5076.2, 5099.1]   8534    1092     0.235345        7442   \n",
      "2  nr.employed    (5099.1, 5191.0]   7773     241     0.051940        7532   \n",
      "3  nr.employed    (5191.0, 5195.8]   3683     232     0.050000        3451   \n",
      "4  nr.employed    (5195.8, 5228.1]  16234     866     0.186638       15368   \n",
      "\n",
      "   % of Non-Events       WoE        IV  \n",
      "0         0.075380  1.843035  0.738499  \n",
      "1         0.203623  0.144783  0.004593  \n",
      "2         0.206085 -1.378207  0.212444  \n",
      "3         0.094424 -0.635770  0.028243  \n",
      "4         0.420488 -0.812246  0.189944  \n",
      "Information value of pdays_range is 0.554801\n",
      "      Variable                 Cutoff      N  Events  % of Events  Non-Events  \\\n",
      "0  pdays_range                    0-5    705     445     0.095905         260   \n",
      "1  pdays_range                   6-10    606     406     0.087500         200   \n",
      "2  pdays_range                  11-15    166      96     0.020690          70   \n",
      "3  pdays_range                  16-20     30      13     0.002802          17   \n",
      "4  pdays_range                  21-25      6       5     0.001078           1   \n",
      "5  pdays_range                  26-30      2       2     0.000431           0   \n",
      "6  pdays_range  No previous contacted  39673    3673     0.791595       36000   \n",
      "\n",
      "   % of Non-Events       WoE        IV  \n",
      "0         0.007114  2.601305  0.230973  \n",
      "1         0.005472  2.771948  0.227377  \n",
      "2         0.001915  2.379765  0.044679  \n",
      "3         0.000465  1.795648  0.004196  \n",
      "4         0.000027  3.673350  0.003858  \n",
      "5         0.000014  3.450206  0.001440  \n",
      "6         0.985006 -0.218598  0.042279  \n"
     ]
    }
   ],
   "source": [
    "iv, woe = iv_woe(data = bank_df, target = 'y', bins=10, show_woe = True)\n"
   ]
  },
  {
   "cell_type": "code",
   "execution_count": 25,
   "id": "120c9b7a",
   "metadata": {},
   "outputs": [
    {
     "name": "stdout",
     "output_type": "stream",
     "text": [
      "         Variable        IV\n",
      "0             age  0.139397\n",
      "0             job  0.188713\n",
      "0         marital  0.028215\n",
      "0       education  0.048576\n",
      "0         default  0.127776\n",
      "0         housing  0.001383\n",
      "0            loan  0.000269\n",
      "0         contact  0.251663\n",
      "0           month  0.485117\n",
      "0     day_of_week  0.006493\n",
      "0        campaign  0.054246\n",
      "0           pdays  0.000000\n",
      "0        previous  0.350500\n",
      "0        poutcome  0.547671\n",
      "0    emp.var.rate  1.069750\n",
      "0  cons.price.idx  0.440236\n",
      "0   cons.conf.idx  0.860740\n",
      "0       euribor3m  1.046047\n",
      "0     nr.employed  1.173723\n",
      "0     pdays_range  0.554801\n"
     ]
    }
   ],
   "source": [
    "print(iv)\n"
   ]
  },
  {
   "attachments": {
    "5652171839c0a522c2bb895d9fb18073.png": {
     "image/png": "[encoded data removed]"
    }
   },
   "cell_type": "markdown",
   "id": "f154e3db",
   "metadata": {},
   "source": [
    "![5652171839c0a522c2bb895d9fb18073.png](attachment:5652171839c0a522c2bb895d9fb18073.png)"
   ]
  },
  {
   "cell_type": "markdown",
   "id": "f5edd3f3",
   "metadata": {},
   "source": [
    "According to previous table:\n",
    "\n",
    "- Useless for prediction: [\"housing\", \"loan\", \"day_of_week\", \"pdays\"]\n",
    "- Weak predictor: [\"marital\", \"education\", \"campaign\"]\n",
    "- Medium predictor: [\"age\", \"job\", \"contact\",\"default\"]\n",
    "- Strong predictor: [\"month\", \"previous\", \"cons.price.idx\"]\n",
    "- Suspicious or too good predictor: [\"nr.employed\", \"euribor3m\", \"cons.conf.idx\", \"emp.var.rate\", \"poutcome\", \"pdays_range\" (created feature)]"
   ]
  },
  {
   "cell_type": "markdown",
   "id": "f1198c41",
   "metadata": {},
   "source": [
    "### Replacement with WOE values\n",
    "\n",
    "As we said before, we will treat \"age\" and \"campaign\"."
   ]
  },
  {
   "cell_type": "code",
   "execution_count": 26,
   "id": "b6085187",
   "metadata": {},
   "outputs": [],
   "source": [
    "#Creation of dataframe for WOE\n",
    "\n",
    "bank_df_woe= bank_df.copy()"
   ]
  },
  {
   "cell_type": "code",
   "execution_count": 27,
   "id": "46a4fac1",
   "metadata": {},
   "outputs": [
    {
     "data": {
      "text/plain": [
       "(       age\n",
       " 0       56\n",
       " 1       57\n",
       " 2       37\n",
       " 3       40\n",
       " 4       56\n",
       " ...    ...\n",
       " 41183   73\n",
       " 41184   46\n",
       " 41185   56\n",
       " 41186   44\n",
       " 41187   74\n",
       " \n",
       " [41188 rows x 1 columns],\n",
       " Index(['age'], dtype='object'))"
      ]
     },
     "execution_count": 27,
     "metadata": {},
     "output_type": "execute_result"
    }
   ],
   "source": [
    "# AGE\n",
    "#CREATE A DATAFRAME\n",
    "age= pd.DataFrame(bank_df_woe['age'])\n",
    "age.columns = ['age']\n",
    "age, age.columns"
   ]
  },
  {
   "cell_type": "code",
   "execution_count": 28,
   "id": "8ec1eb9a",
   "metadata": {},
   "outputs": [
    {
     "data": {
      "text/html": [
       "<div>\n",
       "<style scoped>\n",
       "    .dataframe tbody tr th:only-of-type {\n",
       "        vertical-align: middle;\n",
       "    }\n",
       "\n",
       "    .dataframe tbody tr th {\n",
       "        vertical-align: top;\n",
       "    }\n",
       "\n",
       "    .dataframe thead th {\n",
       "        text-align: right;\n",
       "    }\n",
       "</style>\n",
       "<table border=\"1\" class=\"dataframe\">\n",
       "  <thead>\n",
       "    <tr style=\"text-align: right;\">\n",
       "      <th></th>\n",
       "      <th>Variable</th>\n",
       "      <th>Cutoff</th>\n",
       "      <th>N</th>\n",
       "      <th>Events</th>\n",
       "      <th>% of Events</th>\n",
       "      <th>Non-Events</th>\n",
       "      <th>% of Non-Events</th>\n",
       "      <th>WoE</th>\n",
       "      <th>IV</th>\n",
       "    </tr>\n",
       "  </thead>\n",
       "  <tbody>\n",
       "    <tr>\n",
       "      <th>0</th>\n",
       "      <td>age</td>\n",
       "      <td>(16.999, 28.0]</td>\n",
       "      <td>4216</td>\n",
       "      <td>736</td>\n",
       "      <td>0.158621</td>\n",
       "      <td>3480</td>\n",
       "      <td>0.095217</td>\n",
       "      <td>0.510355</td>\n",
       "      <td>0.032358</td>\n",
       "    </tr>\n",
       "    <tr>\n",
       "      <th>1</th>\n",
       "      <td>age</td>\n",
       "      <td>(28.0, 31.0]</td>\n",
       "      <td>5114</td>\n",
       "      <td>608</td>\n",
       "      <td>0.131034</td>\n",
       "      <td>4506</td>\n",
       "      <td>0.123290</td>\n",
       "      <td>0.060922</td>\n",
       "      <td>0.000472</td>\n",
       "    </tr>\n",
       "    <tr>\n",
       "      <th>2</th>\n",
       "      <td>age</td>\n",
       "      <td>(31.0, 33.0]</td>\n",
       "      <td>3679</td>\n",
       "      <td>394</td>\n",
       "      <td>0.084914</td>\n",
       "      <td>3285</td>\n",
       "      <td>0.089882</td>\n",
       "      <td>-0.056859</td>\n",
       "      <td>0.000282</td>\n",
       "    </tr>\n",
       "    <tr>\n",
       "      <th>3</th>\n",
       "      <td>age</td>\n",
       "      <td>(33.0, 35.0]</td>\n",
       "      <td>3504</td>\n",
       "      <td>351</td>\n",
       "      <td>0.075647</td>\n",
       "      <td>3153</td>\n",
       "      <td>0.086270</td>\n",
       "      <td>-0.131411</td>\n",
       "      <td>0.001396</td>\n",
       "    </tr>\n",
       "    <tr>\n",
       "      <th>4</th>\n",
       "      <td>age</td>\n",
       "      <td>(35.0, 38.0]</td>\n",
       "      <td>4662</td>\n",
       "      <td>434</td>\n",
       "      <td>0.093534</td>\n",
       "      <td>4228</td>\n",
       "      <td>0.115683</td>\n",
       "      <td>-0.212528</td>\n",
       "      <td>0.004707</td>\n",
       "    </tr>\n",
       "    <tr>\n",
       "      <th>5</th>\n",
       "      <td>age</td>\n",
       "      <td>(38.0, 41.0]</td>\n",
       "      <td>3871</td>\n",
       "      <td>311</td>\n",
       "      <td>0.067026</td>\n",
       "      <td>3560</td>\n",
       "      <td>0.097406</td>\n",
       "      <td>-0.373811</td>\n",
       "      <td>0.011356</td>\n",
       "    </tr>\n",
       "    <tr>\n",
       "      <th>6</th>\n",
       "      <td>age</td>\n",
       "      <td>(41.0, 45.0]</td>\n",
       "      <td>4311</td>\n",
       "      <td>348</td>\n",
       "      <td>0.075000</td>\n",
       "      <td>3963</td>\n",
       "      <td>0.108433</td>\n",
       "      <td>-0.368642</td>\n",
       "      <td>0.012325</td>\n",
       "    </tr>\n",
       "    <tr>\n",
       "      <th>7</th>\n",
       "      <td>age</td>\n",
       "      <td>(45.0, 49.0]</td>\n",
       "      <td>3776</td>\n",
       "      <td>289</td>\n",
       "      <td>0.062284</td>\n",
       "      <td>3487</td>\n",
       "      <td>0.095409</td>\n",
       "      <td>-0.426458</td>\n",
       "      <td>0.014126</td>\n",
       "    </tr>\n",
       "    <tr>\n",
       "      <th>8</th>\n",
       "      <td>age</td>\n",
       "      <td>(49.0, 55.0]</td>\n",
       "      <td>4473</td>\n",
       "      <td>428</td>\n",
       "      <td>0.092241</td>\n",
       "      <td>4045</td>\n",
       "      <td>0.110676</td>\n",
       "      <td>-0.182202</td>\n",
       "      <td>0.003359</td>\n",
       "    </tr>\n",
       "    <tr>\n",
       "      <th>9</th>\n",
       "      <td>age</td>\n",
       "      <td>(55.0, 98.0]</td>\n",
       "      <td>3582</td>\n",
       "      <td>741</td>\n",
       "      <td>0.159698</td>\n",
       "      <td>2841</td>\n",
       "      <td>0.077733</td>\n",
       "      <td>0.720001</td>\n",
       "      <td>0.059015</td>\n",
       "    </tr>\n",
       "  </tbody>\n",
       "</table>\n",
       "</div>"
      ],
      "text/plain": [
       "  Variable          Cutoff     N  Events  % of Events  Non-Events  \\\n",
       "0      age  (16.999, 28.0]  4216     736     0.158621        3480   \n",
       "1      age    (28.0, 31.0]  5114     608     0.131034        4506   \n",
       "2      age    (31.0, 33.0]  3679     394     0.084914        3285   \n",
       "3      age    (33.0, 35.0]  3504     351     0.075647        3153   \n",
       "4      age    (35.0, 38.0]  4662     434     0.093534        4228   \n",
       "5      age    (38.0, 41.0]  3871     311     0.067026        3560   \n",
       "6      age    (41.0, 45.0]  4311     348     0.075000        3963   \n",
       "7      age    (45.0, 49.0]  3776     289     0.062284        3487   \n",
       "8      age    (49.0, 55.0]  4473     428     0.092241        4045   \n",
       "9      age    (55.0, 98.0]  3582     741     0.159698        2841   \n",
       "\n",
       "   % of Non-Events       WoE        IV  \n",
       "0         0.095217  0.510355  0.032358  \n",
       "1         0.123290  0.060922  0.000472  \n",
       "2         0.089882 -0.056859  0.000282  \n",
       "3         0.086270 -0.131411  0.001396  \n",
       "4         0.115683 -0.212528  0.004707  \n",
       "5         0.097406 -0.373811  0.011356  \n",
       "6         0.108433 -0.368642  0.012325  \n",
       "7         0.095409 -0.426458  0.014126  \n",
       "8         0.110676 -0.182202  0.003359  \n",
       "9         0.077733  0.720001  0.059015  "
      ]
     },
     "execution_count": 28,
     "metadata": {},
     "output_type": "execute_result"
    }
   ],
   "source": [
    "age_table = woe[:10]\n",
    "age_table"
   ]
  },
  {
   "cell_type": "code",
   "execution_count": 29,
   "id": "2172af91",
   "metadata": {},
   "outputs": [
    {
     "data": {
      "text/html": [
       "<div>\n",
       "<style scoped>\n",
       "    .dataframe tbody tr th:only-of-type {\n",
       "        vertical-align: middle;\n",
       "    }\n",
       "\n",
       "    .dataframe tbody tr th {\n",
       "        vertical-align: top;\n",
       "    }\n",
       "\n",
       "    .dataframe thead th {\n",
       "        text-align: right;\n",
       "    }\n",
       "</style>\n",
       "<table border=\"1\" class=\"dataframe\">\n",
       "  <thead>\n",
       "    <tr style=\"text-align: right;\">\n",
       "      <th></th>\n",
       "      <th>intervals</th>\n",
       "      <th>left</th>\n",
       "      <th>right</th>\n",
       "      <th>WOE</th>\n",
       "    </tr>\n",
       "  </thead>\n",
       "  <tbody>\n",
       "    <tr>\n",
       "      <th>0</th>\n",
       "      <td>(16.999, 28.0]</td>\n",
       "      <td>16.999</td>\n",
       "      <td>28.0</td>\n",
       "      <td>0.510355</td>\n",
       "    </tr>\n",
       "    <tr>\n",
       "      <th>1</th>\n",
       "      <td>(28.0, 31.0]</td>\n",
       "      <td>28.000</td>\n",
       "      <td>31.0</td>\n",
       "      <td>0.060922</td>\n",
       "    </tr>\n",
       "    <tr>\n",
       "      <th>2</th>\n",
       "      <td>(31.0, 33.0]</td>\n",
       "      <td>31.000</td>\n",
       "      <td>33.0</td>\n",
       "      <td>-0.056859</td>\n",
       "    </tr>\n",
       "    <tr>\n",
       "      <th>3</th>\n",
       "      <td>(33.0, 35.0]</td>\n",
       "      <td>33.000</td>\n",
       "      <td>35.0</td>\n",
       "      <td>-0.131411</td>\n",
       "    </tr>\n",
       "    <tr>\n",
       "      <th>4</th>\n",
       "      <td>(35.0, 38.0]</td>\n",
       "      <td>35.000</td>\n",
       "      <td>38.0</td>\n",
       "      <td>-0.212528</td>\n",
       "    </tr>\n",
       "    <tr>\n",
       "      <th>5</th>\n",
       "      <td>(38.0, 41.0]</td>\n",
       "      <td>38.000</td>\n",
       "      <td>41.0</td>\n",
       "      <td>-0.373811</td>\n",
       "    </tr>\n",
       "    <tr>\n",
       "      <th>6</th>\n",
       "      <td>(41.0, 45.0]</td>\n",
       "      <td>41.000</td>\n",
       "      <td>45.0</td>\n",
       "      <td>-0.368642</td>\n",
       "    </tr>\n",
       "    <tr>\n",
       "      <th>7</th>\n",
       "      <td>(45.0, 49.0]</td>\n",
       "      <td>45.000</td>\n",
       "      <td>49.0</td>\n",
       "      <td>-0.426458</td>\n",
       "    </tr>\n",
       "    <tr>\n",
       "      <th>8</th>\n",
       "      <td>(49.0, 55.0]</td>\n",
       "      <td>49.000</td>\n",
       "      <td>55.0</td>\n",
       "      <td>-0.182202</td>\n",
       "    </tr>\n",
       "    <tr>\n",
       "      <th>9</th>\n",
       "      <td>(55.0, 98.0]</td>\n",
       "      <td>55.000</td>\n",
       "      <td>98.0</td>\n",
       "      <td>0.720001</td>\n",
       "    </tr>\n",
       "  </tbody>\n",
       "</table>\n",
       "</div>"
      ],
      "text/plain": [
       "        intervals    left  right       WOE\n",
       "0  (16.999, 28.0]  16.999   28.0  0.510355\n",
       "1    (28.0, 31.0]  28.000   31.0  0.060922\n",
       "2    (31.0, 33.0]  31.000   33.0 -0.056859\n",
       "3    (33.0, 35.0]  33.000   35.0 -0.131411\n",
       "4    (35.0, 38.0]  35.000   38.0 -0.212528\n",
       "5    (38.0, 41.0]  38.000   41.0 -0.373811\n",
       "6    (41.0, 45.0]  41.000   45.0 -0.368642\n",
       "7    (45.0, 49.0]  45.000   49.0 -0.426458\n",
       "8    (49.0, 55.0]  49.000   55.0 -0.182202\n",
       "9    (55.0, 98.0]  55.000   98.0  0.720001"
      ]
     },
     "execution_count": 29,
     "metadata": {},
     "output_type": "execute_result"
    }
   ],
   "source": [
    "#CREATE STRUCTURE TO EXTRACT LIMITS\n",
    "idx = pd.IntervalIndex(age_table['Cutoff'])\n",
    "\n",
    "#INTERVALS , LIMITS AND WOE VALUES\n",
    "inter = pd.DataFrame({'intervals': idx, 'left': idx.left, 'right': idx.right})\n",
    "inter['WOE'] = age_table['WoE']\n",
    "inter"
   ]
  },
  {
   "cell_type": "code",
   "execution_count": 30,
   "id": "b56e5541",
   "metadata": {},
   "outputs": [],
   "source": [
    "#CREATE AUXILIARY VARIABLES\n",
    "inter['left'][0],inter['right'][0]\n",
    "\n",
    "aux1 = (inter['left'][0] <=  age) & (age < inter['right'][0])\n",
    "aux2 = (inter['left'][1] <=  age) & (age < inter['right'][1])\n",
    "aux3 = (inter['left'][2] <=  age) & (age < inter['right'][2])\n",
    "aux4 = (inter['left'][3] <=  age) & (age < inter['right'][3])\n",
    "aux5 = (inter['left'][4] <=  age) & (age < inter['right'][4])\n",
    "aux6 = (inter['left'][5] <=  age) & (age < inter['right'][5])\n",
    "aux7 = (inter['left'][6] <=  age) & (age < inter['right'][6])\n",
    "aux8 = (inter['left'][7] <=  age) & (age < inter['right'][7])\n",
    "aux9 = (inter['left'][8] <=  age) & (age < inter['right'][8])\n",
    "aux10 = (inter['left'][9] <=  age) & (age <= inter['right'][9])"
   ]
  },
  {
   "cell_type": "code",
   "execution_count": 31,
   "id": "21cdee70",
   "metadata": {},
   "outputs": [
    {
     "data": {
      "text/plain": [
       "age      \n",
       "-0.212528    5014\n",
       "-0.182202    4664\n",
       "-0.368642    4486\n",
       " 0.720001    4230\n",
       " 0.060922    4168\n",
       "-0.426458    4040\n",
       "-0.373811    4000\n",
       "-0.056859    3793\n",
       "-0.131411    3578\n",
       " 0.510355    3215\n",
       "dtype: int64"
      ]
     },
     "execution_count": 31,
     "metadata": {},
     "output_type": "execute_result"
    }
   ],
   "source": [
    "#REPLACE VALUES WITH WOE\n",
    "age[aux1] = inter['WOE'][0]\n",
    "age[aux2] = inter['WOE'][1]\n",
    "age[aux3] = inter['WOE'][2]\n",
    "age[aux4] = inter['WOE'][3]\n",
    "age[aux5] = inter['WOE'][4]\n",
    "age[aux6] = inter['WOE'][5]\n",
    "age[aux7] = inter['WOE'][6]\n",
    "age[aux8] = inter['WOE'][7]\n",
    "age[aux9] = inter['WOE'][8]\n",
    "age[aux10] = inter['WOE'][9]\n",
    "\n",
    "age.value_counts()"
   ]
  },
  {
   "cell_type": "code",
   "execution_count": 32,
   "id": "c6e6d4a9",
   "metadata": {},
   "outputs": [
    {
     "data": {
      "text/plain": [
       "-0.212528    5014\n",
       "-0.182202    4664\n",
       "-0.368642    4486\n",
       " 0.720001    4230\n",
       " 0.060922    4168\n",
       "-0.426458    4040\n",
       "-0.373811    4000\n",
       "-0.056859    3793\n",
       "-0.131411    3578\n",
       " 0.510355    3215\n",
       "Name: age, dtype: int64"
      ]
     },
     "execution_count": 32,
     "metadata": {},
     "output_type": "execute_result"
    }
   ],
   "source": [
    "#REPLACE OLD VARIABLE\n",
    "bank_df_woe['age'] = age\n",
    "bank_df_woe['age'].value_counts()"
   ]
  },
  {
   "cell_type": "code",
   "execution_count": 33,
   "id": "3f0dc369",
   "metadata": {},
   "outputs": [
    {
     "data": {
      "text/plain": [
       "1     17642\n",
       "2     10570\n",
       "3      5341\n",
       "4      2651\n",
       "5      1599\n",
       "6       979\n",
       "7       629\n",
       "8       400\n",
       "9       283\n",
       "10      225\n",
       "11      177\n",
       "12      125\n",
       "13       92\n",
       "14       69\n",
       "17       58\n",
       "15       51\n",
       "16       51\n",
       "18       33\n",
       "20       30\n",
       "19       26\n",
       "21       24\n",
       "22       17\n",
       "23       16\n",
       "24       15\n",
       "27       11\n",
       "29       10\n",
       "25        8\n",
       "26        8\n",
       "28        8\n",
       "30        7\n",
       "31        7\n",
       "35        5\n",
       "33        4\n",
       "32        4\n",
       "34        3\n",
       "40        2\n",
       "42        2\n",
       "43        2\n",
       "37        1\n",
       "39        1\n",
       "41        1\n",
       "56        1\n",
       "Name: campaign, dtype: int64"
      ]
     },
     "execution_count": 33,
     "metadata": {},
     "output_type": "execute_result"
    }
   ],
   "source": [
    "#CAMPAIGN\n",
    "#CREATE A DATAFRAME\n",
    "campaign= pd.DataFrame(bank_df_woe['campaign'])\n",
    "campaign.columns = ['campaign']\n",
    "campaign['campaign'].value_counts()\n",
    "\n"
   ]
  },
  {
   "cell_type": "code",
   "execution_count": 34,
   "id": "9739c604",
   "metadata": {},
   "outputs": [
    {
     "data": {
      "text/html": [
       "<div>\n",
       "<style scoped>\n",
       "    .dataframe tbody tr th:only-of-type {\n",
       "        vertical-align: middle;\n",
       "    }\n",
       "\n",
       "    .dataframe tbody tr th {\n",
       "        vertical-align: top;\n",
       "    }\n",
       "\n",
       "    .dataframe thead th {\n",
       "        text-align: right;\n",
       "    }\n",
       "</style>\n",
       "<table border=\"1\" class=\"dataframe\">\n",
       "  <thead>\n",
       "    <tr style=\"text-align: right;\">\n",
       "      <th></th>\n",
       "      <th>Variable</th>\n",
       "      <th>Cutoff</th>\n",
       "      <th>N</th>\n",
       "      <th>Events</th>\n",
       "      <th>% of Events</th>\n",
       "      <th>Non-Events</th>\n",
       "      <th>% of Non-Events</th>\n",
       "      <th>WoE</th>\n",
       "      <th>IV</th>\n",
       "    </tr>\n",
       "  </thead>\n",
       "  <tbody>\n",
       "    <tr>\n",
       "      <th>0</th>\n",
       "      <td>campaign</td>\n",
       "      <td>(0.999, 2.0]</td>\n",
       "      <td>28212</td>\n",
       "      <td>3511</td>\n",
       "      <td>0.756681</td>\n",
       "      <td>24701</td>\n",
       "      <td>0.675851</td>\n",
       "      <td>0.112969</td>\n",
       "      <td>0.009131</td>\n",
       "    </tr>\n",
       "    <tr>\n",
       "      <th>1</th>\n",
       "      <td>campaign</td>\n",
       "      <td>(2.0, 3.0]</td>\n",
       "      <td>5341</td>\n",
       "      <td>574</td>\n",
       "      <td>0.123707</td>\n",
       "      <td>4767</td>\n",
       "      <td>0.130431</td>\n",
       "      <td>-0.052931</td>\n",
       "      <td>0.000356</td>\n",
       "    </tr>\n",
       "    <tr>\n",
       "      <th>2</th>\n",
       "      <td>campaign</td>\n",
       "      <td>(3.0, 5.0]</td>\n",
       "      <td>4250</td>\n",
       "      <td>369</td>\n",
       "      <td>0.079526</td>\n",
       "      <td>3881</td>\n",
       "      <td>0.106189</td>\n",
       "      <td>-0.289139</td>\n",
       "      <td>0.007709</td>\n",
       "    </tr>\n",
       "    <tr>\n",
       "      <th>3</th>\n",
       "      <td>campaign</td>\n",
       "      <td>(5.0, 56.0]</td>\n",
       "      <td>3385</td>\n",
       "      <td>186</td>\n",
       "      <td>0.040086</td>\n",
       "      <td>3199</td>\n",
       "      <td>0.087529</td>\n",
       "      <td>-0.780935</td>\n",
       "      <td>0.037050</td>\n",
       "    </tr>\n",
       "  </tbody>\n",
       "</table>\n",
       "</div>"
      ],
      "text/plain": [
       "   Variable        Cutoff      N  Events  % of Events  Non-Events  \\\n",
       "0  campaign  (0.999, 2.0]  28212    3511     0.756681       24701   \n",
       "1  campaign    (2.0, 3.0]   5341     574     0.123707        4767   \n",
       "2  campaign    (3.0, 5.0]   4250     369     0.079526        3881   \n",
       "3  campaign   (5.0, 56.0]   3385     186     0.040086        3199   \n",
       "\n",
       "   % of Non-Events       WoE        IV  \n",
       "0         0.675851  0.112969  0.009131  \n",
       "1         0.130431 -0.052931  0.000356  \n",
       "2         0.106189 -0.289139  0.007709  \n",
       "3         0.087529 -0.780935  0.037050  "
      ]
     },
     "execution_count": 34,
     "metadata": {},
     "output_type": "execute_result"
    }
   ],
   "source": [
    "#SELECT VALUES FOR CAMPAIGN VARIABLE\n",
    "aux_c = woe['Variable'] == 'campaign' \n",
    "campaign_table = woe[aux_c]\n",
    "campaign_table"
   ]
  },
  {
   "cell_type": "code",
   "execution_count": 35,
   "id": "b4525db5",
   "metadata": {},
   "outputs": [
    {
     "data": {
      "text/html": [
       "<div>\n",
       "<style scoped>\n",
       "    .dataframe tbody tr th:only-of-type {\n",
       "        vertical-align: middle;\n",
       "    }\n",
       "\n",
       "    .dataframe tbody tr th {\n",
       "        vertical-align: top;\n",
       "    }\n",
       "\n",
       "    .dataframe thead th {\n",
       "        text-align: right;\n",
       "    }\n",
       "</style>\n",
       "<table border=\"1\" class=\"dataframe\">\n",
       "  <thead>\n",
       "    <tr style=\"text-align: right;\">\n",
       "      <th></th>\n",
       "      <th>intervals</th>\n",
       "      <th>left</th>\n",
       "      <th>right</th>\n",
       "      <th>WOE</th>\n",
       "    </tr>\n",
       "  </thead>\n",
       "  <tbody>\n",
       "    <tr>\n",
       "      <th>0</th>\n",
       "      <td>(0.999, 2.0]</td>\n",
       "      <td>0.999</td>\n",
       "      <td>2.0</td>\n",
       "      <td>0.112969</td>\n",
       "    </tr>\n",
       "    <tr>\n",
       "      <th>1</th>\n",
       "      <td>(2.0, 3.0]</td>\n",
       "      <td>2.000</td>\n",
       "      <td>3.0</td>\n",
       "      <td>-0.052931</td>\n",
       "    </tr>\n",
       "    <tr>\n",
       "      <th>2</th>\n",
       "      <td>(3.0, 5.0]</td>\n",
       "      <td>3.000</td>\n",
       "      <td>5.0</td>\n",
       "      <td>-0.289139</td>\n",
       "    </tr>\n",
       "    <tr>\n",
       "      <th>3</th>\n",
       "      <td>(5.0, 56.0]</td>\n",
       "      <td>5.000</td>\n",
       "      <td>56.0</td>\n",
       "      <td>-0.780935</td>\n",
       "    </tr>\n",
       "  </tbody>\n",
       "</table>\n",
       "</div>"
      ],
      "text/plain": [
       "      intervals   left  right       WOE\n",
       "0  (0.999, 2.0]  0.999    2.0  0.112969\n",
       "1    (2.0, 3.0]  2.000    3.0 -0.052931\n",
       "2    (3.0, 5.0]  3.000    5.0 -0.289139\n",
       "3   (5.0, 56.0]  5.000   56.0 -0.780935"
      ]
     },
     "execution_count": 35,
     "metadata": {},
     "output_type": "execute_result"
    }
   ],
   "source": [
    "#CREATE STRUCTURE TO EXTRACT LIMITS\n",
    "idx = pd.IntervalIndex(campaign_table['Cutoff'])\n",
    "\n",
    "#INTERVALS , LIMITS AND WOE VALUES\n",
    "inter = pd.DataFrame({'intervals': idx, 'left': idx.left, 'right': idx.right})\n",
    "inter['WOE'] = campaign_table['WoE']\n",
    "inter"
   ]
  },
  {
   "cell_type": "code",
   "execution_count": 36,
   "id": "3172453e",
   "metadata": {},
   "outputs": [],
   "source": [
    "#CREATE AUXILIARY VARIABLES\n",
    "inter['left'][0],inter['right'][0]\n",
    "\n",
    "aux1 = (inter['left'][0] <=  campaign) & (campaign < inter['right'][0])\n",
    "aux2 = (inter['left'][1] <=  campaign) & (campaign < inter['right'][1])\n",
    "aux3 = (inter['left'][2] <=  campaign) & (campaign < inter['right'][2])\n",
    "aux4 = (inter['left'][3] <=  campaign) & (campaign <= inter['right'][3])"
   ]
  },
  {
   "cell_type": "code",
   "execution_count": 37,
   "id": "dac788bc",
   "metadata": {},
   "outputs": [
    {
     "data": {
      "text/plain": [
       "campaign \n",
       " 0.112969    17642\n",
       "-0.052931    10570\n",
       "-0.289139     7992\n",
       "-0.780935     4984\n",
       "dtype: int64"
      ]
     },
     "execution_count": 37,
     "metadata": {},
     "output_type": "execute_result"
    }
   ],
   "source": [
    "#REPLACE VALUES WITH WOE\n",
    "campaign[aux1] = inter['WOE'][0]\n",
    "campaign[aux2] = inter['WOE'][1]\n",
    "campaign[aux3] = inter['WOE'][2]\n",
    "campaign[aux4] = inter['WOE'][3]\n",
    "\n",
    "campaign.value_counts()"
   ]
  },
  {
   "cell_type": "code",
   "execution_count": 38,
   "id": "a496e6c7",
   "metadata": {},
   "outputs": [
    {
     "data": {
      "text/plain": [
       " 0.112969    17642\n",
       "-0.052931    10570\n",
       "-0.289139     7992\n",
       "-0.780935     4984\n",
       "Name: campaign, dtype: int64"
      ]
     },
     "execution_count": 38,
     "metadata": {},
     "output_type": "execute_result"
    }
   ],
   "source": [
    "#REPLACE OLD VARIABLE\n",
    "bank_df_woe['campaign'] = campaign\n",
    "bank_df_woe['campaign'].value_counts()"
   ]
  },
  {
   "cell_type": "code",
   "execution_count": 39,
   "id": "66becd71",
   "metadata": {},
   "outputs": [
    {
     "data": {
      "text/html": [
       "<div>\n",
       "<style scoped>\n",
       "    .dataframe tbody tr th:only-of-type {\n",
       "        vertical-align: middle;\n",
       "    }\n",
       "\n",
       "    .dataframe tbody tr th {\n",
       "        vertical-align: top;\n",
       "    }\n",
       "\n",
       "    .dataframe thead th {\n",
       "        text-align: right;\n",
       "    }\n",
       "</style>\n",
       "<table border=\"1\" class=\"dataframe\">\n",
       "  <thead>\n",
       "    <tr style=\"text-align: right;\">\n",
       "      <th></th>\n",
       "      <th>age</th>\n",
       "      <th>job</th>\n",
       "      <th>marital</th>\n",
       "      <th>education</th>\n",
       "      <th>default</th>\n",
       "      <th>housing</th>\n",
       "      <th>loan</th>\n",
       "      <th>contact</th>\n",
       "      <th>month</th>\n",
       "      <th>day_of_week</th>\n",
       "      <th>campaign</th>\n",
       "      <th>pdays</th>\n",
       "      <th>previous</th>\n",
       "      <th>poutcome</th>\n",
       "      <th>emp.var.rate</th>\n",
       "      <th>cons.price.idx</th>\n",
       "      <th>cons.conf.idx</th>\n",
       "      <th>euribor3m</th>\n",
       "      <th>nr.employed</th>\n",
       "      <th>y</th>\n",
       "      <th>pdays_range</th>\n",
       "    </tr>\n",
       "  </thead>\n",
       "  <tbody>\n",
       "    <tr>\n",
       "      <th>0</th>\n",
       "      <td>0.720001</td>\n",
       "      <td>housemaid</td>\n",
       "      <td>married</td>\n",
       "      <td>basic.4y</td>\n",
       "      <td>no</td>\n",
       "      <td>no</td>\n",
       "      <td>no</td>\n",
       "      <td>telephone</td>\n",
       "      <td>may</td>\n",
       "      <td>mon</td>\n",
       "      <td>0.112969</td>\n",
       "      <td>999</td>\n",
       "      <td>0</td>\n",
       "      <td>nonexistent</td>\n",
       "      <td>1.1</td>\n",
       "      <td>93.994</td>\n",
       "      <td>-36.4</td>\n",
       "      <td>4.857</td>\n",
       "      <td>5191.0</td>\n",
       "      <td>0</td>\n",
       "      <td>No previous contacted</td>\n",
       "    </tr>\n",
       "    <tr>\n",
       "      <th>1</th>\n",
       "      <td>0.720001</td>\n",
       "      <td>services</td>\n",
       "      <td>married</td>\n",
       "      <td>high.school</td>\n",
       "      <td>unknown</td>\n",
       "      <td>no</td>\n",
       "      <td>no</td>\n",
       "      <td>telephone</td>\n",
       "      <td>may</td>\n",
       "      <td>mon</td>\n",
       "      <td>0.112969</td>\n",
       "      <td>999</td>\n",
       "      <td>0</td>\n",
       "      <td>nonexistent</td>\n",
       "      <td>1.1</td>\n",
       "      <td>93.994</td>\n",
       "      <td>-36.4</td>\n",
       "      <td>4.857</td>\n",
       "      <td>5191.0</td>\n",
       "      <td>0</td>\n",
       "      <td>No previous contacted</td>\n",
       "    </tr>\n",
       "    <tr>\n",
       "      <th>2</th>\n",
       "      <td>-0.212528</td>\n",
       "      <td>services</td>\n",
       "      <td>married</td>\n",
       "      <td>high.school</td>\n",
       "      <td>no</td>\n",
       "      <td>yes</td>\n",
       "      <td>no</td>\n",
       "      <td>telephone</td>\n",
       "      <td>may</td>\n",
       "      <td>mon</td>\n",
       "      <td>0.112969</td>\n",
       "      <td>999</td>\n",
       "      <td>0</td>\n",
       "      <td>nonexistent</td>\n",
       "      <td>1.1</td>\n",
       "      <td>93.994</td>\n",
       "      <td>-36.4</td>\n",
       "      <td>4.857</td>\n",
       "      <td>5191.0</td>\n",
       "      <td>0</td>\n",
       "      <td>No previous contacted</td>\n",
       "    </tr>\n",
       "  </tbody>\n",
       "</table>\n",
       "</div>"
      ],
      "text/plain": [
       "        age        job  marital    education  default housing loan    contact  \\\n",
       "0  0.720001  housemaid  married     basic.4y       no      no   no  telephone   \n",
       "1  0.720001   services  married  high.school  unknown      no   no  telephone   \n",
       "2 -0.212528   services  married  high.school       no     yes   no  telephone   \n",
       "\n",
       "  month day_of_week  campaign  pdays  previous     poutcome  emp.var.rate  \\\n",
       "0   may         mon  0.112969    999         0  nonexistent           1.1   \n",
       "1   may         mon  0.112969    999         0  nonexistent           1.1   \n",
       "2   may         mon  0.112969    999         0  nonexistent           1.1   \n",
       "\n",
       "   cons.price.idx  cons.conf.idx  euribor3m  nr.employed  y  \\\n",
       "0          93.994          -36.4      4.857       5191.0  0   \n",
       "1          93.994          -36.4      4.857       5191.0  0   \n",
       "2          93.994          -36.4      4.857       5191.0  0   \n",
       "\n",
       "             pdays_range  \n",
       "0  No previous contacted  \n",
       "1  No previous contacted  \n",
       "2  No previous contacted  "
      ]
     },
     "execution_count": 39,
     "metadata": {},
     "output_type": "execute_result"
    }
   ],
   "source": [
    "bank_df_woe.head(3)"
   ]
  },
  {
   "cell_type": "code",
   "execution_count": 40,
   "id": "c25bcea7",
   "metadata": {},
   "outputs": [
    {
     "data": {
      "text/plain": [
       "(41188, 21)"
      ]
     },
     "execution_count": 40,
     "metadata": {},
     "output_type": "execute_result"
    }
   ],
   "source": [
    "bank_df_woe.shape"
   ]
  },
  {
   "cell_type": "markdown",
   "id": "f8fdf7ce",
   "metadata": {},
   "source": [
    "## Missing values"
   ]
  },
  {
   "cell_type": "markdown",
   "id": "d6a47cc0",
   "metadata": {},
   "source": [
    "We are aware that the dataset has missing values under the string \"unknown\". At first, we will replace the string with np.NaN, then we are going to try imputing the missing values and deleting them."
   ]
  },
  {
   "cell_type": "code",
   "execution_count": 41,
   "id": "c285212f",
   "metadata": {},
   "outputs": [],
   "source": [
    "bank_df= bank_df.replace(to_replace=\"unknown\" ,value=np.NaN,regex=True)"
   ]
  },
  {
   "cell_type": "code",
   "execution_count": 42,
   "id": "2f07f61d",
   "metadata": {},
   "outputs": [
    {
     "name": "stdout",
     "output_type": "stream",
     "text": [
      "age                  0\n",
      "job                330\n",
      "marital             80\n",
      "education         1731\n",
      "default           8597\n",
      "housing            990\n",
      "loan               990\n",
      "contact              0\n",
      "month                0\n",
      "day_of_week          0\n",
      "campaign             0\n",
      "pdays                0\n",
      "previous             0\n",
      "poutcome             0\n",
      "emp.var.rate         0\n",
      "cons.price.idx       0\n",
      "cons.conf.idx        0\n",
      "euribor3m            0\n",
      "nr.employed          0\n",
      "y                    0\n",
      "pdays_range          0\n",
      "dtype: int64\n"
     ]
    }
   ],
   "source": [
    "print(bank_df.isnull().sum())\n",
    "\n",
    "null_columns=[\"job\",\"marital\",\"education\",\"default\",\"housing\",\"loan\"]"
   ]
  },
  {
   "cell_type": "code",
   "execution_count": 43,
   "id": "e7a8ecf0",
   "metadata": {},
   "outputs": [
    {
     "name": "stdout",
     "output_type": "stream",
     "text": [
      "Q of nulls: \n",
      "job           330\n",
      "marital        80\n",
      "education    1731\n",
      "default      8597\n",
      "housing       990\n",
      "loan          990\n",
      "dtype: int64\n",
      "% of nulls: \n",
      "job           0.801204\n",
      "marital       0.194231\n",
      "education     4.202680\n",
      "default      20.872584\n",
      "housing       2.403613\n",
      "loan          2.403613\n",
      "dtype: float64\n"
     ]
    }
   ],
   "source": [
    "nulls=bank_df[null_columns].isnull().sum()\n",
    "print(\"Q of nulls: \")\n",
    "print(nulls)\n",
    "\n",
    "print(\"% of nulls: \")\n",
    "print(nulls/bank_df.shape[0]*100)"
   ]
  },
  {
   "cell_type": "code",
   "execution_count": 44,
   "id": "31eb60e6",
   "metadata": {},
   "outputs": [
    {
     "data": {
      "text/plain": [
       "Text(0.5, 0, 'Features')"
      ]
     },
     "execution_count": 44,
     "metadata": {},
     "output_type": "execute_result"
    },
    {
     "data": {
      "image/png": "[encoded data removed]",
      "text/plain": [
       "<Figure size 432x288 with 1 Axes>"
      ]
     },
     "metadata": {},
     "output_type": "display_data"
    }
   ],
   "source": [
    "\n",
    "\n",
    "nulls.plot.bar()\n",
    "\n",
    "plt.title('Null values', fontsize=20)\n",
    "plt.ylabel('Q of nulls')\n",
    "plt.xlabel('Features')"
   ]
  },
  {
   "cell_type": "markdown",
   "id": "0bd1ec25",
   "metadata": {},
   "source": [
    "In order ot be more sure what is the best option of missing values treatment for the model, we are going to analyse a little bit deeper the features with null values."
   ]
  },
  {
   "cell_type": "markdown",
   "id": "f32b21c8",
   "metadata": {},
   "source": [
    "First \"default\", the feature with most nulls. It has 20.9% of missing values."
   ]
  },
  {
   "cell_type": "code",
   "execution_count": 50,
   "id": "1cc7fd66",
   "metadata": {},
   "outputs": [
    {
     "name": "stdout",
     "output_type": "stream",
     "text": [
      "Value Distribution: \n",
      "no     32588\n",
      "yes        3\n",
      "Name: default, dtype: int64\n",
      "Value Distribution %: \n",
      "no     99.990795\n",
      "yes     0.009205\n",
      "Name: default, dtype: float64\n"
     ]
    }
   ],
   "source": [
    "print(\"Value Distribution: \")\n",
    "print(bank_df.default.value_counts())\n",
    "\n",
    "print(\"Value Distribution %: \")\n",
    "print(bank_df.default.value_counts()/bank_df.default.notnull().sum()*100)"
   ]
  },
  {
   "cell_type": "markdown",
   "id": "bf1be45b",
   "metadata": {},
   "source": [
    "In one hand, the feature \"default\" has a considerable quantity of nulls (20.9%), so the imputation is risky for the model. It could generate a big bias. The goal is to make a model as realistic and useful as possible, so imputation would not be a good option in this feature.\n",
    "\n",
    "In the other hand, it is highly umbalanced. Considering not null values, just 0.009% of clients are in default.\n",
    "\n",
    "Additionally, according to IV, default has a 0.128 value, that means that is a medium predictor. \n",
    "\n",
    "All these evidence, lead us to think that the best option is to delete the feature. Despite this, we are going to analyse the model with the deletion of the feature and imputation through KNNImputer (for loan, housing and default).\n",
    "\n"
   ]
  },
  {
   "cell_type": "markdown",
   "id": "0592295d",
   "metadata": {},
   "source": [
    "### 1) KNN Imputation "
   ]
  },
  {
   "cell_type": "code",
   "execution_count": 51,
   "id": "b0b16f8c",
   "metadata": {},
   "outputs": [],
   "source": [
    "knn_bank_df=bank_df.copy()"
   ]
  },
  {
   "cell_type": "code",
   "execution_count": 52,
   "id": "3d730507",
   "metadata": {},
   "outputs": [
    {
     "data": {
      "text/plain": [
       "age                  0\n",
       "job                330\n",
       "marital             80\n",
       "education         1731\n",
       "default           8597\n",
       "housing            990\n",
       "loan               990\n",
       "contact              0\n",
       "month                0\n",
       "day_of_week          0\n",
       "campaign             0\n",
       "pdays                0\n",
       "previous             0\n",
       "poutcome             0\n",
       "emp.var.rate         0\n",
       "cons.price.idx       0\n",
       "cons.conf.idx        0\n",
       "euribor3m            0\n",
       "nr.employed          0\n",
       "y                    0\n",
       "pdays_range          0\n",
       "dtype: int64"
      ]
     },
     "execution_count": 52,
     "metadata": {},
     "output_type": "execute_result"
    }
   ],
   "source": [
    "bank_df.isnull().sum()"
   ]
  },
  {
   "cell_type": "code",
   "execution_count": 53,
   "id": "4e0db7f0",
   "metadata": {},
   "outputs": [],
   "source": [
    "aux = knn_bank_df['default'] == 'no'\n",
    "aux1 = knn_bank_df['default'] == 'yes'\n",
    "\n",
    "#CONVIERTO\n",
    "knn_bank_df.at[aux, 'default'] = 0\n",
    "knn_bank_df.at[aux1, 'default'] = 1\n",
    "\n",
    "aux = knn_bank_df['housing'] == 'no'\n",
    "aux1 = knn_bank_df['housing'] == 'yes'\n",
    "\n",
    "#CONVIERTO\n",
    "knn_bank_df.at[aux, 'housing'] = 0\n",
    "knn_bank_df.at[aux1, 'housing'] = 1\n",
    "\n",
    "aux = knn_bank_df['loan'] == 'no'\n",
    "aux1 = knn_bank_df['loan'] == 'yes'\n",
    "\n",
    "#CONVIERTO\n",
    "knn_bank_df.at[aux, 'loan'] = 0\n",
    "knn_bank_df.at[aux1, 'loan'] = 1"
   ]
  },
  {
   "cell_type": "code",
   "execution_count": 54,
   "id": "06616252",
   "metadata": {},
   "outputs": [
    {
     "name": "stdout",
     "output_type": "stream",
     "text": [
      "CPU times: user 25.6 s, sys: 10.5 s, total: 36.1 s\n",
      "Wall time: 16.7 s\n"
     ]
    }
   ],
   "source": [
    "%%time\n",
    "from sklearn.impute import KNNImputer\n",
    "imputer = KNNImputer(n_neighbors=2,weights='uniform',metric='nan_euclidean')\n",
    "x= knn_bank_df[[\"default\",\"housing\",\"loan\"]]\n",
    "x=imputer.fit_transform(x)\n",
    "knn_bank_df.loc[:,[\"default\",\"housing\",\"loan\"]]= x"
   ]
  },
  {
   "cell_type": "code",
   "execution_count": 55,
   "id": "e864a068",
   "metadata": {},
   "outputs": [],
   "source": [
    "#Binarization of the imputation done by KNN\n",
    "\n",
    "knn_bank_df[\"loan\"]=knn_bank_df.loan.astype(bool).astype(float)\n",
    "knn_bank_df[\"housing\"]=knn_bank_df.housing.astype(bool).astype(float)\n",
    "knn_bank_df[\"default\"]=knn_bank_df.default.astype(bool).astype(float)"
   ]
  },
  {
   "cell_type": "code",
   "execution_count": 56,
   "id": "c8b309b3",
   "metadata": {},
   "outputs": [
    {
     "data": {
      "text/plain": [
       "age               0.000000\n",
       "job               0.801204\n",
       "marital           0.194231\n",
       "education         4.202680\n",
       "default           0.000000\n",
       "housing           0.000000\n",
       "loan              0.000000\n",
       "contact           0.000000\n",
       "month             0.000000\n",
       "day_of_week       0.000000\n",
       "campaign          0.000000\n",
       "pdays             0.000000\n",
       "previous          0.000000\n",
       "poutcome          0.000000\n",
       "emp.var.rate      0.000000\n",
       "cons.price.idx    0.000000\n",
       "cons.conf.idx     0.000000\n",
       "euribor3m         0.000000\n",
       "nr.employed       0.000000\n",
       "y                 0.000000\n",
       "pdays_range       0.000000\n",
       "dtype: float64"
      ]
     },
     "execution_count": 56,
     "metadata": {},
     "output_type": "execute_result"
    }
   ],
   "source": [
    "knn_bank_df.isnull().mean()*100"
   ]
  },
  {
   "cell_type": "markdown",
   "id": "0ec8629c",
   "metadata": {},
   "source": [
    "For the rest of features with null values, it does not make sense to do any imputation because the null values are few."
   ]
  },
  {
   "cell_type": "code",
   "execution_count": 57,
   "id": "2ad7578d",
   "metadata": {},
   "outputs": [],
   "source": [
    "knn_bank_df.dropna(subset=[\"job\", \"marital\", \"education\"],axis=0,inplace=True)"
   ]
  },
  {
   "cell_type": "markdown",
   "id": "b68f9365",
   "metadata": {},
   "source": [
    "### 2) Drop all null values (prefered option)"
   ]
  },
  {
   "cell_type": "code",
   "execution_count": 58,
   "id": "c8b09e66",
   "metadata": {},
   "outputs": [],
   "source": [
    "bank_df_dropna=bank_df.copy()"
   ]
  },
  {
   "cell_type": "code",
   "execution_count": 59,
   "id": "59c21293",
   "metadata": {},
   "outputs": [],
   "source": [
    "bank_df_dropna.dropna(axis=0,inplace=True)"
   ]
  },
  {
   "cell_type": "code",
   "execution_count": 60,
   "id": "686ea40b",
   "metadata": {},
   "outputs": [
    {
     "data": {
      "text/plain": [
       "age               0.0\n",
       "job               0.0\n",
       "marital           0.0\n",
       "education         0.0\n",
       "default           0.0\n",
       "housing           0.0\n",
       "loan              0.0\n",
       "contact           0.0\n",
       "month             0.0\n",
       "day_of_week       0.0\n",
       "campaign          0.0\n",
       "pdays             0.0\n",
       "previous          0.0\n",
       "poutcome          0.0\n",
       "emp.var.rate      0.0\n",
       "cons.price.idx    0.0\n",
       "cons.conf.idx     0.0\n",
       "euribor3m         0.0\n",
       "nr.employed       0.0\n",
       "y                 0.0\n",
       "pdays_range       0.0\n",
       "dtype: float64"
      ]
     },
     "execution_count": 60,
     "metadata": {},
     "output_type": "execute_result"
    }
   ],
   "source": [
    "bank_df_dropna.isnull().mean()"
   ]
  },
  {
   "cell_type": "code",
   "execution_count": 61,
   "id": "963b64bc",
   "metadata": {},
   "outputs": [],
   "source": [
    "sorted_bank_df = bank_df.sort_values(\"default\")"
   ]
  },
  {
   "cell_type": "markdown",
   "id": "b9b5a01e",
   "metadata": {},
   "source": [
    "Grouping and relation visualization:"
   ]
  },
  {
   "cell_type": "code",
   "execution_count": 62,
   "id": "23c034ee",
   "metadata": {},
   "outputs": [
    {
     "data": {
      "text/plain": [
       "<AxesSubplot:>"
      ]
     },
     "execution_count": 62,
     "metadata": {},
     "output_type": "execute_result"
    },
    {
     "data": {
      "image/png": "[encoded data removed]",
      "text/plain": [
       "<Figure size 1080x360 with 2 Axes>"
      ]
     },
     "metadata": {},
     "output_type": "display_data"
    }
   ],
   "source": [
    "msno.heatmap(sorted_bank_df, figsize=(15,5))"
   ]
  },
  {
   "cell_type": "code",
   "execution_count": 63,
   "id": "b34bef74",
   "metadata": {},
   "outputs": [
    {
     "data": {
      "text/plain": [
       "<AxesSubplot:>"
      ]
     },
     "execution_count": 63,
     "metadata": {},
     "output_type": "execute_result"
    },
    {
     "data": {
      "image/png": "[encoded data removed]",
      "text/plain": [
       "<Figure size 1080x360 with 1 Axes>"
      ]
     },
     "metadata": {},
     "output_type": "display_data"
    }
   ],
   "source": [
    "msno.dendrogram(sorted_bank_df, figsize=(15,5))"
   ]
  },
  {
   "cell_type": "markdown",
   "id": "2d20b7f7",
   "metadata": {},
   "source": [
    "## Conclusion\n"
   ]
  },
  {
   "cell_type": "markdown",
   "id": "56f052c1",
   "metadata": {},
   "source": [
    "As we have been talking, the next step is aboult analyzing the model from the different strategies we have developed in this week.\n",
    "\n",
    "Both outliers strategies (IQR and WOE) and missing values strategies (KNNimputer and dropping all nulls).\n",
    "\n",
    "We are capable to recommend dropping null values because of reasons we talked along the notebook, specially avoid the bias because, at least default, has 20% of nulls. That is a lot.\n",
    "\n",
    "in next week we are going to also analyze what to do with our umbalanced target."
   ]
  },
  {
   "cell_type": "code",
   "execution_count": null,
   "id": "b4a87709",
   "metadata": {},
   "outputs": [],
   "source": []
  }
 ],
 "metadata": {
  "kernelspec": {
   "display_name": "Python 3",
   "language": "python",
   "name": "python3"
  },
  "language_info": {
   "codemirror_mode": {
    "name": "ipython",
    "version": 3
   },
   "file_extension": ".py",
   "mimetype": "text/x-python",
   "name": "python",
   "nbconvert_exporter": "python",
   "pygments_lexer": "ipython3",
   "version": "3.8.8"
  }
 },
 "nbformat": 4,
 "nbformat_minor": 5
}
