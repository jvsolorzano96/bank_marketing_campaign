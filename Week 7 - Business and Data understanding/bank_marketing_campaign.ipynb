{
 "cells": [
  {
   "cell_type": "markdown",
   "id": "b0cb2f65",
   "metadata": {},
   "source": [
    "# DATA SCIENCE - Bank Marketing (Campaign)"
   ]
  },
  {
   "cell_type": "markdown",
   "id": "a44a6d7d",
   "metadata": {},
   "source": [
    "## Problem statement\n",
    "\n",
    "ABC Bank wants to sell it's term deposit product to customers and before launching the product they want to develop a model which help them in understanding whether a particular customer will buy their product or not (based on customer's past interaction with bank or other Financial Institution)."
   ]
  },
  {
   "cell_type": "code",
   "execution_count": 1,
   "id": "ed606b87",
   "metadata": {},
   "outputs": [],
   "source": [
    "import pandas as pd\n",
    "import numpy as np\n",
    "import matplotlib.pyplot as plt\n",
    "import seaborn as sns\n",
    "import warnings\n",
    "warnings.filterwarnings('ignore')\n",
    "import numpy as np \n",
    "import pandas as pd \n",
    "import matplotlib.pyplot as plt\n",
    "from operator import itemgetter\n",
    "from sklearn.experimental import enable_iterative_imputer \n",
    "from sklearn.impute import IterativeImputer\n",
    "from sklearn.preprocessing import OrdinalEncoder\n",
    "from sklearn.preprocessing import StandardScaler\n",
    "from sklearn.ensemble import (GradientBoostingRegressor, GradientBoostingClassifier)\n",
    "pd.set_option('display.max_columns', 500)\n",
    "#import xgboost\n",
    "\n",
    "%matplotlib inline\n",
    "sns.set()\n",
    "plt.rc('xtick', labelsize=10)     \n",
    "plt.rc('ytick', labelsize=10)\n"
   ]
  },
  {
   "cell_type": "code",
   "execution_count": 2,
   "id": "7b215f78",
   "metadata": {},
   "outputs": [
    {
     "data": {
      "text/html": [
       "<div>\n",
       "<style scoped>\n",
       "    .dataframe tbody tr th:only-of-type {\n",
       "        vertical-align: middle;\n",
       "    }\n",
       "\n",
       "    .dataframe tbody tr th {\n",
       "        vertical-align: top;\n",
       "    }\n",
       "\n",
       "    .dataframe thead th {\n",
       "        text-align: right;\n",
       "    }\n",
       "</style>\n",
       "<table border=\"1\" class=\"dataframe\">\n",
       "  <thead>\n",
       "    <tr style=\"text-align: right;\">\n",
       "      <th></th>\n",
       "      <th>age</th>\n",
       "      <th>job</th>\n",
       "      <th>marital</th>\n",
       "      <th>education</th>\n",
       "      <th>default</th>\n",
       "      <th>housing</th>\n",
       "      <th>loan</th>\n",
       "      <th>contact</th>\n",
       "      <th>month</th>\n",
       "      <th>day_of_week</th>\n",
       "      <th>duration</th>\n",
       "      <th>campaign</th>\n",
       "      <th>pdays</th>\n",
       "      <th>previous</th>\n",
       "      <th>poutcome</th>\n",
       "      <th>emp.var.rate</th>\n",
       "      <th>cons.price.idx</th>\n",
       "      <th>cons.conf.idx</th>\n",
       "      <th>euribor3m</th>\n",
       "      <th>nr.employed</th>\n",
       "      <th>y</th>\n",
       "    </tr>\n",
       "  </thead>\n",
       "  <tbody>\n",
       "    <tr>\n",
       "      <th>0</th>\n",
       "      <td>56</td>\n",
       "      <td>housemaid</td>\n",
       "      <td>married</td>\n",
       "      <td>basic.4y</td>\n",
       "      <td>no</td>\n",
       "      <td>no</td>\n",
       "      <td>no</td>\n",
       "      <td>telephone</td>\n",
       "      <td>may</td>\n",
       "      <td>mon</td>\n",
       "      <td>261</td>\n",
       "      <td>1</td>\n",
       "      <td>999</td>\n",
       "      <td>0</td>\n",
       "      <td>nonexistent</td>\n",
       "      <td>1.1</td>\n",
       "      <td>93.994</td>\n",
       "      <td>-36.4</td>\n",
       "      <td>4.857</td>\n",
       "      <td>5191.0</td>\n",
       "      <td>no</td>\n",
       "    </tr>\n",
       "    <tr>\n",
       "      <th>1</th>\n",
       "      <td>57</td>\n",
       "      <td>services</td>\n",
       "      <td>married</td>\n",
       "      <td>high.school</td>\n",
       "      <td>unknown</td>\n",
       "      <td>no</td>\n",
       "      <td>no</td>\n",
       "      <td>telephone</td>\n",
       "      <td>may</td>\n",
       "      <td>mon</td>\n",
       "      <td>149</td>\n",
       "      <td>1</td>\n",
       "      <td>999</td>\n",
       "      <td>0</td>\n",
       "      <td>nonexistent</td>\n",
       "      <td>1.1</td>\n",
       "      <td>93.994</td>\n",
       "      <td>-36.4</td>\n",
       "      <td>4.857</td>\n",
       "      <td>5191.0</td>\n",
       "      <td>no</td>\n",
       "    </tr>\n",
       "    <tr>\n",
       "      <th>2</th>\n",
       "      <td>37</td>\n",
       "      <td>services</td>\n",
       "      <td>married</td>\n",
       "      <td>high.school</td>\n",
       "      <td>no</td>\n",
       "      <td>yes</td>\n",
       "      <td>no</td>\n",
       "      <td>telephone</td>\n",
       "      <td>may</td>\n",
       "      <td>mon</td>\n",
       "      <td>226</td>\n",
       "      <td>1</td>\n",
       "      <td>999</td>\n",
       "      <td>0</td>\n",
       "      <td>nonexistent</td>\n",
       "      <td>1.1</td>\n",
       "      <td>93.994</td>\n",
       "      <td>-36.4</td>\n",
       "      <td>4.857</td>\n",
       "      <td>5191.0</td>\n",
       "      <td>no</td>\n",
       "    </tr>\n",
       "  </tbody>\n",
       "</table>\n",
       "</div>"
      ],
      "text/plain": [
       "   age        job  marital    education  default housing loan    contact  \\\n",
       "0   56  housemaid  married     basic.4y       no      no   no  telephone   \n",
       "1   57   services  married  high.school  unknown      no   no  telephone   \n",
       "2   37   services  married  high.school       no     yes   no  telephone   \n",
       "\n",
       "  month day_of_week  duration  campaign  pdays  previous     poutcome  \\\n",
       "0   may         mon       261         1    999         0  nonexistent   \n",
       "1   may         mon       149         1    999         0  nonexistent   \n",
       "2   may         mon       226         1    999         0  nonexistent   \n",
       "\n",
       "   emp.var.rate  cons.price.idx  cons.conf.idx  euribor3m  nr.employed   y  \n",
       "0           1.1          93.994          -36.4      4.857       5191.0  no  \n",
       "1           1.1          93.994          -36.4      4.857       5191.0  no  \n",
       "2           1.1          93.994          -36.4      4.857       5191.0  no  "
      ]
     },
     "execution_count": 2,
     "metadata": {},
     "output_type": "execute_result"
    }
   ],
   "source": [
    "path = \"/Users/vicentesolorzano/Desktop/DATA_GLACIER/WEEK_7_FINAL_1/data/bank-additional-full.csv\"\n",
    "\n",
    "df = pd.read_csv(path,sep=\";\")\n",
    "df.head(3)"
   ]
  },
  {
   "cell_type": "code",
   "execution_count": 3,
   "id": "417fd6c5",
   "metadata": {},
   "outputs": [
    {
     "name": "stdout",
     "output_type": "stream",
     "text": [
      "Number of rows:  41188  -  Number of columns:  21\n"
     ]
    }
   ],
   "source": [
    "print(\"Number of rows: \",df.shape[0],\" - \",\"Number of columns: \",df.shape[1])"
   ]
  },
  {
   "cell_type": "markdown",
   "id": "ccaea13a",
   "metadata": {},
   "source": [
    "Columns: "
   ]
  },
  {
   "cell_type": "code",
   "execution_count": 4,
   "id": "403c78ca",
   "metadata": {},
   "outputs": [
    {
     "data": {
      "text/plain": [
       "Index(['age', 'job', 'marital', 'education', 'default', 'housing', 'loan',\n",
       "       'contact', 'month', 'day_of_week', 'duration', 'campaign', 'pdays',\n",
       "       'previous', 'poutcome', 'emp.var.rate', 'cons.price.idx',\n",
       "       'cons.conf.idx', 'euribor3m', 'nr.employed', 'y'],\n",
       "      dtype='object')"
      ]
     },
     "execution_count": 4,
     "metadata": {},
     "output_type": "execute_result"
    }
   ],
   "source": [
    "df.columns"
   ]
  },
  {
   "cell_type": "markdown",
   "id": "c7a33b9b",
   "metadata": {},
   "source": [
    "Columns types:"
   ]
  },
  {
   "cell_type": "code",
   "execution_count": 5,
   "id": "0099f793",
   "metadata": {},
   "outputs": [
    {
     "data": {
      "text/plain": [
       "age                 int64\n",
       "job                object\n",
       "marital            object\n",
       "education          object\n",
       "default            object\n",
       "housing            object\n",
       "loan               object\n",
       "contact            object\n",
       "month              object\n",
       "day_of_week        object\n",
       "duration            int64\n",
       "campaign            int64\n",
       "pdays               int64\n",
       "previous            int64\n",
       "poutcome           object\n",
       "emp.var.rate      float64\n",
       "cons.price.idx    float64\n",
       "cons.conf.idx     float64\n",
       "euribor3m         float64\n",
       "nr.employed       float64\n",
       "y                  object\n",
       "dtype: object"
      ]
     },
     "execution_count": 5,
     "metadata": {},
     "output_type": "execute_result"
    }
   ],
   "source": [
    "df.dtypes"
   ]
  },
  {
   "cell_type": "markdown",
   "id": "bec5b043",
   "metadata": {},
   "source": [
    "At first sight, we don´t have any nulls in the dataset:"
   ]
  },
  {
   "cell_type": "code",
   "execution_count": 6,
   "id": "40ea1e70",
   "metadata": {},
   "outputs": [
    {
     "data": {
      "text/plain": [
       "age               0\n",
       "job               0\n",
       "marital           0\n",
       "education         0\n",
       "default           0\n",
       "housing           0\n",
       "loan              0\n",
       "contact           0\n",
       "month             0\n",
       "day_of_week       0\n",
       "duration          0\n",
       "campaign          0\n",
       "pdays             0\n",
       "previous          0\n",
       "poutcome          0\n",
       "emp.var.rate      0\n",
       "cons.price.idx    0\n",
       "cons.conf.idx     0\n",
       "euribor3m         0\n",
       "nr.employed       0\n",
       "y                 0\n",
       "dtype: int64"
      ]
     },
     "execution_count": 6,
     "metadata": {},
     "output_type": "execute_result"
    }
   ],
   "source": [
    "df.isnull().sum()"
   ]
  },
  {
   "cell_type": "markdown",
   "id": "085e23d2",
   "metadata": {},
   "source": [
    "## DATA UNDERSTANDING"
   ]
  },
  {
   "cell_type": "markdown",
   "id": "b8c9e998",
   "metadata": {},
   "source": [
    "The data is related with direct marketing campaigns of a Portuguese banking institution. They provided us with certain data of more than 41.000 clients. The marketing campaigns were based on phone calls. Often, more than one contact to the same client was required, in order to access if the product (bank term deposit) would be ('yes') or not ('no') subscribed. "
   ]
  },
  {
   "cell_type": "markdown",
   "id": "3123843e",
   "metadata": {},
   "source": [
    "## 1) FEATURES"
   ]
  },
  {
   "cell_type": "markdown",
   "id": "9bc05d43",
   "metadata": {},
   "source": [
    "### Data related with clients : \n",
    "\n",
    "1) age (numeric)\n",
    "\n",
    "2) job : type of job (categorical: 'admin.','blue-collar','entrepreneur','housemaid','management','retired','self-employed','services','student','technician','unemployed','unknown')\n",
    "\n",
    "3) marital : marital status (categorical: 'divorced','married','single','unknown'; note: 'divorced' means divorced or widowed)\n",
    "\n",
    "4) education (categorical): 'basic.4y','basic.6y','basic.9y','high.school','illiterate','professional.course','university.degree','unknown')\n",
    "\n",
    "5) default: has credit in default? (categorical: 'no','yes','unknown')\n",
    "\n",
    "6) housing: has housing loan? (categorical: 'no','yes','unknown')\n",
    "\n",
    "7) loan: has personal loan? (categorical: 'no','yes','unknown')\n",
    "\n",
    "### Data related with the last contact :\n",
    "\n",
    "8) contact: contact communication type (categorical: 'cellular','telephone') \n",
    "\n",
    "9) month: last contact month of year (categorical: 'jan', 'feb', 'mar', ..., 'nov', 'dec')\n",
    "\n",
    "10) day_of_week: last contact day of the week (categorical: 'mon','tue','wed','thu','fri')\n",
    "\n",
    "11) duration: last contact duration, in seconds (numeric). Important note: this attribute highly affects the output target (e.g., if duration=0 then y='no'). Yet, the duration is not known before a call is performed. Also, after the end of the call y is obviously known. Thus, this input should only be included for benchmark purposes and should be discarded if the intention is to have a realistic predictive model.\n",
    "\n",
    "### Data related with the campaing :\n",
    "\n",
    "12) campaign: number of contacts performed during this campaign and for this client (numeric, includes last contact)\n",
    "\n",
    "13) pdays: number of days that passed by after the client was last contacted from a previous campaign (numeric; 999 means client was not previously contacted)\n",
    "\n",
    "14) previous: number of contacts performed before this campaign and for this client (numeric)\n",
    "\n",
    "15) poutcome: outcome of the previous marketing campaign (categorical: 'failure','nonexistent','success')\n",
    "\n",
    "### Data related with social and economic context attributes:\n",
    "\n",
    "16) emp.var.rate: employment variation rate - quarterly indicator (numeric)\n",
    "\n",
    "17) cons.price.idx: consumer price index - monthly indicator (numeric) \n",
    "\n",
    "18) cons.conf.idx: consumer confidence index - monthly indicator (numeric) \n",
    "\n",
    "19) euribor3m: euribor 3 month rate - daily indicator (numeric)\n",
    "\n",
    "20) nr.employed: number of employees - quarterly indicator (numeric)\n",
    "\n",
    "### Target :\n",
    "\n",
    "21) y - has the client subscribed a term deposit? (binary: 'yes','no')"
   ]
  },
  {
   "cell_type": "code",
   "execution_count": 4,
   "id": "e9fef93b",
   "metadata": {},
   "outputs": [],
   "source": [
    "#Separate features into different features to work easily. \n",
    "#They will have the features for each topic and the target.\n",
    "\n",
    "client_columns = ['age','job', 'marital', 'education', 'default', 'housing', 'loan',\"y\"]\n",
    "contact_columns = ['contact', 'month', 'day_of_week', 'duration',\"y\"]\n",
    "campaign_columns = ['campaign', 'pdays','previous', 'poutcome',\"y\"]\n",
    "socioeconomic_columns = ['emp.var.rate', 'cons.price.idx','cons.conf.idx', 'euribor3m', 'nr.employed',\"y\"]\n",
    "\n",
    "client_df = df[client_columns]\n",
    "contact_df = df[contact_columns]\n",
    "campaign_df = df[campaign_columns]\n",
    "socioeconomic_df = df[socioeconomic_columns]\n"
   ]
  },
  {
   "cell_type": "markdown",
   "id": "ba60023b",
   "metadata": {},
   "source": [
    "## 2) CLIENTS"
   ]
  },
  {
   "cell_type": "markdown",
   "id": "6be6afaf",
   "metadata": {},
   "source": [
    "### Demographic analysis\n"
   ]
  },
  {
   "cell_type": "code",
   "execution_count": 8,
   "id": "5881fcf9",
   "metadata": {},
   "outputs": [
    {
     "data": {
      "text/html": [
       "<div>\n",
       "<style scoped>\n",
       "    .dataframe tbody tr th:only-of-type {\n",
       "        vertical-align: middle;\n",
       "    }\n",
       "\n",
       "    .dataframe tbody tr th {\n",
       "        vertical-align: top;\n",
       "    }\n",
       "\n",
       "    .dataframe thead th {\n",
       "        text-align: right;\n",
       "    }\n",
       "</style>\n",
       "<table border=\"1\" class=\"dataframe\">\n",
       "  <thead>\n",
       "    <tr style=\"text-align: right;\">\n",
       "      <th></th>\n",
       "      <th>age</th>\n",
       "      <th>job</th>\n",
       "      <th>marital</th>\n",
       "      <th>education</th>\n",
       "      <th>default</th>\n",
       "      <th>housing</th>\n",
       "      <th>loan</th>\n",
       "      <th>y</th>\n",
       "    </tr>\n",
       "  </thead>\n",
       "  <tbody>\n",
       "    <tr>\n",
       "      <th>0</th>\n",
       "      <td>56</td>\n",
       "      <td>housemaid</td>\n",
       "      <td>married</td>\n",
       "      <td>basic.4y</td>\n",
       "      <td>no</td>\n",
       "      <td>no</td>\n",
       "      <td>no</td>\n",
       "      <td>no</td>\n",
       "    </tr>\n",
       "    <tr>\n",
       "      <th>1</th>\n",
       "      <td>57</td>\n",
       "      <td>services</td>\n",
       "      <td>married</td>\n",
       "      <td>high.school</td>\n",
       "      <td>unknown</td>\n",
       "      <td>no</td>\n",
       "      <td>no</td>\n",
       "      <td>no</td>\n",
       "    </tr>\n",
       "  </tbody>\n",
       "</table>\n",
       "</div>"
      ],
      "text/plain": [
       "   age        job  marital    education  default housing loan   y\n",
       "0   56  housemaid  married     basic.4y       no      no   no  no\n",
       "1   57   services  married  high.school  unknown      no   no  no"
      ]
     },
     "execution_count": 8,
     "metadata": {},
     "output_type": "execute_result"
    }
   ],
   "source": [
    "client_df.head(2)"
   ]
  },
  {
   "cell_type": "markdown",
   "id": "3f6062d5",
   "metadata": {},
   "source": [
    "### Marital state"
   ]
  },
  {
   "cell_type": "code",
   "execution_count": 5,
   "id": "241a4d34",
   "metadata": {},
   "outputs": [
    {
     "data": {
      "text/plain": [
       "marital\n",
       "divorced     4612\n",
       "married     24928\n",
       "single      11568\n",
       "unknown        80\n",
       "Name: age, dtype: int64"
      ]
     },
     "execution_count": 5,
     "metadata": {},
     "output_type": "execute_result"
    }
   ],
   "source": [
    "client_df.groupby(\"marital\")[\"age\"].count()"
   ]
  },
  {
   "cell_type": "code",
   "execution_count": 6,
   "id": "27839933",
   "metadata": {},
   "outputs": [
    {
     "name": "stdout",
     "output_type": "stream",
     "text": [
      "Marital state of customers (%): \n"
     ]
    },
    {
     "data": {
      "text/plain": [
       "marital\n",
       "divorced    11.197436\n",
       "married     60.522482\n",
       "single      28.085850\n",
       "unknown      0.194231\n",
       "Name: age, dtype: float64"
      ]
     },
     "execution_count": 6,
     "metadata": {},
     "output_type": "execute_result"
    }
   ],
   "source": [
    "marital=(client_df.groupby(\"marital\")[\"age\"].count())/client_df.marital.count()*100\n",
    "#marital.sum()\n",
    "\n",
    "print(\"Marital state of customers (%): \")\n",
    "\n",
    "marital"
   ]
  },
  {
   "cell_type": "code",
   "execution_count": 7,
   "id": "c678d5cd",
   "metadata": {},
   "outputs": [
    {
     "data": {
      "image/png": "[encoded data removed]",
      "text/plain": [
       "<Figure size 720x360 with 1 Axes>"
      ]
     },
     "metadata": {},
     "output_type": "display_data"
    }
   ],
   "source": [
    "#Marital state\n",
    "\n",
    "labels= [\"divorced\",\"married\",\"single\",\"unknown\"]\n",
    "\n",
    "fig = plt.figure(figsize=(10,5)); ax = plt.axes()\n",
    "\n",
    "ax.pie(marital, labels = labels ,autopct='%1.2f%%')\n",
    "plt.show()\n",
    "\n",
    "\n"
   ]
  },
  {
   "cell_type": "markdown",
   "id": "8ec2e7a6",
   "metadata": {},
   "source": [
    "### Job"
   ]
  },
  {
   "cell_type": "code",
   "execution_count": 12,
   "id": "b76487a4",
   "metadata": {},
   "outputs": [
    {
     "data": {
      "text/plain": [
       "job\n",
       "admin.           10422\n",
       "blue-collar       9254\n",
       "entrepreneur      1456\n",
       "housemaid         1060\n",
       "management        2924\n",
       "retired           1720\n",
       "self-employed     1421\n",
       "services          3969\n",
       "student            875\n",
       "technician        6743\n",
       "unemployed        1014\n",
       "unknown            330\n",
       "Name: age, dtype: int64"
      ]
     },
     "execution_count": 12,
     "metadata": {},
     "output_type": "execute_result"
    }
   ],
   "source": [
    "client_df.groupby(\"job\")[\"age\"].count()"
   ]
  },
  {
   "cell_type": "code",
   "execution_count": 8,
   "id": "000e7a81",
   "metadata": {},
   "outputs": [
    {
     "name": "stdout",
     "output_type": "stream",
     "text": [
      "Customers job (%): \n"
     ]
    },
    {
     "data": {
      "text/plain": [
       "job\n",
       "admin.           25.303486\n",
       "blue-collar      22.467709\n",
       "technician       16.371273\n",
       "services          9.636302\n",
       "management        7.099155\n",
       "retired           4.175974\n",
       "entrepreneur      3.535010\n",
       "self-employed     3.450034\n",
       "housemaid         2.573565\n",
       "unemployed        2.461882\n",
       "student           2.124405\n",
       "unknown           0.801204\n",
       "Name: age, dtype: float64"
      ]
     },
     "execution_count": 8,
     "metadata": {},
     "output_type": "execute_result"
    }
   ],
   "source": [
    "job=(client_df.groupby(\"job\")[\"age\"].count())/client_df.age.count()*100\n",
    "#marital.sum()\n",
    "\n",
    "print(\"Customers job (%): \")\n",
    "\n",
    "job.sort_values(ascending=False)"
   ]
  },
  {
   "cell_type": "markdown",
   "id": "8caecfeb",
   "metadata": {},
   "source": [
    "The majority of our customers are in 3 jobs: administration, blue collar or technician."
   ]
  },
  {
   "cell_type": "code",
   "execution_count": 46,
   "id": "171eec04",
   "metadata": {},
   "outputs": [
    {
     "data": {
      "text/plain": [
       "Text(0.5, 0, 'Jobs')"
      ]
     },
     "execution_count": 46,
     "metadata": {},
     "output_type": "execute_result"
    },
    {
     "data": {
      "image/png": "[encoded data removed]",
      "text/plain": [
       "<Figure size 1224x648 with 1 Axes>"
      ]
     },
     "metadata": {},
     "output_type": "display_data"
    }
   ],
   "source": [
    "\n",
    "plt.figure(figsize=(17,9))\n",
    "\n",
    "\n",
    "\n",
    "ax=sns.histplot(data=client_df.job,bins=40, color= 'g')\n",
    "plt.setp( ax.get_xticklabels(),rotation=90)\n",
    "plt.title('Customer by Job', fontsize=20)\n",
    "plt.ylabel('Q of people')\n",
    "plt.xlabel('Jobs')"
   ]
  },
  {
   "cell_type": "markdown",
   "id": "56db31b9",
   "metadata": {},
   "source": [
    "### Age range"
   ]
  },
  {
   "cell_type": "code",
   "execution_count": 35,
   "id": "15b48932",
   "metadata": {},
   "outputs": [],
   "source": [
    "ranges=[0,30,40,50,60,100]\n",
    "labels=[\"30 and under\",\"31-40\",\"41-50\",\"51-60\",\"over 60\"]\n",
    "\n",
    "client_df[\"age_range\"]=pd.cut(client_df.age,bins= ranges,labels=labels)\n"
   ]
  },
  {
   "cell_type": "code",
   "execution_count": 36,
   "id": "34195b0f",
   "metadata": {},
   "outputs": [
    {
     "name": "stdout",
     "output_type": "stream",
     "text": [
      "Customers by age (%): \n"
     ]
    },
    {
     "data": {
      "text/plain": [
       "age_range\n",
       "30 and under    17.925124\n",
       "31-40           39.781004\n",
       "41-50           24.861610\n",
       "51-60           15.222880\n",
       "over 60          2.209381\n",
       "Name: age, dtype: float64"
      ]
     },
     "execution_count": 36,
     "metadata": {},
     "output_type": "execute_result"
    }
   ],
   "source": [
    "customer_age_range=(client_df.groupby(\"age_range\")[\"age\"].count())/client_df.age.count()*100\n",
    "#marital.sum()\n",
    "\n",
    "print(\"Customers by age (%): \")\n",
    "\n",
    "customer_age_range\n",
    "#job.sort_values(ascending=False)"
   ]
  },
  {
   "cell_type": "code",
   "execution_count": 39,
   "id": "9908ee48",
   "metadata": {},
   "outputs": [
    {
     "data": {
      "image/png": "[encoded data removed]",
      "text/plain": [
       "<Figure size 720x360 with 1 Axes>"
      ]
     },
     "metadata": {},
     "output_type": "display_data"
    }
   ],
   "source": [
    "#age range\n",
    "\n",
    "labels=[\"30 and under\",\"31-40\",\"41-50\",\"51-60\",\"over 60\"]\n",
    "fig = plt.figure(figsize=(10,5)); ax = plt.axes()\n",
    "\n",
    "ax.pie(customer_age_range, labels = labels ,autopct='%1.2f%%')\n",
    "plt.show()"
   ]
  },
  {
   "cell_type": "markdown",
   "id": "c03b09ff",
   "metadata": {},
   "source": [
    "31-40 and 41-50 seems to be our age segments with most customers. There are 64.6% of the customers"
   ]
  },
  {
   "cell_type": "markdown",
   "id": "1ba4dccc",
   "metadata": {},
   "source": [
    "### Education"
   ]
  },
  {
   "cell_type": "code",
   "execution_count": 52,
   "id": "3c62f685",
   "metadata": {},
   "outputs": [
    {
     "data": {
      "text/plain": [
       "education\n",
       "basic.4y                4176\n",
       "basic.6y                2292\n",
       "basic.9y                6045\n",
       "high.school             9515\n",
       "illiterate                18\n",
       "professional.course     5243\n",
       "university.degree      12168\n",
       "unknown                 1731\n",
       "Name: age, dtype: int64"
      ]
     },
     "execution_count": 52,
     "metadata": {},
     "output_type": "execute_result"
    }
   ],
   "source": [
    "client_df.groupby(\"education\")[\"age\"].count()"
   ]
  },
  {
   "cell_type": "code",
   "execution_count": 11,
   "id": "62d514ad",
   "metadata": {},
   "outputs": [
    {
     "name": "stdout",
     "output_type": "stream",
     "text": [
      "Customers education (%): \n"
     ]
    },
    {
     "data": {
      "text/plain": [
       "education\n",
       "university.degree      29.542585\n",
       "high.school            23.101389\n",
       "basic.9y               14.676605\n",
       "professional.course    12.729436\n",
       "basic.4y               10.138875\n",
       "basic.6y                5.564728\n",
       "unknown                 4.202680\n",
       "illiterate              0.043702\n",
       "Name: age, dtype: float64"
      ]
     },
     "execution_count": 11,
     "metadata": {},
     "output_type": "execute_result"
    }
   ],
   "source": [
    "education_cust=(client_df.groupby(\"education\")[\"age\"].count())/client_df.age.count()*100\n",
    "#marital.sum()\n",
    "\n",
    "print(\"Customers education (%): \")\n",
    "\n",
    "education_cust=education_cust.sort_values(ascending=False)\n",
    "education_cust"
   ]
  },
  {
   "cell_type": "code",
   "execution_count": 54,
   "id": "85bd1b88",
   "metadata": {},
   "outputs": [
    {
     "data": {
      "image/png": "[encoded data removed]",
      "text/plain": [
       "<Figure size 720x360 with 1 Axes>"
      ]
     },
     "metadata": {},
     "output_type": "display_data"
    }
   ],
   "source": [
    "#education\n",
    "\n",
    "labels=list(education_cust.index)\n",
    "fig = plt.figure(figsize=(10,5)); ax = plt.axes()\n",
    "\n",
    "ax.pie(education_cust ,labels=labels,autopct='%1.2f%%')\n",
    "plt.show()"
   ]
  },
  {
   "cell_type": "markdown",
   "id": "3ba9da8a",
   "metadata": {},
   "source": [
    "More than the 65% of the customers have at least a high school degree. More than 35% have a professional course or university degree."
   ]
  },
  {
   "cell_type": "markdown",
   "id": "d6ed150f",
   "metadata": {},
   "source": [
    "### Default, housing & loan"
   ]
  },
  {
   "cell_type": "code",
   "execution_count": 55,
   "id": "ece49003",
   "metadata": {},
   "outputs": [
    {
     "data": {
      "text/plain": [
       "Text(0.5, 0, 'Personal loan')"
      ]
     },
     "execution_count": 55,
     "metadata": {},
     "output_type": "execute_result"
    },
    {
     "data": {
      "image/png": "[encoded data removed]",
      "text/plain": [
       "<Figure size 2376x648 with 3 Axes>"
      ]
     },
     "metadata": {},
     "output_type": "display_data"
    }
   ],
   "source": [
    "plt.figure(figsize=(33,9))\n",
    "\n",
    "plt.subplot(1,3,1)\n",
    "\n",
    "ax=sns.histplot(data=client_df.default,bins=40, color= 'g')\n",
    "plt.setp( ax.get_xticklabels(),rotation=0)\n",
    "plt.title('Default in customers', fontsize=20)\n",
    "plt.ylabel('Q of people')\n",
    "plt.xlabel('default')\n",
    "\n",
    "plt.subplot(1,3,2)\n",
    "\n",
    "ax=sns.histplot(data=client_df.housing,bins=40, color= 'r')\n",
    "plt.setp( ax.get_xticklabels(),rotation=0)\n",
    "plt.title('Housing loan in customers', fontsize=20)\n",
    "plt.ylabel('Q of people')\n",
    "plt.xlabel('Housing loan')\n",
    "\n",
    "plt.subplot(1,3,3)\n",
    "\n",
    "ax=sns.histplot(data=client_df.loan,bins=40, color= 'b')\n",
    "plt.setp( ax.get_xticklabels(),rotation=0)\n",
    "plt.title('Personal loan in customers', fontsize=20)\n",
    "plt.ylabel('Q of people')\n",
    "plt.xlabel('Personal loan')"
   ]
  },
  {
   "cell_type": "code",
   "execution_count": 12,
   "id": "355799bb",
   "metadata": {},
   "outputs": [
    {
     "data": {
      "text/plain": [
       "default\n",
       "no         32588\n",
       "unknown     8597\n",
       "yes            3\n",
       "Name: age, dtype: int64"
      ]
     },
     "execution_count": 12,
     "metadata": {},
     "output_type": "execute_result"
    }
   ],
   "source": [
    "default_cust=client_df.groupby(\"default\")[\"age\"].count()\n",
    "default_cust"
   ]
  },
  {
   "cell_type": "code",
   "execution_count": 57,
   "id": "59b0230f",
   "metadata": {},
   "outputs": [
    {
     "data": {
      "text/plain": [
       "default\n",
       "no         79.120132\n",
       "unknown    20.872584\n",
       "yes         0.007284\n",
       "Name: age, dtype: float64"
      ]
     },
     "execution_count": 57,
     "metadata": {},
     "output_type": "execute_result"
    }
   ],
   "source": [
    "default_cust/client_df.age.count()*100"
   ]
  },
  {
   "cell_type": "markdown",
   "id": "7f3247ca",
   "metadata": {},
   "source": [
    "Seems to be a lack of customers in default, just 3, but consider that unknown have to be taken as null values. Unknown are more than 20% of the customers."
   ]
  },
  {
   "cell_type": "markdown",
   "id": "8fa8a255",
   "metadata": {},
   "source": [
    "### Last Contact \n",
    "\n",
    "Little analysis of the data about the last contact."
   ]
  },
  {
   "cell_type": "code",
   "execution_count": 13,
   "id": "72a065a2",
   "metadata": {},
   "outputs": [
    {
     "data": {
      "text/plain": [
       "contact\n",
       "cellular     63.474798\n",
       "telephone    36.525202\n",
       "Name: contact, dtype: float64"
      ]
     },
     "execution_count": 13,
     "metadata": {},
     "output_type": "execute_result"
    }
   ],
   "source": [
    "contact=contact_df.groupby(\"contact\")[\"contact\"].count()\n",
    "\n",
    "contact_per=contact/contact_df.contact.count()*100\n",
    "\n",
    "contact_per"
   ]
  },
  {
   "cell_type": "code",
   "execution_count": 71,
   "id": "dc4301bd",
   "metadata": {},
   "outputs": [
    {
     "data": {
      "image/png": "[encoded data removed]",
      "text/plain": [
       "<Figure size 720x360 with 1 Axes>"
      ]
     },
     "metadata": {},
     "output_type": "display_data"
    }
   ],
   "source": [
    "\n",
    "\n",
    "labels=list(contact.index)\n",
    "fig = plt.figure(figsize=(10,5)); ax = plt.axes()\n",
    "\n",
    "ax.pie(contact_per ,labels=labels,autopct='%1.2f%%')\n",
    "plt.show()"
   ]
  },
  {
   "cell_type": "code",
   "execution_count": 14,
   "id": "142c3b96",
   "metadata": {},
   "outputs": [
    {
     "data": {
      "text/html": [
       "<div>\n",
       "<style scoped>\n",
       "    .dataframe tbody tr th:only-of-type {\n",
       "        vertical-align: middle;\n",
       "    }\n",
       "\n",
       "    .dataframe tbody tr th {\n",
       "        vertical-align: top;\n",
       "    }\n",
       "\n",
       "    .dataframe thead th {\n",
       "        text-align: right;\n",
       "    }\n",
       "</style>\n",
       "<table border=\"1\" class=\"dataframe\">\n",
       "  <thead>\n",
       "    <tr style=\"text-align: right;\">\n",
       "      <th></th>\n",
       "      <th>contact</th>\n",
       "    </tr>\n",
       "    <tr>\n",
       "      <th>month</th>\n",
       "      <th></th>\n",
       "    </tr>\n",
       "  </thead>\n",
       "  <tbody>\n",
       "    <tr>\n",
       "      <th>may</th>\n",
       "      <td>13769</td>\n",
       "    </tr>\n",
       "    <tr>\n",
       "      <th>jul</th>\n",
       "      <td>7174</td>\n",
       "    </tr>\n",
       "    <tr>\n",
       "      <th>aug</th>\n",
       "      <td>6178</td>\n",
       "    </tr>\n",
       "    <tr>\n",
       "      <th>jun</th>\n",
       "      <td>5318</td>\n",
       "    </tr>\n",
       "    <tr>\n",
       "      <th>nov</th>\n",
       "      <td>4101</td>\n",
       "    </tr>\n",
       "  </tbody>\n",
       "</table>\n",
       "</div>"
      ],
      "text/plain": [
       "       contact\n",
       "month         \n",
       "may      13769\n",
       "jul       7174\n",
       "aug       6178\n",
       "jun       5318\n",
       "nov       4101"
      ]
     },
     "execution_count": 14,
     "metadata": {},
     "output_type": "execute_result"
    }
   ],
   "source": [
    "contact_month=contact_df.groupby(\"month\")[\"contact\"].count().sort_values(ascending=False)\n",
    "contact_month_df=pd.DataFrame(contact_month)\n",
    "\n",
    "\n",
    "contact_month_df.head(5)\n"
   ]
  },
  {
   "cell_type": "markdown",
   "id": "e241411e",
   "metadata": {},
   "source": [
    "5 top contact months were may , july, august, june and november."
   ]
  },
  {
   "cell_type": "code",
   "execution_count": 107,
   "id": "b3d0b37d",
   "metadata": {},
   "outputs": [
    {
     "data": {
      "text/plain": [
       "Text(0.5, 0, 'Duration of the call')"
      ]
     },
     "execution_count": 107,
     "metadata": {},
     "output_type": "execute_result"
    },
    {
     "data": {
      "image/png": "[encoded data removed]",
      "text/plain": [
       "<Figure size 2376x648 with 2 Axes>"
      ]
     },
     "metadata": {},
     "output_type": "display_data"
    },
    {
     "data": {
      "image/png": "[encoded data removed]",
      "text/plain": [
       "<Figure size 2376x648 with 1 Axes>"
      ]
     },
     "metadata": {},
     "output_type": "display_data"
    }
   ],
   "source": [
    "plt.figure(figsize=(33,9))\n",
    "\n",
    "plt.subplot(1,3,1)\n",
    "\n",
    "ax=sns.histplot(data=contact_df.month,bins=40, color= 'g')\n",
    "plt.setp( ax.get_xticklabels(),rotation=0)\n",
    "plt.title('Month of the last contact', fontsize=20)\n",
    "plt.ylabel('Q of people')\n",
    "plt.xlabel('Month')\n",
    "\n",
    "plt.subplot(1,3,2)\n",
    "\n",
    "ax=sns.histplot(data=contact_df.day_of_week,bins=40, color= 'r')\n",
    "plt.setp( ax.get_xticklabels(),rotation=0)\n",
    "plt.title('Day of the week of the last contact', fontsize=20)\n",
    "plt.ylabel('Q of people')\n",
    "plt.xlabel('Day')\n",
    "\n",
    "plt.figure(figsize=(33,9))\n",
    "\n",
    "plt.subplot(1,3,3)\n",
    "\n",
    "ax=sns.histplot(data=contact_df.duration,bins=40, color= 'b')\n",
    "plt.setp( ax.get_xticklabels(),rotation=0)\n",
    "plt.title('Duration of the call of the last contact', fontsize=20)\n",
    "plt.ylabel('Q of people')\n",
    "plt.xlabel('Duration of the call')\n",
    "\n"
   ]
  },
  {
   "cell_type": "code",
   "execution_count": 134,
   "id": "0ce19f44",
   "metadata": {},
   "outputs": [
    {
     "data": {
      "text/plain": [
       "Series([], Name: duration, dtype: int64)"
      ]
     },
     "execution_count": 134,
     "metadata": {},
     "output_type": "execute_result"
    }
   ],
   "source": [
    "contact_df.duration[contact_df.duration==\"unknown\"]"
   ]
  },
  {
   "cell_type": "markdown",
   "id": "67b85654",
   "metadata": {},
   "source": [
    "Contact are almost the same by the different days of the week. The most"
   ]
  },
  {
   "cell_type": "code",
   "execution_count": 135,
   "id": "5139c46c",
   "metadata": {},
   "outputs": [
    {
     "data": {
      "text/plain": [
       "array([ 261,  149,  226, ..., 1246, 1556, 1868])"
      ]
     },
     "execution_count": 135,
     "metadata": {},
     "output_type": "execute_result"
    }
   ],
   "source": [
    "contact_df.duration.unique()"
   ]
  },
  {
   "cell_type": "code",
   "execution_count": 41,
   "id": "7be7d0cc",
   "metadata": {},
   "outputs": [],
   "source": [
    "ranges=[-1,200,400,600,800,1000,5000]\n",
    "labels=[\"0-200\",\"201-400\",\"401-600\",\"601-800\",\"801-1000\",\"over 1000\"]\n",
    "\n",
    "contact_df[\"duration_range\"]=pd.cut(contact_df.duration,bins= ranges,labels=labels)\n",
    "\n"
   ]
  },
  {
   "cell_type": "code",
   "execution_count": 43,
   "id": "08df03b6",
   "metadata": {},
   "outputs": [
    {
     "data": {
      "text/plain": [
       "duration_range\n",
       "0-200        22760\n",
       "201-400      11264\n",
       "401-600       3700\n",
       "601-800       1707\n",
       "801-1000       801\n",
       "over 1000      956\n",
       "Name: contact, dtype: int64"
      ]
     },
     "execution_count": 43,
     "metadata": {},
     "output_type": "execute_result"
    }
   ],
   "source": [
    "contact_duration_range=contact_df.groupby(\"duration_range\")[\"contact\"].count()\n",
    "contact_duration_range"
   ]
  },
  {
   "cell_type": "markdown",
   "id": "dc945989",
   "metadata": {},
   "source": [
    "As we know, this attribute highly affects the output target. So it is a nice a anlysis to understand how it is related with \"y\" rate, but it is a little useless. We won´t have this information if we want to predict the future acceptance by the client."
   ]
  },
  {
   "cell_type": "markdown",
   "id": "f652a90e",
   "metadata": {},
   "source": [
    "## Campaing "
   ]
  },
  {
   "cell_type": "code",
   "execution_count": 17,
   "id": "e872eea1",
   "metadata": {},
   "outputs": [],
   "source": [
    "poutcome_gb=campaign_df.groupby(\"poutcome\")[\"campaign\"].count()\n",
    "\n",
    "poutcome_gb_per=poutcome_gb/campaign_df.campaign.count()*100"
   ]
  },
  {
   "cell_type": "markdown",
   "id": "e6a8a9f9",
   "metadata": {},
   "source": [
    "Outcome of the previous marketing campaign: "
   ]
  },
  {
   "cell_type": "code",
   "execution_count": 188,
   "id": "c4efda65",
   "metadata": {},
   "outputs": [
    {
     "data": {
      "image/png": "[encoded data removed]",
      "text/plain": [
       "<Figure size 720x360 with 1 Axes>"
      ]
     },
     "metadata": {},
     "output_type": "display_data"
    }
   ],
   "source": [
    "labels=list(poutcome_gb_per.index)\n",
    "fig = plt.figure(figsize=(10,5)); ax = plt.axes()\n",
    "\n",
    "ax.pie(poutcome_gb_per ,labels=labels,autopct='%1.2f%%')\n",
    "plt.show()\n"
   ]
  },
  {
   "cell_type": "markdown",
   "id": "984a5241",
   "metadata": {},
   "source": [
    "Campaign: number of contacts performed during this campaign and for this client (numeric, includes last contact)"
   ]
  },
  {
   "cell_type": "code",
   "execution_count": 33,
   "id": "20410419",
   "metadata": {},
   "outputs": [],
   "source": [
    "ranges=[-1,3,6,9,12,100]\n",
    "labels=[\"0-3\",\"4-6\",\"7-9\",\"10-12\",\"More than 12\"]\n",
    "\n",
    "campaign_df[\"campaign_range\"]=pd.cut(campaign_df.campaign,bins= ranges,labels=labels)\n",
    "\n"
   ]
  },
  {
   "cell_type": "code",
   "execution_count": 34,
   "id": "e7d35161",
   "metadata": {},
   "outputs": [
    {
     "data": {
      "text/plain": [
       "campaign_range\n",
       "0-3             81.463047\n",
       "4-6             12.695445\n",
       "7-9              3.185394\n",
       "10-12            1.279499\n",
       "More than 12     1.376615\n",
       "Name: campaign, dtype: float64"
      ]
     },
     "execution_count": 34,
     "metadata": {},
     "output_type": "execute_result"
    }
   ],
   "source": [
    "campaign_range_df=campaign_df.groupby(\"campaign_range\")[\"campaign\"].count()\n",
    "\n",
    "campaign_range_df_per=campaign_range_df/(campaign_df.campaign.count())*100\n",
    "\n",
    "campaign_range_df_per"
   ]
  },
  {
   "cell_type": "code",
   "execution_count": 22,
   "id": "b0799ac0",
   "metadata": {},
   "outputs": [],
   "source": [
    "\n",
    "#pdays\n",
    "#numeric; 999 means client was not previously contacted)\n",
    "#poutcome\n",
    "#nonexistent = there were not previous campaign."
   ]
  },
  {
   "cell_type": "markdown",
   "id": "fb528c81",
   "metadata": {},
   "source": [
    "\"pdays\": Number of days that passed by after the client was last contacted from a previous campaign: (numeric; 999 means client was not previously contacted)"
   ]
  },
  {
   "cell_type": "code",
   "execution_count": 46,
   "id": "14d24a78",
   "metadata": {},
   "outputs": [],
   "source": [
    "ranges=[-1,5,10,15,20,25,30,1000]\n",
    "labels=[\"0-5\",\"6-10\",\"11-15\",\"16-20\",\"21-25\",\"26-30\",\"No previous contacted\"]\n",
    "\n",
    "campaign_df[\"pdays_range\"]=pd.cut(campaign_df.pdays,bins= ranges,labels=labels)\n"
   ]
  },
  {
   "cell_type": "code",
   "execution_count": 47,
   "id": "a7194dba",
   "metadata": {},
   "outputs": [
    {
     "data": {
      "text/plain": [
       "pdays_range\n",
       "0-5                       1.711664\n",
       "6-10                      1.471302\n",
       "11-15                     0.403030\n",
       "16-20                     0.072837\n",
       "21-25                     0.014567\n",
       "26-30                     0.004856\n",
       "No previous contacted    96.321744\n",
       "Name: campaign, dtype: float64"
      ]
     },
     "execution_count": 47,
     "metadata": {},
     "output_type": "execute_result"
    }
   ],
   "source": [
    "pdays_range_df=campaign_df.groupby(\"pdays_range\")[\"campaign\"].count()\n",
    "\n",
    "pdays_range_df_per=pdays_range_df/(campaign_df.campaign.count())*100\n",
    "\n",
    "pdays_range_df_per\n"
   ]
  },
  {
   "cell_type": "markdown",
   "id": "48bfe1f9",
   "metadata": {},
   "source": [
    "Most of clients were no contacted before (96%)."
   ]
  },
  {
   "cell_type": "markdown",
   "id": "24c0d485",
   "metadata": {},
   "source": [
    "Previous: number of contacts performed before this campaign and for this client (numeric)"
   ]
  },
  {
   "cell_type": "code",
   "execution_count": 216,
   "id": "52f36c18",
   "metadata": {},
   "outputs": [
    {
     "data": {
      "text/plain": [
       "previous\n",
       "0    35563\n",
       "1     4561\n",
       "2      754\n",
       "3      216\n",
       "4       70\n",
       "5       18\n",
       "6        5\n",
       "7        1\n",
       "Name: campaign, dtype: int64"
      ]
     },
     "execution_count": 216,
     "metadata": {},
     "output_type": "execute_result"
    }
   ],
   "source": [
    "campaign_df.groupby(\"previous\")[\"campaign\"].count()"
   ]
  },
  {
   "cell_type": "markdown",
   "id": "24c9506b",
   "metadata": {},
   "source": [
    "## 3) CLIENT ANALYSIS AND TARGET"
   ]
  },
  {
   "cell_type": "markdown",
   "id": "6395b4ed",
   "metadata": {},
   "source": [
    "### Age range and target"
   ]
  },
  {
   "cell_type": "code",
   "execution_count": 49,
   "id": "b4fa4b4b",
   "metadata": {},
   "outputs": [
    {
     "data": {
      "text/plain": [
       "Text(0.5, 1.0, 'Agewise Distribution')"
      ]
     },
     "execution_count": 49,
     "metadata": {},
     "output_type": "execute_result"
    },
    {
     "data": {
      "image/png": "[encoded data removed]",
      "text/plain": [
       "<Figure size 648x360 with 1 Axes>"
      ]
     },
     "metadata": {},
     "output_type": "display_data"
    }
   ],
   "source": [
    "fig, ax = plt.subplots(figsize = (9, 5))\n",
    "sns.histplot(data=client_df, x='age_range', hue='y', binwidth=10,multiple='stack',stat=\"probability\", edgecolor ='black')\n",
    "plt.xlabel(\"Age_range\") \n",
    "plt.ylabel(\"Percentage\")\n",
    "plt.title(\"Agewise Distribution\")"
   ]
  },
  {
   "cell_type": "code",
   "execution_count": 48,
   "id": "18bf5ca5",
   "metadata": {},
   "outputs": [
    {
     "data": {
      "text/html": [
       "<div>\n",
       "<style scoped>\n",
       "    .dataframe tbody tr th:only-of-type {\n",
       "        vertical-align: middle;\n",
       "    }\n",
       "\n",
       "    .dataframe tbody tr th {\n",
       "        vertical-align: top;\n",
       "    }\n",
       "\n",
       "    .dataframe thead th {\n",
       "        text-align: right;\n",
       "    }\n",
       "</style>\n",
       "<table border=\"1\" class=\"dataframe\">\n",
       "  <thead>\n",
       "    <tr style=\"text-align: right;\">\n",
       "      <th>y</th>\n",
       "      <th>no</th>\n",
       "      <th>yes</th>\n",
       "      <th>totals</th>\n",
       "      <th>% no</th>\n",
       "      <th>% yes</th>\n",
       "    </tr>\n",
       "    <tr>\n",
       "      <th>age_range</th>\n",
       "      <th></th>\n",
       "      <th></th>\n",
       "      <th></th>\n",
       "      <th></th>\n",
       "      <th></th>\n",
       "    </tr>\n",
       "  </thead>\n",
       "  <tbody>\n",
       "    <tr>\n",
       "      <th>30 and under</th>\n",
       "      <td>6259</td>\n",
       "      <td>1124</td>\n",
       "      <td>7383</td>\n",
       "      <td>84.775836</td>\n",
       "      <td>15.224164</td>\n",
       "    </tr>\n",
       "    <tr>\n",
       "      <th>31-40</th>\n",
       "      <td>14788</td>\n",
       "      <td>1597</td>\n",
       "      <td>16385</td>\n",
       "      <td>90.253280</td>\n",
       "      <td>9.746720</td>\n",
       "    </tr>\n",
       "    <tr>\n",
       "      <th>41-50</th>\n",
       "      <td>9403</td>\n",
       "      <td>837</td>\n",
       "      <td>10240</td>\n",
       "      <td>91.826172</td>\n",
       "      <td>8.173828</td>\n",
       "    </tr>\n",
       "    <tr>\n",
       "      <th>51-60</th>\n",
       "      <td>5602</td>\n",
       "      <td>668</td>\n",
       "      <td>6270</td>\n",
       "      <td>89.346093</td>\n",
       "      <td>10.653907</td>\n",
       "    </tr>\n",
       "    <tr>\n",
       "      <th>over 60</th>\n",
       "      <td>496</td>\n",
       "      <td>414</td>\n",
       "      <td>910</td>\n",
       "      <td>54.505495</td>\n",
       "      <td>45.494505</td>\n",
       "    </tr>\n",
       "    <tr>\n",
       "      <th>totals</th>\n",
       "      <td>36548</td>\n",
       "      <td>4640</td>\n",
       "      <td>41188</td>\n",
       "      <td>88.734583</td>\n",
       "      <td>11.265417</td>\n",
       "    </tr>\n",
       "  </tbody>\n",
       "</table>\n",
       "</div>"
      ],
      "text/plain": [
       "y                no   yes  totals       % no      % yes\n",
       "age_range                                              \n",
       "30 and under   6259  1124    7383  84.775836  15.224164\n",
       "31-40         14788  1597   16385  90.253280   9.746720\n",
       "41-50          9403   837   10240  91.826172   8.173828\n",
       "51-60          5602   668    6270  89.346093  10.653907\n",
       "over 60         496   414     910  54.505495  45.494505\n",
       "totals        36548  4640   41188  88.734583  11.265417"
      ]
     },
     "execution_count": 48,
     "metadata": {},
     "output_type": "execute_result"
    }
   ],
   "source": [
    "pivot_age=client_df.pivot_table(\"age\",index=\"age_range\",columns=\"y\",aggfunc=\"count\",margins=True, margins_name= \"totals\")\n",
    "\n",
    "pivot_age[\"% no\"]=pivot_age.no/pivot_age.totals*100\n",
    "pivot_age[\"% yes\"]=pivot_age.yes/pivot_age.totals*100\n",
    "\n",
    "pivot_age"
   ]
  },
  {
   "cell_type": "markdown",
   "id": "85df81f9",
   "metadata": {},
   "source": [
    "People over 60 is the range with higher acceptance range of the term deposit."
   ]
  },
  {
   "cell_type": "markdown",
   "id": "31ad7997",
   "metadata": {},
   "source": [
    "### Job, Marital, Education and target"
   ]
  },
  {
   "cell_type": "code",
   "execution_count": 23,
   "id": "d978bb3c",
   "metadata": {},
   "outputs": [
    {
     "data": {
      "text/plain": [
       "Index(['age', 'job', 'marital', 'education', 'default', 'housing', 'loan', 'y',\n",
       "       'age_range'],\n",
       "      dtype='object')"
      ]
     },
     "execution_count": 23,
     "metadata": {},
     "output_type": "execute_result"
    }
   ],
   "source": [
    "client_df.columns"
   ]
  },
  {
   "cell_type": "code",
   "execution_count": 42,
   "id": "2c6502e3",
   "metadata": {},
   "outputs": [
    {
     "data": {
      "text/plain": [
       "Text(0.5, 1.0, 'Education Distribution')"
      ]
     },
     "execution_count": 42,
     "metadata": {},
     "output_type": "execute_result"
    },
    {
     "data": {
      "image/png": "[encoded data removed]",
      "text/plain": [
       "<Figure size 2376x648 with 2 Axes>"
      ]
     },
     "metadata": {},
     "output_type": "display_data"
    },
    {
     "data": {
      "image/png": "[encoded data removed]",
      "text/plain": [
       "<Figure size 2376x648 with 1 Axes>"
      ]
     },
     "metadata": {},
     "output_type": "display_data"
    }
   ],
   "source": [
    "plt.figure(figsize=(33,9))\n",
    "\n",
    "plt.subplot(1,3,1)\n",
    "\n",
    "#fig, ax = plt.subplots(figsize = (9, 5))\n",
    "ax = sns.histplot(data=client_df, x='job', hue='y', binwidth=10,multiple='stack',stat=\"probability\", edgecolor ='black')\n",
    "plt.setp( ax.get_xticklabels(),rotation=75)\n",
    "plt.xlabel(\"Job\") \n",
    "plt.ylabel(\"Percentage\")\n",
    "plt.title(\"Job Distribution\")\n",
    "\n",
    "plt.subplot(1,3,2)\n",
    "\n",
    "#fig, ax = plt.subplots(figsize = (9, 5))\n",
    "ax = sns.histplot(data=client_df, x='marital', hue='y', binwidth=10,multiple='stack',stat=\"probability\", edgecolor ='black')\n",
    "plt.setp( ax.get_xticklabels(),rotation=75)\n",
    "plt.xlabel(\"Marital\") \n",
    "plt.ylabel(\"Percentage\")\n",
    "plt.title(\"Marital Distribution\")\n",
    "\n",
    "plt.figure(figsize=(33,9))\n",
    "\n",
    "plt.subplot(1,3,3)\n",
    "\n",
    "#fig, ax = plt.subplots(figsize = (9, 5))\n",
    "#plt.setp( ax.get_xticklabels(),rotation=90)\n",
    "ax = sns.histplot(data=client_df, x='education', hue='y', binwidth=10,multiple='stack',stat=\"probability\", edgecolor ='black')\n",
    "plt.setp( ax.get_xticklabels(),rotation=75)\n",
    "plt.xlabel(\"Education\") \n",
    "plt.ylabel(\"Percentage\")\n",
    "plt.title(\"Education Distribution\")\n",
    "\n"
   ]
  },
  {
   "cell_type": "code",
   "execution_count": 77,
   "id": "a137c8b0",
   "metadata": {},
   "outputs": [
    {
     "data": {
      "text/html": [
       "<div>\n",
       "<style scoped>\n",
       "    .dataframe tbody tr th:only-of-type {\n",
       "        vertical-align: middle;\n",
       "    }\n",
       "\n",
       "    .dataframe tbody tr th {\n",
       "        vertical-align: top;\n",
       "    }\n",
       "\n",
       "    .dataframe thead th {\n",
       "        text-align: right;\n",
       "    }\n",
       "</style>\n",
       "<table border=\"1\" class=\"dataframe\">\n",
       "  <thead>\n",
       "    <tr style=\"text-align: right;\">\n",
       "      <th>y</th>\n",
       "      <th>no</th>\n",
       "      <th>yes</th>\n",
       "      <th>totals</th>\n",
       "      <th>% no</th>\n",
       "      <th>% yes</th>\n",
       "    </tr>\n",
       "    <tr>\n",
       "      <th>job</th>\n",
       "      <th></th>\n",
       "      <th></th>\n",
       "      <th></th>\n",
       "      <th></th>\n",
       "      <th></th>\n",
       "    </tr>\n",
       "  </thead>\n",
       "  <tbody>\n",
       "    <tr>\n",
       "      <th>admin.</th>\n",
       "      <td>9070</td>\n",
       "      <td>1352</td>\n",
       "      <td>10422</td>\n",
       "      <td>87.027442</td>\n",
       "      <td>12.972558</td>\n",
       "    </tr>\n",
       "    <tr>\n",
       "      <th>blue-collar</th>\n",
       "      <td>8616</td>\n",
       "      <td>638</td>\n",
       "      <td>9254</td>\n",
       "      <td>93.105684</td>\n",
       "      <td>6.894316</td>\n",
       "    </tr>\n",
       "    <tr>\n",
       "      <th>entrepreneur</th>\n",
       "      <td>1332</td>\n",
       "      <td>124</td>\n",
       "      <td>1456</td>\n",
       "      <td>91.483516</td>\n",
       "      <td>8.516484</td>\n",
       "    </tr>\n",
       "    <tr>\n",
       "      <th>housemaid</th>\n",
       "      <td>954</td>\n",
       "      <td>106</td>\n",
       "      <td>1060</td>\n",
       "      <td>90.000000</td>\n",
       "      <td>10.000000</td>\n",
       "    </tr>\n",
       "    <tr>\n",
       "      <th>management</th>\n",
       "      <td>2596</td>\n",
       "      <td>328</td>\n",
       "      <td>2924</td>\n",
       "      <td>88.782490</td>\n",
       "      <td>11.217510</td>\n",
       "    </tr>\n",
       "    <tr>\n",
       "      <th>retired</th>\n",
       "      <td>1286</td>\n",
       "      <td>434</td>\n",
       "      <td>1720</td>\n",
       "      <td>74.767442</td>\n",
       "      <td>25.232558</td>\n",
       "    </tr>\n",
       "    <tr>\n",
       "      <th>self-employed</th>\n",
       "      <td>1272</td>\n",
       "      <td>149</td>\n",
       "      <td>1421</td>\n",
       "      <td>89.514426</td>\n",
       "      <td>10.485574</td>\n",
       "    </tr>\n",
       "    <tr>\n",
       "      <th>services</th>\n",
       "      <td>3646</td>\n",
       "      <td>323</td>\n",
       "      <td>3969</td>\n",
       "      <td>91.861930</td>\n",
       "      <td>8.138070</td>\n",
       "    </tr>\n",
       "    <tr>\n",
       "      <th>student</th>\n",
       "      <td>600</td>\n",
       "      <td>275</td>\n",
       "      <td>875</td>\n",
       "      <td>68.571429</td>\n",
       "      <td>31.428571</td>\n",
       "    </tr>\n",
       "    <tr>\n",
       "      <th>technician</th>\n",
       "      <td>6013</td>\n",
       "      <td>730</td>\n",
       "      <td>6743</td>\n",
       "      <td>89.173958</td>\n",
       "      <td>10.826042</td>\n",
       "    </tr>\n",
       "    <tr>\n",
       "      <th>unemployed</th>\n",
       "      <td>870</td>\n",
       "      <td>144</td>\n",
       "      <td>1014</td>\n",
       "      <td>85.798817</td>\n",
       "      <td>14.201183</td>\n",
       "    </tr>\n",
       "    <tr>\n",
       "      <th>unknown</th>\n",
       "      <td>293</td>\n",
       "      <td>37</td>\n",
       "      <td>330</td>\n",
       "      <td>88.787879</td>\n",
       "      <td>11.212121</td>\n",
       "    </tr>\n",
       "    <tr>\n",
       "      <th>totals</th>\n",
       "      <td>36548</td>\n",
       "      <td>4640</td>\n",
       "      <td>41188</td>\n",
       "      <td>88.734583</td>\n",
       "      <td>11.265417</td>\n",
       "    </tr>\n",
       "  </tbody>\n",
       "</table>\n",
       "</div>"
      ],
      "text/plain": [
       "y                 no   yes  totals       % no      % yes\n",
       "job                                                     \n",
       "admin.          9070  1352   10422  87.027442  12.972558\n",
       "blue-collar     8616   638    9254  93.105684   6.894316\n",
       "entrepreneur    1332   124    1456  91.483516   8.516484\n",
       "housemaid        954   106    1060  90.000000  10.000000\n",
       "management      2596   328    2924  88.782490  11.217510\n",
       "retired         1286   434    1720  74.767442  25.232558\n",
       "self-employed   1272   149    1421  89.514426  10.485574\n",
       "services        3646   323    3969  91.861930   8.138070\n",
       "student          600   275     875  68.571429  31.428571\n",
       "technician      6013   730    6743  89.173958  10.826042\n",
       "unemployed       870   144    1014  85.798817  14.201183\n",
       "unknown          293    37     330  88.787879  11.212121\n",
       "totals         36548  4640   41188  88.734583  11.265417"
      ]
     },
     "execution_count": 77,
     "metadata": {},
     "output_type": "execute_result"
    }
   ],
   "source": [
    "pivot_job=client_df.pivot_table(values = \"age\",index=\"job\",columns= \"y\",aggfunc=\"count\",margins=True, margins_name= \"totals\")\n",
    "\n",
    "pivot_job[\"% no\"]=pivot_job.no/pivot_job.totals*100\n",
    "pivot_job[\"% yes\"]=pivot_job.yes/pivot_job.totals*100\n",
    "\n",
    "\n",
    "pivot_job"
   ]
  },
  {
   "cell_type": "markdown",
   "id": "46c1ac41",
   "metadata": {},
   "source": [
    "Retired and student are the jobs that have the highest acceptance rate."
   ]
  },
  {
   "cell_type": "code",
   "execution_count": 79,
   "id": "d645df80",
   "metadata": {},
   "outputs": [
    {
     "data": {
      "text/html": [
       "<div>\n",
       "<style scoped>\n",
       "    .dataframe tbody tr th:only-of-type {\n",
       "        vertical-align: middle;\n",
       "    }\n",
       "\n",
       "    .dataframe tbody tr th {\n",
       "        vertical-align: top;\n",
       "    }\n",
       "\n",
       "    .dataframe thead th {\n",
       "        text-align: right;\n",
       "    }\n",
       "</style>\n",
       "<table border=\"1\" class=\"dataframe\">\n",
       "  <thead>\n",
       "    <tr style=\"text-align: right;\">\n",
       "      <th>y</th>\n",
       "      <th>no</th>\n",
       "      <th>yes</th>\n",
       "      <th>totals</th>\n",
       "      <th>% no</th>\n",
       "      <th>% yes</th>\n",
       "    </tr>\n",
       "    <tr>\n",
       "      <th>marital</th>\n",
       "      <th></th>\n",
       "      <th></th>\n",
       "      <th></th>\n",
       "      <th></th>\n",
       "      <th></th>\n",
       "    </tr>\n",
       "  </thead>\n",
       "  <tbody>\n",
       "    <tr>\n",
       "      <th>divorced</th>\n",
       "      <td>4136</td>\n",
       "      <td>476</td>\n",
       "      <td>4612</td>\n",
       "      <td>89.679098</td>\n",
       "      <td>10.320902</td>\n",
       "    </tr>\n",
       "    <tr>\n",
       "      <th>married</th>\n",
       "      <td>22396</td>\n",
       "      <td>2532</td>\n",
       "      <td>24928</td>\n",
       "      <td>89.842747</td>\n",
       "      <td>10.157253</td>\n",
       "    </tr>\n",
       "    <tr>\n",
       "      <th>single</th>\n",
       "      <td>9948</td>\n",
       "      <td>1620</td>\n",
       "      <td>11568</td>\n",
       "      <td>85.995851</td>\n",
       "      <td>14.004149</td>\n",
       "    </tr>\n",
       "    <tr>\n",
       "      <th>unknown</th>\n",
       "      <td>68</td>\n",
       "      <td>12</td>\n",
       "      <td>80</td>\n",
       "      <td>85.000000</td>\n",
       "      <td>15.000000</td>\n",
       "    </tr>\n",
       "    <tr>\n",
       "      <th>totals</th>\n",
       "      <td>36548</td>\n",
       "      <td>4640</td>\n",
       "      <td>41188</td>\n",
       "      <td>88.734583</td>\n",
       "      <td>11.265417</td>\n",
       "    </tr>\n",
       "  </tbody>\n",
       "</table>\n",
       "</div>"
      ],
      "text/plain": [
       "y            no   yes  totals       % no      % yes\n",
       "marital                                            \n",
       "divorced   4136   476    4612  89.679098  10.320902\n",
       "married   22396  2532   24928  89.842747  10.157253\n",
       "single     9948  1620   11568  85.995851  14.004149\n",
       "unknown      68    12      80  85.000000  15.000000\n",
       "totals    36548  4640   41188  88.734583  11.265417"
      ]
     },
     "execution_count": 79,
     "metadata": {},
     "output_type": "execute_result"
    }
   ],
   "source": [
    "pivot_marital=client_df.pivot_table(values = \"age\",index=\"marital\",columns= \"y\",aggfunc=\"count\",margins=True, margins_name= \"totals\")\n",
    "\n",
    "pivot_marital[\"% no\"]=pivot_marital.no/pivot_marital.totals*100\n",
    "pivot_marital[\"% yes\"]=pivot_marital.yes/pivot_marital.totals*100\n",
    "\n",
    "\n",
    "pivot_marital\n"
   ]
  },
  {
   "cell_type": "markdown",
   "id": "4acfc5b8",
   "metadata": {},
   "source": [
    "Single clients are the marital stage with highest acceptance rate."
   ]
  },
  {
   "cell_type": "code",
   "execution_count": 82,
   "id": "5dc2641b",
   "metadata": {},
   "outputs": [
    {
     "data": {
      "text/html": [
       "<div>\n",
       "<style scoped>\n",
       "    .dataframe tbody tr th:only-of-type {\n",
       "        vertical-align: middle;\n",
       "    }\n",
       "\n",
       "    .dataframe tbody tr th {\n",
       "        vertical-align: top;\n",
       "    }\n",
       "\n",
       "    .dataframe thead th {\n",
       "        text-align: right;\n",
       "    }\n",
       "</style>\n",
       "<table border=\"1\" class=\"dataframe\">\n",
       "  <thead>\n",
       "    <tr style=\"text-align: right;\">\n",
       "      <th>y</th>\n",
       "      <th>no</th>\n",
       "      <th>yes</th>\n",
       "      <th>totals</th>\n",
       "      <th>% no</th>\n",
       "      <th>% yes</th>\n",
       "    </tr>\n",
       "    <tr>\n",
       "      <th>education</th>\n",
       "      <th></th>\n",
       "      <th></th>\n",
       "      <th></th>\n",
       "      <th></th>\n",
       "      <th></th>\n",
       "    </tr>\n",
       "  </thead>\n",
       "  <tbody>\n",
       "    <tr>\n",
       "      <th>basic.4y</th>\n",
       "      <td>3748</td>\n",
       "      <td>428</td>\n",
       "      <td>4176</td>\n",
       "      <td>89.750958</td>\n",
       "      <td>10.249042</td>\n",
       "    </tr>\n",
       "    <tr>\n",
       "      <th>basic.6y</th>\n",
       "      <td>2104</td>\n",
       "      <td>188</td>\n",
       "      <td>2292</td>\n",
       "      <td>91.797557</td>\n",
       "      <td>8.202443</td>\n",
       "    </tr>\n",
       "    <tr>\n",
       "      <th>basic.9y</th>\n",
       "      <td>5572</td>\n",
       "      <td>473</td>\n",
       "      <td>6045</td>\n",
       "      <td>92.175352</td>\n",
       "      <td>7.824648</td>\n",
       "    </tr>\n",
       "    <tr>\n",
       "      <th>high.school</th>\n",
       "      <td>8484</td>\n",
       "      <td>1031</td>\n",
       "      <td>9515</td>\n",
       "      <td>89.164477</td>\n",
       "      <td>10.835523</td>\n",
       "    </tr>\n",
       "    <tr>\n",
       "      <th>illiterate</th>\n",
       "      <td>14</td>\n",
       "      <td>4</td>\n",
       "      <td>18</td>\n",
       "      <td>77.777778</td>\n",
       "      <td>22.222222</td>\n",
       "    </tr>\n",
       "    <tr>\n",
       "      <th>professional.course</th>\n",
       "      <td>4648</td>\n",
       "      <td>595</td>\n",
       "      <td>5243</td>\n",
       "      <td>88.651535</td>\n",
       "      <td>11.348465</td>\n",
       "    </tr>\n",
       "    <tr>\n",
       "      <th>university.degree</th>\n",
       "      <td>10498</td>\n",
       "      <td>1670</td>\n",
       "      <td>12168</td>\n",
       "      <td>86.275477</td>\n",
       "      <td>13.724523</td>\n",
       "    </tr>\n",
       "    <tr>\n",
       "      <th>unknown</th>\n",
       "      <td>1480</td>\n",
       "      <td>251</td>\n",
       "      <td>1731</td>\n",
       "      <td>85.499711</td>\n",
       "      <td>14.500289</td>\n",
       "    </tr>\n",
       "    <tr>\n",
       "      <th>totals</th>\n",
       "      <td>36548</td>\n",
       "      <td>4640</td>\n",
       "      <td>41188</td>\n",
       "      <td>88.734583</td>\n",
       "      <td>11.265417</td>\n",
       "    </tr>\n",
       "  </tbody>\n",
       "</table>\n",
       "</div>"
      ],
      "text/plain": [
       "y                       no   yes  totals       % no      % yes\n",
       "education                                                     \n",
       "basic.4y              3748   428    4176  89.750958  10.249042\n",
       "basic.6y              2104   188    2292  91.797557   8.202443\n",
       "basic.9y              5572   473    6045  92.175352   7.824648\n",
       "high.school           8484  1031    9515  89.164477  10.835523\n",
       "illiterate              14     4      18  77.777778  22.222222\n",
       "professional.course   4648   595    5243  88.651535  11.348465\n",
       "university.degree    10498  1670   12168  86.275477  13.724523\n",
       "unknown               1480   251    1731  85.499711  14.500289\n",
       "totals               36548  4640   41188  88.734583  11.265417"
      ]
     },
     "execution_count": 82,
     "metadata": {},
     "output_type": "execute_result"
    }
   ],
   "source": [
    "pivot_education=client_df.pivot_table(values = \"age\",index=\"education\",columns= \"y\",aggfunc=\"count\",margins=True, margins_name= \"totals\")\n",
    "\n",
    "pivot_education[\"% no\"]=pivot_education.no/pivot_education.totals*100\n",
    "pivot_education[\"% yes\"]=pivot_education.yes/pivot_education.totals*100\n",
    "\n",
    "\n",
    "pivot_education"
   ]
  },
  {
   "cell_type": "markdown",
   "id": "a23f7fba",
   "metadata": {},
   "source": [
    "Illiterate people are by far the clients who are buying the term deposit."
   ]
  },
  {
   "cell_type": "markdown",
   "id": "e09f8cac",
   "metadata": {},
   "source": [
    "### Default, Housing Loan, Personal Loan and Target"
   ]
  },
  {
   "cell_type": "code",
   "execution_count": 44,
   "id": "c53b55f3",
   "metadata": {},
   "outputs": [
    {
     "data": {
      "text/plain": [
       "Text(0.5, 1.0, 'Personal loan')"
      ]
     },
     "execution_count": 44,
     "metadata": {},
     "output_type": "execute_result"
    },
    {
     "data": {
      "image/png": "[encoded data removed]",
      "text/plain": [
       "<Figure size 2376x648 with 2 Axes>"
      ]
     },
     "metadata": {},
     "output_type": "display_data"
    },
    {
     "data": {
      "image/png": "[encoded data removed]",
      "text/plain": [
       "<Figure size 2376x648 with 1 Axes>"
      ]
     },
     "metadata": {},
     "output_type": "display_data"
    }
   ],
   "source": [
    "plt.figure(figsize=(33,9))\n",
    "\n",
    "plt.subplot(1,3,1)\n",
    "\n",
    "#fig, ax = plt.subplots(figsize = (9, 5))\n",
    "ax = sns.histplot(data=client_df, x='default', hue='y', binwidth=10,multiple='stack',stat=\"probability\", edgecolor ='black')\n",
    "plt.setp( ax.get_xticklabels(),rotation=75)\n",
    "plt.xlabel(\"Default\") \n",
    "plt.ylabel(\"Percentage\")\n",
    "plt.title(\"Default\")\n",
    "\n",
    "plt.subplot(1,3,2)\n",
    "\n",
    "#fig, ax = plt.subplots(figsize = (9, 5))\n",
    "ax = sns.histplot(data=client_df, x='housing', hue='y', binwidth=10,multiple='stack',stat=\"probability\", edgecolor ='black')\n",
    "plt.setp( ax.get_xticklabels(),rotation=75)\n",
    "plt.xlabel(\"Housing loan\") \n",
    "plt.ylabel(\"Percentage\")\n",
    "plt.title(\"Housing loan\")\n",
    "\n",
    "plt.figure(figsize=(33,9))\n",
    "\n",
    "plt.subplot(1,3,3)\n",
    "\n",
    "#fig, ax = plt.subplots(figsize = (9, 5))\n",
    "#plt.setp( ax.get_xticklabels(),rotation=90)\n",
    "ax = sns.histplot(data=client_df, x='loan', hue='y', binwidth=10,multiple='stack',stat=\"probability\", edgecolor ='black')\n",
    "plt.setp( ax.get_xticklabels(),rotation=75)\n",
    "plt.xlabel(\"Personal loan\") \n",
    "plt.ylabel(\"Percentage\")\n",
    "plt.title(\"Personal loan\")\n",
    "\n"
   ]
  },
  {
   "cell_type": "code",
   "execution_count": 89,
   "id": "a68b68b8",
   "metadata": {},
   "outputs": [
    {
     "name": "stdout",
     "output_type": "stream",
     "text": [
      "Default: \n"
     ]
    },
    {
     "data": {
      "text/html": [
       "<div>\n",
       "<style scoped>\n",
       "    .dataframe tbody tr th:only-of-type {\n",
       "        vertical-align: middle;\n",
       "    }\n",
       "\n",
       "    .dataframe tbody tr th {\n",
       "        vertical-align: top;\n",
       "    }\n",
       "\n",
       "    .dataframe thead th {\n",
       "        text-align: right;\n",
       "    }\n",
       "</style>\n",
       "<table border=\"1\" class=\"dataframe\">\n",
       "  <thead>\n",
       "    <tr style=\"text-align: right;\">\n",
       "      <th>y</th>\n",
       "      <th>no</th>\n",
       "      <th>yes</th>\n",
       "      <th>totals</th>\n",
       "      <th>% no</th>\n",
       "      <th>% yes</th>\n",
       "    </tr>\n",
       "    <tr>\n",
       "      <th>default</th>\n",
       "      <th></th>\n",
       "      <th></th>\n",
       "      <th></th>\n",
       "      <th></th>\n",
       "      <th></th>\n",
       "    </tr>\n",
       "  </thead>\n",
       "  <tbody>\n",
       "    <tr>\n",
       "      <th>no</th>\n",
       "      <td>28391.0</td>\n",
       "      <td>4197.0</td>\n",
       "      <td>32588</td>\n",
       "      <td>87.121026</td>\n",
       "      <td>12.878974</td>\n",
       "    </tr>\n",
       "    <tr>\n",
       "      <th>unknown</th>\n",
       "      <td>8154.0</td>\n",
       "      <td>443.0</td>\n",
       "      <td>8597</td>\n",
       "      <td>94.847040</td>\n",
       "      <td>5.152960</td>\n",
       "    </tr>\n",
       "    <tr>\n",
       "      <th>yes</th>\n",
       "      <td>3.0</td>\n",
       "      <td>NaN</td>\n",
       "      <td>3</td>\n",
       "      <td>100.000000</td>\n",
       "      <td>NaN</td>\n",
       "    </tr>\n",
       "    <tr>\n",
       "      <th>totals</th>\n",
       "      <td>36548.0</td>\n",
       "      <td>4640.0</td>\n",
       "      <td>41188</td>\n",
       "      <td>88.734583</td>\n",
       "      <td>11.265417</td>\n",
       "    </tr>\n",
       "  </tbody>\n",
       "</table>\n",
       "</div>"
      ],
      "text/plain": [
       "y             no     yes  totals        % no      % yes\n",
       "default                                                \n",
       "no       28391.0  4197.0   32588   87.121026  12.878974\n",
       "unknown   8154.0   443.0    8597   94.847040   5.152960\n",
       "yes          3.0     NaN       3  100.000000        NaN\n",
       "totals   36548.0  4640.0   41188   88.734583  11.265417"
      ]
     },
     "execution_count": 89,
     "metadata": {},
     "output_type": "execute_result"
    }
   ],
   "source": [
    "pivot_default=client_df.pivot_table(values = \"age\",index=\"default\",columns= \"y\",aggfunc=\"count\",margins=True, margins_name= \"totals\")\n",
    "\n",
    "pivot_default[\"% no\"]=pivot_default.no/pivot_default.totals*100\n",
    "pivot_default[\"% yes\"]=pivot_default.yes/pivot_default.totals*100\n",
    "\n",
    "print(\"Default: \")\n",
    "pivot_default"
   ]
  },
  {
   "cell_type": "markdown",
   "id": "a6271173",
   "metadata": {},
   "source": [
    "We don't have reliable information to conclude. Unknown will be consider as nulls for the case and there is no clients who are in default and accepted the term deposit (according to the dataset)."
   ]
  },
  {
   "cell_type": "code",
   "execution_count": 91,
   "id": "c7690fab",
   "metadata": {},
   "outputs": [
    {
     "name": "stdout",
     "output_type": "stream",
     "text": [
      "Housing Loan:\n"
     ]
    },
    {
     "data": {
      "text/html": [
       "<div>\n",
       "<style scoped>\n",
       "    .dataframe tbody tr th:only-of-type {\n",
       "        vertical-align: middle;\n",
       "    }\n",
       "\n",
       "    .dataframe tbody tr th {\n",
       "        vertical-align: top;\n",
       "    }\n",
       "\n",
       "    .dataframe thead th {\n",
       "        text-align: right;\n",
       "    }\n",
       "</style>\n",
       "<table border=\"1\" class=\"dataframe\">\n",
       "  <thead>\n",
       "    <tr style=\"text-align: right;\">\n",
       "      <th>y</th>\n",
       "      <th>no</th>\n",
       "      <th>yes</th>\n",
       "      <th>totals</th>\n",
       "      <th>% no</th>\n",
       "      <th>% yes</th>\n",
       "    </tr>\n",
       "    <tr>\n",
       "      <th>housing</th>\n",
       "      <th></th>\n",
       "      <th></th>\n",
       "      <th></th>\n",
       "      <th></th>\n",
       "      <th></th>\n",
       "    </tr>\n",
       "  </thead>\n",
       "  <tbody>\n",
       "    <tr>\n",
       "      <th>no</th>\n",
       "      <td>16596</td>\n",
       "      <td>2026</td>\n",
       "      <td>18622</td>\n",
       "      <td>89.120395</td>\n",
       "      <td>10.879605</td>\n",
       "    </tr>\n",
       "    <tr>\n",
       "      <th>unknown</th>\n",
       "      <td>883</td>\n",
       "      <td>107</td>\n",
       "      <td>990</td>\n",
       "      <td>89.191919</td>\n",
       "      <td>10.808081</td>\n",
       "    </tr>\n",
       "    <tr>\n",
       "      <th>yes</th>\n",
       "      <td>19069</td>\n",
       "      <td>2507</td>\n",
       "      <td>21576</td>\n",
       "      <td>88.380608</td>\n",
       "      <td>11.619392</td>\n",
       "    </tr>\n",
       "    <tr>\n",
       "      <th>totals</th>\n",
       "      <td>36548</td>\n",
       "      <td>4640</td>\n",
       "      <td>41188</td>\n",
       "      <td>88.734583</td>\n",
       "      <td>11.265417</td>\n",
       "    </tr>\n",
       "  </tbody>\n",
       "</table>\n",
       "</div>"
      ],
      "text/plain": [
       "y           no   yes  totals       % no      % yes\n",
       "housing                                           \n",
       "no       16596  2026   18622  89.120395  10.879605\n",
       "unknown    883   107     990  89.191919  10.808081\n",
       "yes      19069  2507   21576  88.380608  11.619392\n",
       "totals   36548  4640   41188  88.734583  11.265417"
      ]
     },
     "execution_count": 91,
     "metadata": {},
     "output_type": "execute_result"
    }
   ],
   "source": [
    "pivot_housing=client_df.pivot_table(values = \"age\",index=\"housing\",columns= \"y\",aggfunc=\"count\",margins=True, margins_name= \"totals\")\n",
    "\n",
    "pivot_housing[\"% no\"]=pivot_housing.no/pivot_housing.totals*100\n",
    "pivot_housing[\"% yes\"]=pivot_housing.yes/pivot_housing.totals*100\n",
    "\n",
    "print(\"Housing Loan:\")\n",
    "pivot_housing"
   ]
  },
  {
   "cell_type": "markdown",
   "id": "28f03749",
   "metadata": {},
   "source": [
    "At first sight, there is no relation between having personal loan and accepting the term deposit. The acceptance rate is similar."
   ]
  },
  {
   "cell_type": "code",
   "execution_count": 92,
   "id": "6c8fe9a1",
   "metadata": {},
   "outputs": [
    {
     "name": "stdout",
     "output_type": "stream",
     "text": [
      "Personal Loan: \n"
     ]
    },
    {
     "data": {
      "text/html": [
       "<div>\n",
       "<style scoped>\n",
       "    .dataframe tbody tr th:only-of-type {\n",
       "        vertical-align: middle;\n",
       "    }\n",
       "\n",
       "    .dataframe tbody tr th {\n",
       "        vertical-align: top;\n",
       "    }\n",
       "\n",
       "    .dataframe thead th {\n",
       "        text-align: right;\n",
       "    }\n",
       "</style>\n",
       "<table border=\"1\" class=\"dataframe\">\n",
       "  <thead>\n",
       "    <tr style=\"text-align: right;\">\n",
       "      <th>y</th>\n",
       "      <th>no</th>\n",
       "      <th>yes</th>\n",
       "      <th>totals</th>\n",
       "      <th>% no</th>\n",
       "      <th>% yes</th>\n",
       "    </tr>\n",
       "    <tr>\n",
       "      <th>loan</th>\n",
       "      <th></th>\n",
       "      <th></th>\n",
       "      <th></th>\n",
       "      <th></th>\n",
       "      <th></th>\n",
       "    </tr>\n",
       "  </thead>\n",
       "  <tbody>\n",
       "    <tr>\n",
       "      <th>no</th>\n",
       "      <td>30100</td>\n",
       "      <td>3850</td>\n",
       "      <td>33950</td>\n",
       "      <td>88.659794</td>\n",
       "      <td>11.340206</td>\n",
       "    </tr>\n",
       "    <tr>\n",
       "      <th>unknown</th>\n",
       "      <td>883</td>\n",
       "      <td>107</td>\n",
       "      <td>990</td>\n",
       "      <td>89.191919</td>\n",
       "      <td>10.808081</td>\n",
       "    </tr>\n",
       "    <tr>\n",
       "      <th>yes</th>\n",
       "      <td>5565</td>\n",
       "      <td>683</td>\n",
       "      <td>6248</td>\n",
       "      <td>89.068502</td>\n",
       "      <td>10.931498</td>\n",
       "    </tr>\n",
       "    <tr>\n",
       "      <th>totals</th>\n",
       "      <td>36548</td>\n",
       "      <td>4640</td>\n",
       "      <td>41188</td>\n",
       "      <td>88.734583</td>\n",
       "      <td>11.265417</td>\n",
       "    </tr>\n",
       "  </tbody>\n",
       "</table>\n",
       "</div>"
      ],
      "text/plain": [
       "y           no   yes  totals       % no      % yes\n",
       "loan                                              \n",
       "no       30100  3850   33950  88.659794  11.340206\n",
       "unknown    883   107     990  89.191919  10.808081\n",
       "yes       5565   683    6248  89.068502  10.931498\n",
       "totals   36548  4640   41188  88.734583  11.265417"
      ]
     },
     "execution_count": 92,
     "metadata": {},
     "output_type": "execute_result"
    }
   ],
   "source": [
    "pivot_loan=client_df.pivot_table(values = \"age\",index=\"loan\",columns= \"y\",aggfunc=\"count\",margins=True, margins_name= \"totals\")\n",
    "\n",
    "pivot_loan[\"% no\"]=pivot_loan.no/pivot_loan.totals*100\n",
    "pivot_loan[\"% yes\"]=pivot_loan.yes/pivot_loan.totals*100\n",
    "\n",
    "print(\"Personal Loan: \")\n",
    "pivot_loan"
   ]
  },
  {
   "cell_type": "markdown",
   "id": "3c3471a9",
   "metadata": {},
   "source": [
    "At first sight, there is no relation between having personal loan and accepting the term deposit. The acceptance rate is similar."
   ]
  },
  {
   "cell_type": "markdown",
   "id": "094156e6",
   "metadata": {},
   "source": [
    "## Last Contact"
   ]
  },
  {
   "cell_type": "code",
   "execution_count": 121,
   "id": "09141d7d",
   "metadata": {},
   "outputs": [
    {
     "data": {
      "text/plain": [
       "Index(['contact', 'month', 'day_of_week', 'duration', 'y', 'duration_range'], dtype='object')"
      ]
     },
     "execution_count": 121,
     "metadata": {},
     "output_type": "execute_result"
    }
   ],
   "source": [
    "contact_df.columns"
   ]
  },
  {
   "cell_type": "code",
   "execution_count": 128,
   "id": "ecbeccaf",
   "metadata": {},
   "outputs": [
    {
     "data": {
      "text/plain": [
       "Text(0.5, 1.0, 'Duration of the call')"
      ]
     },
     "execution_count": 128,
     "metadata": {},
     "output_type": "execute_result"
    },
    {
     "data": {
      "image/png": "[encoded data removed]",
      "text/plain": [
       "<Figure size 2376x648 with 2 Axes>"
      ]
     },
     "metadata": {},
     "output_type": "display_data"
    },
    {
     "data": {
      "image/png": "[encoded data removed]",
      "text/plain": [
       "<Figure size 2376x648 with 2 Axes>"
      ]
     },
     "metadata": {},
     "output_type": "display_data"
    }
   ],
   "source": [
    "plt.figure(figsize=(33,9))\n",
    "\n",
    "plt.subplot(1,4,1)\n",
    "\n",
    "#fig, ax = plt.subplots(figsize = (9, 5))\n",
    "ax = sns.histplot(data=contact_df, x='contact', hue='y', binwidth=10,multiple='stack',stat=\"probability\", edgecolor ='black')\n",
    "plt.setp( ax.get_xticklabels(),rotation=75)\n",
    "plt.xlabel(\"Contact\") \n",
    "plt.ylabel(\"Percentage\")\n",
    "plt.title(\"Contact mean\")\n",
    "\n",
    "plt.subplot(1,4,2)\n",
    "\n",
    "#fig, ax = plt.subplots(figsize = (9, 5))\n",
    "ax = sns.histplot(data=contact_df, x='month', hue='y', binwidth=10,multiple='stack',stat=\"probability\", edgecolor ='black')\n",
    "plt.setp( ax.get_xticklabels(),rotation=75)\n",
    "plt.xlabel(\"Month\") \n",
    "plt.ylabel(\"Percentage\")\n",
    "plt.title(\"Month\")\n",
    "\n",
    "plt.figure(figsize=(33,9))\n",
    "\n",
    "plt.subplot(1,4,3)\n",
    "\n",
    "#fig, ax = plt.subplots(figsize = (9, 5))\n",
    "#plt.setp( ax.get_xticklabels(),rotation=90)\n",
    "ax = sns.histplot(data=contact_df, x='day_of_week', hue='y', binwidth=10,multiple='stack',stat=\"probability\", edgecolor ='black')\n",
    "plt.setp( ax.get_xticklabels(),rotation=75)\n",
    "plt.xlabel(\"Day of the week\") \n",
    "plt.ylabel(\"Percentage\")\n",
    "plt.title(\"Day of the week\")\n",
    "\n",
    "plt.subplot(1,4,4)\n",
    "\n",
    "#fig, ax = plt.subplots(figsize = (9, 5))\n",
    "#plt.setp( ax.get_xticklabels(),rotation=90)\n",
    "ax = sns.histplot(data=contact_df, x='duration_range', hue='y', binwidth=10,multiple='stack',stat=\"probability\", edgecolor ='black')\n",
    "plt.setp( ax.get_xticklabels(),rotation=75)\n",
    "plt.xlabel(\"Duration of the call\") \n",
    "plt.ylabel(\"Percentage\")\n",
    "plt.title(\"Duration of the call\")\n"
   ]
  },
  {
   "cell_type": "markdown",
   "id": "6cf96dd8",
   "metadata": {},
   "source": [
    "### Contact medium"
   ]
  },
  {
   "cell_type": "code",
   "execution_count": 99,
   "id": "3247e47d",
   "metadata": {},
   "outputs": [
    {
     "name": "stdout",
     "output_type": "stream",
     "text": [
      "Contact:\n"
     ]
    },
    {
     "data": {
      "text/html": [
       "<div>\n",
       "<style scoped>\n",
       "    .dataframe tbody tr th:only-of-type {\n",
       "        vertical-align: middle;\n",
       "    }\n",
       "\n",
       "    .dataframe tbody tr th {\n",
       "        vertical-align: top;\n",
       "    }\n",
       "\n",
       "    .dataframe thead th {\n",
       "        text-align: right;\n",
       "    }\n",
       "</style>\n",
       "<table border=\"1\" class=\"dataframe\">\n",
       "  <thead>\n",
       "    <tr style=\"text-align: right;\">\n",
       "      <th>y</th>\n",
       "      <th>no</th>\n",
       "      <th>yes</th>\n",
       "      <th>totals</th>\n",
       "      <th>% no</th>\n",
       "      <th>% yes</th>\n",
       "    </tr>\n",
       "    <tr>\n",
       "      <th>contact</th>\n",
       "      <th></th>\n",
       "      <th></th>\n",
       "      <th></th>\n",
       "      <th></th>\n",
       "      <th></th>\n",
       "    </tr>\n",
       "  </thead>\n",
       "  <tbody>\n",
       "    <tr>\n",
       "      <th>cellular</th>\n",
       "      <td>22291</td>\n",
       "      <td>3853</td>\n",
       "      <td>26144</td>\n",
       "      <td>85.262393</td>\n",
       "      <td>14.737607</td>\n",
       "    </tr>\n",
       "    <tr>\n",
       "      <th>telephone</th>\n",
       "      <td>14257</td>\n",
       "      <td>787</td>\n",
       "      <td>15044</td>\n",
       "      <td>94.768679</td>\n",
       "      <td>5.231321</td>\n",
       "    </tr>\n",
       "    <tr>\n",
       "      <th>totals</th>\n",
       "      <td>36548</td>\n",
       "      <td>4640</td>\n",
       "      <td>41188</td>\n",
       "      <td>88.734583</td>\n",
       "      <td>11.265417</td>\n",
       "    </tr>\n",
       "  </tbody>\n",
       "</table>\n",
       "</div>"
      ],
      "text/plain": [
       "y             no   yes  totals       % no      % yes\n",
       "contact                                             \n",
       "cellular   22291  3853   26144  85.262393  14.737607\n",
       "telephone  14257   787   15044  94.768679   5.231321\n",
       "totals     36548  4640   41188  88.734583  11.265417"
      ]
     },
     "execution_count": 99,
     "metadata": {},
     "output_type": "execute_result"
    }
   ],
   "source": [
    "pivot_contact=contact_df.pivot_table(values = \"month\",index=\"contact\",columns= \"y\",aggfunc=\"count\",margins=True, margins_name= \"totals\")\n",
    "\n",
    "pivot_contact[\"% no\"]=pivot_contact.no/pivot_contact.totals*100\n",
    "pivot_contact[\"% yes\"]=pivot_contact.yes/pivot_contact.totals*100\n",
    "\n",
    "print(\"Contact:\")\n",
    "pivot_contact\n"
   ]
  },
  {
   "cell_type": "markdown",
   "id": "5dca8349",
   "metadata": {},
   "source": [
    "The acceptance rate through cellular is way higher than telephone."
   ]
  },
  {
   "cell_type": "markdown",
   "id": "5b96968f",
   "metadata": {},
   "source": [
    "### Month"
   ]
  },
  {
   "cell_type": "code",
   "execution_count": 118,
   "id": "16c3d860",
   "metadata": {},
   "outputs": [
    {
     "name": "stdout",
     "output_type": "stream",
     "text": [
      "Last month of contact:\n"
     ]
    },
    {
     "data": {
      "text/html": [
       "<div>\n",
       "<style scoped>\n",
       "    .dataframe tbody tr th:only-of-type {\n",
       "        vertical-align: middle;\n",
       "    }\n",
       "\n",
       "    .dataframe tbody tr th {\n",
       "        vertical-align: top;\n",
       "    }\n",
       "\n",
       "    .dataframe thead th {\n",
       "        text-align: right;\n",
       "    }\n",
       "</style>\n",
       "<table border=\"1\" class=\"dataframe\">\n",
       "  <thead>\n",
       "    <tr style=\"text-align: right;\">\n",
       "      <th>y</th>\n",
       "      <th>no</th>\n",
       "      <th>yes</th>\n",
       "      <th>totals</th>\n",
       "      <th>% no</th>\n",
       "      <th>% yes</th>\n",
       "    </tr>\n",
       "    <tr>\n",
       "      <th>month</th>\n",
       "      <th></th>\n",
       "      <th></th>\n",
       "      <th></th>\n",
       "      <th></th>\n",
       "      <th></th>\n",
       "    </tr>\n",
       "  </thead>\n",
       "  <tbody>\n",
       "    <tr>\n",
       "      <th>apr</th>\n",
       "      <td>2093</td>\n",
       "      <td>539</td>\n",
       "      <td>2632</td>\n",
       "      <td>79.521277</td>\n",
       "      <td>20.478723</td>\n",
       "    </tr>\n",
       "    <tr>\n",
       "      <th>aug</th>\n",
       "      <td>5523</td>\n",
       "      <td>655</td>\n",
       "      <td>6178</td>\n",
       "      <td>89.397863</td>\n",
       "      <td>10.602137</td>\n",
       "    </tr>\n",
       "    <tr>\n",
       "      <th>dec</th>\n",
       "      <td>93</td>\n",
       "      <td>89</td>\n",
       "      <td>182</td>\n",
       "      <td>51.098901</td>\n",
       "      <td>48.901099</td>\n",
       "    </tr>\n",
       "    <tr>\n",
       "      <th>jul</th>\n",
       "      <td>6525</td>\n",
       "      <td>649</td>\n",
       "      <td>7174</td>\n",
       "      <td>90.953443</td>\n",
       "      <td>9.046557</td>\n",
       "    </tr>\n",
       "    <tr>\n",
       "      <th>jun</th>\n",
       "      <td>4759</td>\n",
       "      <td>559</td>\n",
       "      <td>5318</td>\n",
       "      <td>89.488530</td>\n",
       "      <td>10.511470</td>\n",
       "    </tr>\n",
       "    <tr>\n",
       "      <th>mar</th>\n",
       "      <td>270</td>\n",
       "      <td>276</td>\n",
       "      <td>546</td>\n",
       "      <td>49.450549</td>\n",
       "      <td>50.549451</td>\n",
       "    </tr>\n",
       "    <tr>\n",
       "      <th>may</th>\n",
       "      <td>12883</td>\n",
       "      <td>886</td>\n",
       "      <td>13769</td>\n",
       "      <td>93.565255</td>\n",
       "      <td>6.434745</td>\n",
       "    </tr>\n",
       "    <tr>\n",
       "      <th>nov</th>\n",
       "      <td>3685</td>\n",
       "      <td>416</td>\n",
       "      <td>4101</td>\n",
       "      <td>89.856133</td>\n",
       "      <td>10.143867</td>\n",
       "    </tr>\n",
       "    <tr>\n",
       "      <th>oct</th>\n",
       "      <td>403</td>\n",
       "      <td>315</td>\n",
       "      <td>718</td>\n",
       "      <td>56.128134</td>\n",
       "      <td>43.871866</td>\n",
       "    </tr>\n",
       "    <tr>\n",
       "      <th>sep</th>\n",
       "      <td>314</td>\n",
       "      <td>256</td>\n",
       "      <td>570</td>\n",
       "      <td>55.087719</td>\n",
       "      <td>44.912281</td>\n",
       "    </tr>\n",
       "    <tr>\n",
       "      <th>totals</th>\n",
       "      <td>36548</td>\n",
       "      <td>4640</td>\n",
       "      <td>41188</td>\n",
       "      <td>88.734583</td>\n",
       "      <td>11.265417</td>\n",
       "    </tr>\n",
       "  </tbody>\n",
       "</table>\n",
       "</div>"
      ],
      "text/plain": [
       "y          no   yes  totals       % no      % yes\n",
       "month                                            \n",
       "apr      2093   539    2632  79.521277  20.478723\n",
       "aug      5523   655    6178  89.397863  10.602137\n",
       "dec        93    89     182  51.098901  48.901099\n",
       "jul      6525   649    7174  90.953443   9.046557\n",
       "jun      4759   559    5318  89.488530  10.511470\n",
       "mar       270   276     546  49.450549  50.549451\n",
       "may     12883   886   13769  93.565255   6.434745\n",
       "nov      3685   416    4101  89.856133  10.143867\n",
       "oct       403   315     718  56.128134  43.871866\n",
       "sep       314   256     570  55.087719  44.912281\n",
       "totals  36548  4640   41188  88.734583  11.265417"
      ]
     },
     "execution_count": 118,
     "metadata": {},
     "output_type": "execute_result"
    }
   ],
   "source": [
    "pivot_month=contact_df.pivot_table(values = \"contact\",index=\"month\",columns= \"y\",aggfunc=\"count\",margins=True, margins_name= \"totals\")\n",
    "\n",
    "pivot_month[\"% no\"]=pivot_month.no/pivot_month.totals*100\n",
    "pivot_month[\"% yes\"]=pivot_month.yes/pivot_month.totals*100\n",
    "\n",
    "print(\"Last month of contact:\")\n",
    "pivot_month\n",
    "\n"
   ]
  },
  {
   "cell_type": "markdown",
   "id": "4c2a4b28",
   "metadata": {},
   "source": [
    "March, december, september and october are months with an acceptance rate of over 40%."
   ]
  },
  {
   "cell_type": "markdown",
   "id": "ffd604e8",
   "metadata": {},
   "source": [
    "### Day of the week"
   ]
  },
  {
   "cell_type": "code",
   "execution_count": 115,
   "id": "52e33f44",
   "metadata": {},
   "outputs": [
    {
     "name": "stdout",
     "output_type": "stream",
     "text": [
      "Day of the week:\n"
     ]
    },
    {
     "data": {
      "text/html": [
       "<div>\n",
       "<style scoped>\n",
       "    .dataframe tbody tr th:only-of-type {\n",
       "        vertical-align: middle;\n",
       "    }\n",
       "\n",
       "    .dataframe tbody tr th {\n",
       "        vertical-align: top;\n",
       "    }\n",
       "\n",
       "    .dataframe thead th {\n",
       "        text-align: right;\n",
       "    }\n",
       "</style>\n",
       "<table border=\"1\" class=\"dataframe\">\n",
       "  <thead>\n",
       "    <tr style=\"text-align: right;\">\n",
       "      <th>y</th>\n",
       "      <th>no</th>\n",
       "      <th>yes</th>\n",
       "      <th>totals</th>\n",
       "      <th>% no</th>\n",
       "      <th>% yes</th>\n",
       "    </tr>\n",
       "    <tr>\n",
       "      <th>day_of_week</th>\n",
       "      <th></th>\n",
       "      <th></th>\n",
       "      <th></th>\n",
       "      <th></th>\n",
       "      <th></th>\n",
       "    </tr>\n",
       "  </thead>\n",
       "  <tbody>\n",
       "    <tr>\n",
       "      <th>fri</th>\n",
       "      <td>6981</td>\n",
       "      <td>846</td>\n",
       "      <td>7827</td>\n",
       "      <td>89.191261</td>\n",
       "      <td>10.808739</td>\n",
       "    </tr>\n",
       "    <tr>\n",
       "      <th>mon</th>\n",
       "      <td>7667</td>\n",
       "      <td>847</td>\n",
       "      <td>8514</td>\n",
       "      <td>90.051680</td>\n",
       "      <td>9.948320</td>\n",
       "    </tr>\n",
       "    <tr>\n",
       "      <th>thu</th>\n",
       "      <td>7578</td>\n",
       "      <td>1045</td>\n",
       "      <td>8623</td>\n",
       "      <td>87.881248</td>\n",
       "      <td>12.118752</td>\n",
       "    </tr>\n",
       "    <tr>\n",
       "      <th>tue</th>\n",
       "      <td>7137</td>\n",
       "      <td>953</td>\n",
       "      <td>8090</td>\n",
       "      <td>88.220025</td>\n",
       "      <td>11.779975</td>\n",
       "    </tr>\n",
       "    <tr>\n",
       "      <th>wed</th>\n",
       "      <td>7185</td>\n",
       "      <td>949</td>\n",
       "      <td>8134</td>\n",
       "      <td>88.332924</td>\n",
       "      <td>11.667076</td>\n",
       "    </tr>\n",
       "    <tr>\n",
       "      <th>totals</th>\n",
       "      <td>36548</td>\n",
       "      <td>4640</td>\n",
       "      <td>41188</td>\n",
       "      <td>88.734583</td>\n",
       "      <td>11.265417</td>\n",
       "    </tr>\n",
       "  </tbody>\n",
       "</table>\n",
       "</div>"
      ],
      "text/plain": [
       "y               no   yes  totals       % no      % yes\n",
       "day_of_week                                           \n",
       "fri           6981   846    7827  89.191261  10.808739\n",
       "mon           7667   847    8514  90.051680   9.948320\n",
       "thu           7578  1045    8623  87.881248  12.118752\n",
       "tue           7137   953    8090  88.220025  11.779975\n",
       "wed           7185   949    8134  88.332924  11.667076\n",
       "totals       36548  4640   41188  88.734583  11.265417"
      ]
     },
     "execution_count": 115,
     "metadata": {},
     "output_type": "execute_result"
    }
   ],
   "source": [
    "pivot_day=contact_df.pivot_table(values = \"contact\",index=\"day_of_week\",columns= \"y\",aggfunc=\"count\",margins=True, margins_name= \"totals\")\n",
    "\n",
    "pivot_day[\"% no\"]=pivot_day.no/pivot_day.totals*100\n",
    "pivot_day[\"% yes\"]=pivot_day.yes/pivot_day.totals*100\n",
    "\n",
    "print(\"Day of the week:\")\n",
    "pivot_day\n",
    "\n",
    "\n"
   ]
  },
  {
   "cell_type": "markdown",
   "id": "e4b0d507",
   "metadata": {},
   "source": [
    "The acceptance rate through the days is similar."
   ]
  },
  {
   "cell_type": "markdown",
   "id": "dece4bd5",
   "metadata": {},
   "source": [
    "### Duration"
   ]
  },
  {
   "cell_type": "code",
   "execution_count": 52,
   "id": "c00116fa",
   "metadata": {},
   "outputs": [],
   "source": [
    "ranges=[-1,300,600,900,1200,1500,1800,2100,2400,5000]\n",
    "labels=[\"0-300\",\"301-600\",\"601-900\",\"901-1200\",\"1201-1500\",\"1501-1800\",\"1801-2100\",\"2101-2400\",\"More than 2400\"]\n",
    "\n",
    "contact_df[\"duration_range\"]=pd.cut(contact_df.duration,bins= ranges,labels=labels)\n",
    "\n"
   ]
  },
  {
   "cell_type": "code",
   "execution_count": 53,
   "id": "15be1ec7",
   "metadata": {},
   "outputs": [
    {
     "name": "stdout",
     "output_type": "stream",
     "text": [
      "Duration of the call:\n"
     ]
    },
    {
     "data": {
      "text/html": [
       "<div>\n",
       "<style scoped>\n",
       "    .dataframe tbody tr th:only-of-type {\n",
       "        vertical-align: middle;\n",
       "    }\n",
       "\n",
       "    .dataframe tbody tr th {\n",
       "        vertical-align: top;\n",
       "    }\n",
       "\n",
       "    .dataframe thead th {\n",
       "        text-align: right;\n",
       "    }\n",
       "</style>\n",
       "<table border=\"1\" class=\"dataframe\">\n",
       "  <thead>\n",
       "    <tr style=\"text-align: right;\">\n",
       "      <th>y</th>\n",
       "      <th>no</th>\n",
       "      <th>yes</th>\n",
       "      <th>totals</th>\n",
       "      <th>% no</th>\n",
       "      <th>% yes</th>\n",
       "    </tr>\n",
       "    <tr>\n",
       "      <th>duration_range</th>\n",
       "      <th></th>\n",
       "      <th></th>\n",
       "      <th></th>\n",
       "      <th></th>\n",
       "      <th></th>\n",
       "    </tr>\n",
       "  </thead>\n",
       "  <tbody>\n",
       "    <tr>\n",
       "      <th>0-300</th>\n",
       "      <td>28466</td>\n",
       "      <td>1518</td>\n",
       "      <td>29984</td>\n",
       "      <td>94.937300</td>\n",
       "      <td>5.062700</td>\n",
       "    </tr>\n",
       "    <tr>\n",
       "      <th>301-600</th>\n",
       "      <td>6302</td>\n",
       "      <td>1438</td>\n",
       "      <td>7740</td>\n",
       "      <td>81.421189</td>\n",
       "      <td>18.578811</td>\n",
       "    </tr>\n",
       "    <tr>\n",
       "      <th>601-900</th>\n",
       "      <td>1259</td>\n",
       "      <td>924</td>\n",
       "      <td>2183</td>\n",
       "      <td>57.672927</td>\n",
       "      <td>42.327073</td>\n",
       "    </tr>\n",
       "    <tr>\n",
       "      <th>901-1200</th>\n",
       "      <td>329</td>\n",
       "      <td>439</td>\n",
       "      <td>768</td>\n",
       "      <td>42.838542</td>\n",
       "      <td>57.161458</td>\n",
       "    </tr>\n",
       "    <tr>\n",
       "      <th>1201-1500</th>\n",
       "      <td>115</td>\n",
       "      <td>192</td>\n",
       "      <td>307</td>\n",
       "      <td>37.459283</td>\n",
       "      <td>62.540717</td>\n",
       "    </tr>\n",
       "    <tr>\n",
       "      <th>1501-1800</th>\n",
       "      <td>36</td>\n",
       "      <td>69</td>\n",
       "      <td>105</td>\n",
       "      <td>34.285714</td>\n",
       "      <td>65.714286</td>\n",
       "    </tr>\n",
       "    <tr>\n",
       "      <th>1801-2100</th>\n",
       "      <td>22</td>\n",
       "      <td>34</td>\n",
       "      <td>56</td>\n",
       "      <td>39.285714</td>\n",
       "      <td>60.714286</td>\n",
       "    </tr>\n",
       "    <tr>\n",
       "      <th>2101-2400</th>\n",
       "      <td>6</td>\n",
       "      <td>8</td>\n",
       "      <td>14</td>\n",
       "      <td>42.857143</td>\n",
       "      <td>57.142857</td>\n",
       "    </tr>\n",
       "    <tr>\n",
       "      <th>More than 2400</th>\n",
       "      <td>13</td>\n",
       "      <td>18</td>\n",
       "      <td>31</td>\n",
       "      <td>41.935484</td>\n",
       "      <td>58.064516</td>\n",
       "    </tr>\n",
       "    <tr>\n",
       "      <th>totals</th>\n",
       "      <td>36548</td>\n",
       "      <td>4640</td>\n",
       "      <td>41188</td>\n",
       "      <td>88.734583</td>\n",
       "      <td>11.265417</td>\n",
       "    </tr>\n",
       "  </tbody>\n",
       "</table>\n",
       "</div>"
      ],
      "text/plain": [
       "y                  no   yes  totals       % no      % yes\n",
       "duration_range                                           \n",
       "0-300           28466  1518   29984  94.937300   5.062700\n",
       "301-600          6302  1438    7740  81.421189  18.578811\n",
       "601-900          1259   924    2183  57.672927  42.327073\n",
       "901-1200          329   439     768  42.838542  57.161458\n",
       "1201-1500         115   192     307  37.459283  62.540717\n",
       "1501-1800          36    69     105  34.285714  65.714286\n",
       "1801-2100          22    34      56  39.285714  60.714286\n",
       "2101-2400           6     8      14  42.857143  57.142857\n",
       "More than 2400     13    18      31  41.935484  58.064516\n",
       "totals          36548  4640   41188  88.734583  11.265417"
      ]
     },
     "execution_count": 53,
     "metadata": {},
     "output_type": "execute_result"
    }
   ],
   "source": [
    "pivot_duration=contact_df.pivot_table(values = \"contact\",index=\"duration_range\",columns= \"y\",aggfunc=\"count\",margins=True, margins_name= \"totals\")\n",
    "\n",
    "pivot_duration[\"% no\"]=pivot_duration.no/pivot_duration.totals*100\n",
    "pivot_duration[\"% yes\"]=pivot_duration.yes/pivot_duration.totals*100\n",
    "\n",
    "print(\"Duration of the call:\")\n",
    "pivot_duration\n",
    "\n"
   ]
  },
  {
   "cell_type": "markdown",
   "id": "72d84f03",
   "metadata": {},
   "source": [
    "Despite the fact that long calls, seems to be a synonim of better conversion, the real situation shows that there are very few calls that last more than 1500 seconds. The focus should be in the first 5 ranges."
   ]
  },
  {
   "cell_type": "markdown",
   "id": "743ad29d",
   "metadata": {},
   "source": [
    "## Campaign"
   ]
  },
  {
   "cell_type": "code",
   "execution_count": 60,
   "id": "991d025b",
   "metadata": {},
   "outputs": [
    {
     "data": {
      "text/html": [
       "<div>\n",
       "<style scoped>\n",
       "    .dataframe tbody tr th:only-of-type {\n",
       "        vertical-align: middle;\n",
       "    }\n",
       "\n",
       "    .dataframe tbody tr th {\n",
       "        vertical-align: top;\n",
       "    }\n",
       "\n",
       "    .dataframe thead th {\n",
       "        text-align: right;\n",
       "    }\n",
       "</style>\n",
       "<table border=\"1\" class=\"dataframe\">\n",
       "  <thead>\n",
       "    <tr style=\"text-align: right;\">\n",
       "      <th></th>\n",
       "      <th>campaign</th>\n",
       "      <th>pdays</th>\n",
       "      <th>previous</th>\n",
       "      <th>poutcome</th>\n",
       "      <th>y</th>\n",
       "      <th>campaign_range</th>\n",
       "      <th>pdays_range</th>\n",
       "    </tr>\n",
       "  </thead>\n",
       "  <tbody>\n",
       "    <tr>\n",
       "      <th>0</th>\n",
       "      <td>1</td>\n",
       "      <td>999</td>\n",
       "      <td>0</td>\n",
       "      <td>nonexistent</td>\n",
       "      <td>no</td>\n",
       "      <td>0-3</td>\n",
       "      <td>No previous contacted</td>\n",
       "    </tr>\n",
       "    <tr>\n",
       "      <th>1</th>\n",
       "      <td>1</td>\n",
       "      <td>999</td>\n",
       "      <td>0</td>\n",
       "      <td>nonexistent</td>\n",
       "      <td>no</td>\n",
       "      <td>0-3</td>\n",
       "      <td>No previous contacted</td>\n",
       "    </tr>\n",
       "    <tr>\n",
       "      <th>2</th>\n",
       "      <td>1</td>\n",
       "      <td>999</td>\n",
       "      <td>0</td>\n",
       "      <td>nonexistent</td>\n",
       "      <td>no</td>\n",
       "      <td>0-3</td>\n",
       "      <td>No previous contacted</td>\n",
       "    </tr>\n",
       "    <tr>\n",
       "      <th>3</th>\n",
       "      <td>1</td>\n",
       "      <td>999</td>\n",
       "      <td>0</td>\n",
       "      <td>nonexistent</td>\n",
       "      <td>no</td>\n",
       "      <td>0-3</td>\n",
       "      <td>No previous contacted</td>\n",
       "    </tr>\n",
       "    <tr>\n",
       "      <th>4</th>\n",
       "      <td>1</td>\n",
       "      <td>999</td>\n",
       "      <td>0</td>\n",
       "      <td>nonexistent</td>\n",
       "      <td>no</td>\n",
       "      <td>0-3</td>\n",
       "      <td>No previous contacted</td>\n",
       "    </tr>\n",
       "    <tr>\n",
       "      <th>...</th>\n",
       "      <td>...</td>\n",
       "      <td>...</td>\n",
       "      <td>...</td>\n",
       "      <td>...</td>\n",
       "      <td>...</td>\n",
       "      <td>...</td>\n",
       "      <td>...</td>\n",
       "    </tr>\n",
       "    <tr>\n",
       "      <th>41183</th>\n",
       "      <td>1</td>\n",
       "      <td>999</td>\n",
       "      <td>0</td>\n",
       "      <td>nonexistent</td>\n",
       "      <td>yes</td>\n",
       "      <td>0-3</td>\n",
       "      <td>No previous contacted</td>\n",
       "    </tr>\n",
       "    <tr>\n",
       "      <th>41184</th>\n",
       "      <td>1</td>\n",
       "      <td>999</td>\n",
       "      <td>0</td>\n",
       "      <td>nonexistent</td>\n",
       "      <td>no</td>\n",
       "      <td>0-3</td>\n",
       "      <td>No previous contacted</td>\n",
       "    </tr>\n",
       "    <tr>\n",
       "      <th>41185</th>\n",
       "      <td>2</td>\n",
       "      <td>999</td>\n",
       "      <td>0</td>\n",
       "      <td>nonexistent</td>\n",
       "      <td>no</td>\n",
       "      <td>0-3</td>\n",
       "      <td>No previous contacted</td>\n",
       "    </tr>\n",
       "    <tr>\n",
       "      <th>41186</th>\n",
       "      <td>1</td>\n",
       "      <td>999</td>\n",
       "      <td>0</td>\n",
       "      <td>nonexistent</td>\n",
       "      <td>yes</td>\n",
       "      <td>0-3</td>\n",
       "      <td>No previous contacted</td>\n",
       "    </tr>\n",
       "    <tr>\n",
       "      <th>41187</th>\n",
       "      <td>3</td>\n",
       "      <td>999</td>\n",
       "      <td>1</td>\n",
       "      <td>failure</td>\n",
       "      <td>no</td>\n",
       "      <td>0-3</td>\n",
       "      <td>No previous contacted</td>\n",
       "    </tr>\n",
       "  </tbody>\n",
       "</table>\n",
       "<p>41188 rows × 7 columns</p>\n",
       "</div>"
      ],
      "text/plain": [
       "       campaign  pdays  previous     poutcome    y campaign_range  \\\n",
       "0             1    999         0  nonexistent   no            0-3   \n",
       "1             1    999         0  nonexistent   no            0-3   \n",
       "2             1    999         0  nonexistent   no            0-3   \n",
       "3             1    999         0  nonexistent   no            0-3   \n",
       "4             1    999         0  nonexistent   no            0-3   \n",
       "...         ...    ...       ...          ...  ...            ...   \n",
       "41183         1    999         0  nonexistent  yes            0-3   \n",
       "41184         1    999         0  nonexistent   no            0-3   \n",
       "41185         2    999         0  nonexistent   no            0-3   \n",
       "41186         1    999         0  nonexistent  yes            0-3   \n",
       "41187         3    999         1      failure   no            0-3   \n",
       "\n",
       "                 pdays_range  \n",
       "0      No previous contacted  \n",
       "1      No previous contacted  \n",
       "2      No previous contacted  \n",
       "3      No previous contacted  \n",
       "4      No previous contacted  \n",
       "...                      ...  \n",
       "41183  No previous contacted  \n",
       "41184  No previous contacted  \n",
       "41185  No previous contacted  \n",
       "41186  No previous contacted  \n",
       "41187  No previous contacted  \n",
       "\n",
       "[41188 rows x 7 columns]"
      ]
     },
     "execution_count": 60,
     "metadata": {},
     "output_type": "execute_result"
    }
   ],
   "source": [
    "campaign_df"
   ]
  },
  {
   "cell_type": "code",
   "execution_count": 65,
   "id": "12fb1466",
   "metadata": {},
   "outputs": [
    {
     "name": "stdout",
     "output_type": "stream",
     "text": [
      "Previous contacts in campaign:\n"
     ]
    },
    {
     "data": {
      "text/html": [
       "<div>\n",
       "<style scoped>\n",
       "    .dataframe tbody tr th:only-of-type {\n",
       "        vertical-align: middle;\n",
       "    }\n",
       "\n",
       "    .dataframe tbody tr th {\n",
       "        vertical-align: top;\n",
       "    }\n",
       "\n",
       "    .dataframe thead th {\n",
       "        text-align: right;\n",
       "    }\n",
       "</style>\n",
       "<table border=\"1\" class=\"dataframe\">\n",
       "  <thead>\n",
       "    <tr style=\"text-align: right;\">\n",
       "      <th>y</th>\n",
       "      <th>no</th>\n",
       "      <th>yes</th>\n",
       "      <th>totals</th>\n",
       "      <th>% no</th>\n",
       "      <th>% yes</th>\n",
       "    </tr>\n",
       "    <tr>\n",
       "      <th>campaign_range</th>\n",
       "      <th></th>\n",
       "      <th></th>\n",
       "      <th></th>\n",
       "      <th></th>\n",
       "      <th></th>\n",
       "    </tr>\n",
       "  </thead>\n",
       "  <tbody>\n",
       "    <tr>\n",
       "      <th>0-3</th>\n",
       "      <td>29468</td>\n",
       "      <td>4085</td>\n",
       "      <td>33553</td>\n",
       "      <td>87.825232</td>\n",
       "      <td>12.174768</td>\n",
       "    </tr>\n",
       "    <tr>\n",
       "      <th>4-6</th>\n",
       "      <td>4785</td>\n",
       "      <td>444</td>\n",
       "      <td>5229</td>\n",
       "      <td>91.508893</td>\n",
       "      <td>8.491107</td>\n",
       "    </tr>\n",
       "    <tr>\n",
       "      <th>7-9</th>\n",
       "      <td>1240</td>\n",
       "      <td>72</td>\n",
       "      <td>1312</td>\n",
       "      <td>94.512195</td>\n",
       "      <td>5.487805</td>\n",
       "    </tr>\n",
       "    <tr>\n",
       "      <th>10-12</th>\n",
       "      <td>500</td>\n",
       "      <td>27</td>\n",
       "      <td>527</td>\n",
       "      <td>94.876660</td>\n",
       "      <td>5.123340</td>\n",
       "    </tr>\n",
       "    <tr>\n",
       "      <th>More than 12</th>\n",
       "      <td>555</td>\n",
       "      <td>12</td>\n",
       "      <td>567</td>\n",
       "      <td>97.883598</td>\n",
       "      <td>2.116402</td>\n",
       "    </tr>\n",
       "    <tr>\n",
       "      <th>totals</th>\n",
       "      <td>36548</td>\n",
       "      <td>4640</td>\n",
       "      <td>41188</td>\n",
       "      <td>88.734583</td>\n",
       "      <td>11.265417</td>\n",
       "    </tr>\n",
       "  </tbody>\n",
       "</table>\n",
       "</div>"
      ],
      "text/plain": [
       "y                  no   yes  totals       % no      % yes\n",
       "campaign_range                                           \n",
       "0-3             29468  4085   33553  87.825232  12.174768\n",
       "4-6              4785   444    5229  91.508893   8.491107\n",
       "7-9              1240    72    1312  94.512195   5.487805\n",
       "10-12             500    27     527  94.876660   5.123340\n",
       "More than 12      555    12     567  97.883598   2.116402\n",
       "totals          36548  4640   41188  88.734583  11.265417"
      ]
     },
     "execution_count": 65,
     "metadata": {},
     "output_type": "execute_result"
    }
   ],
   "source": [
    "pivot_campaign=campaign_df.pivot_table(values = \"campaign\",index=\"campaign_range\",columns= \"y\",aggfunc=\"count\",margins=True, margins_name= \"totals\")\n",
    "\n",
    "pivot_campaign[\"% no\"]=pivot_campaign.no/pivot_campaign.totals*100\n",
    "pivot_campaign[\"% yes\"]=pivot_campaign.yes/pivot_campaign.totals*100\n",
    "\n",
    "print(\"Previous contacts in campaign:\")\n",
    "pivot_campaign\n",
    "\n"
   ]
  },
  {
   "cell_type": "markdown",
   "id": "111bbd46",
   "metadata": {},
   "source": [
    "Seems to be that customers with better acceptance or conversion rate are customers contacted 0-3 times. Consider that there are near 70% of customers, so take it into account for posterior analysis."
   ]
  },
  {
   "cell_type": "code",
   "execution_count": 67,
   "id": "934c7821",
   "metadata": {},
   "outputs": [
    {
     "name": "stdout",
     "output_type": "stream",
     "text": [
      "Days from last contact in previous campaign:\n"
     ]
    },
    {
     "data": {
      "text/html": [
       "<div>\n",
       "<style scoped>\n",
       "    .dataframe tbody tr th:only-of-type {\n",
       "        vertical-align: middle;\n",
       "    }\n",
       "\n",
       "    .dataframe tbody tr th {\n",
       "        vertical-align: top;\n",
       "    }\n",
       "\n",
       "    .dataframe thead th {\n",
       "        text-align: right;\n",
       "    }\n",
       "</style>\n",
       "<table border=\"1\" class=\"dataframe\">\n",
       "  <thead>\n",
       "    <tr style=\"text-align: right;\">\n",
       "      <th>y</th>\n",
       "      <th>no</th>\n",
       "      <th>yes</th>\n",
       "      <th>totals</th>\n",
       "      <th>% no</th>\n",
       "      <th>% yes</th>\n",
       "    </tr>\n",
       "    <tr>\n",
       "      <th>pdays_range</th>\n",
       "      <th></th>\n",
       "      <th></th>\n",
       "      <th></th>\n",
       "      <th></th>\n",
       "      <th></th>\n",
       "    </tr>\n",
       "  </thead>\n",
       "  <tbody>\n",
       "    <tr>\n",
       "      <th>0-5</th>\n",
       "      <td>260.0</td>\n",
       "      <td>445.0</td>\n",
       "      <td>705</td>\n",
       "      <td>36.879433</td>\n",
       "      <td>63.120567</td>\n",
       "    </tr>\n",
       "    <tr>\n",
       "      <th>6-10</th>\n",
       "      <td>200.0</td>\n",
       "      <td>406.0</td>\n",
       "      <td>606</td>\n",
       "      <td>33.003300</td>\n",
       "      <td>66.996700</td>\n",
       "    </tr>\n",
       "    <tr>\n",
       "      <th>11-15</th>\n",
       "      <td>70.0</td>\n",
       "      <td>96.0</td>\n",
       "      <td>166</td>\n",
       "      <td>42.168675</td>\n",
       "      <td>57.831325</td>\n",
       "    </tr>\n",
       "    <tr>\n",
       "      <th>16-20</th>\n",
       "      <td>17.0</td>\n",
       "      <td>13.0</td>\n",
       "      <td>30</td>\n",
       "      <td>56.666667</td>\n",
       "      <td>43.333333</td>\n",
       "    </tr>\n",
       "    <tr>\n",
       "      <th>21-25</th>\n",
       "      <td>1.0</td>\n",
       "      <td>5.0</td>\n",
       "      <td>6</td>\n",
       "      <td>16.666667</td>\n",
       "      <td>83.333333</td>\n",
       "    </tr>\n",
       "    <tr>\n",
       "      <th>26-30</th>\n",
       "      <td>NaN</td>\n",
       "      <td>2.0</td>\n",
       "      <td>2</td>\n",
       "      <td>NaN</td>\n",
       "      <td>100.000000</td>\n",
       "    </tr>\n",
       "    <tr>\n",
       "      <th>No previous contacted</th>\n",
       "      <td>36000.0</td>\n",
       "      <td>3673.0</td>\n",
       "      <td>39673</td>\n",
       "      <td>90.741814</td>\n",
       "      <td>9.258186</td>\n",
       "    </tr>\n",
       "    <tr>\n",
       "      <th>totals</th>\n",
       "      <td>36548.0</td>\n",
       "      <td>4640.0</td>\n",
       "      <td>41188</td>\n",
       "      <td>88.734583</td>\n",
       "      <td>11.265417</td>\n",
       "    </tr>\n",
       "  </tbody>\n",
       "</table>\n",
       "</div>"
      ],
      "text/plain": [
       "y                           no     yes  totals       % no       % yes\n",
       "pdays_range                                                          \n",
       "0-5                      260.0   445.0     705  36.879433   63.120567\n",
       "6-10                     200.0   406.0     606  33.003300   66.996700\n",
       "11-15                     70.0    96.0     166  42.168675   57.831325\n",
       "16-20                     17.0    13.0      30  56.666667   43.333333\n",
       "21-25                      1.0     5.0       6  16.666667   83.333333\n",
       "26-30                      NaN     2.0       2        NaN  100.000000\n",
       "No previous contacted  36000.0  3673.0   39673  90.741814    9.258186\n",
       "totals                 36548.0  4640.0   41188  88.734583   11.265417"
      ]
     },
     "execution_count": 67,
     "metadata": {},
     "output_type": "execute_result"
    }
   ],
   "source": [
    "pivot_pdays=campaign_df.pivot_table(values = \"campaign\",index=\"pdays_range\",columns= \"y\",aggfunc=\"count\",margins=True, margins_name= \"totals\")\n",
    "\n",
    "pivot_pdays[\"% no\"]=pivot_pdays.no/pivot_pdays.totals*100\n",
    "pivot_pdays[\"% yes\"]=pivot_pdays.yes/pivot_pdays.totals*100\n",
    "\n",
    "print(\"Days from last contact in previous campaign:\")\n",
    "pivot_pdays\n",
    "\n"
   ]
  },
  {
   "cell_type": "markdown",
   "id": "940b9dab",
   "metadata": {},
   "source": [
    "Most of customers were not contacted before."
   ]
  },
  {
   "cell_type": "code",
   "execution_count": 71,
   "id": "2d2a085f",
   "metadata": {},
   "outputs": [
    {
     "name": "stdout",
     "output_type": "stream",
     "text": [
      "Contacts before this campaign:\n"
     ]
    },
    {
     "data": {
      "text/html": [
       "<div>\n",
       "<style scoped>\n",
       "    .dataframe tbody tr th:only-of-type {\n",
       "        vertical-align: middle;\n",
       "    }\n",
       "\n",
       "    .dataframe tbody tr th {\n",
       "        vertical-align: top;\n",
       "    }\n",
       "\n",
       "    .dataframe thead th {\n",
       "        text-align: right;\n",
       "    }\n",
       "</style>\n",
       "<table border=\"1\" class=\"dataframe\">\n",
       "  <thead>\n",
       "    <tr style=\"text-align: right;\">\n",
       "      <th>y</th>\n",
       "      <th>no</th>\n",
       "      <th>yes</th>\n",
       "      <th>totals</th>\n",
       "      <th>% no</th>\n",
       "      <th>% yes</th>\n",
       "    </tr>\n",
       "    <tr>\n",
       "      <th>previous</th>\n",
       "      <th></th>\n",
       "      <th></th>\n",
       "      <th></th>\n",
       "      <th></th>\n",
       "      <th></th>\n",
       "    </tr>\n",
       "  </thead>\n",
       "  <tbody>\n",
       "    <tr>\n",
       "      <th>0</th>\n",
       "      <td>32422.0</td>\n",
       "      <td>3141.0</td>\n",
       "      <td>35563</td>\n",
       "      <td>91.167787</td>\n",
       "      <td>8.832213</td>\n",
       "    </tr>\n",
       "    <tr>\n",
       "      <th>1</th>\n",
       "      <td>3594.0</td>\n",
       "      <td>967.0</td>\n",
       "      <td>4561</td>\n",
       "      <td>78.798509</td>\n",
       "      <td>21.201491</td>\n",
       "    </tr>\n",
       "    <tr>\n",
       "      <th>2</th>\n",
       "      <td>404.0</td>\n",
       "      <td>350.0</td>\n",
       "      <td>754</td>\n",
       "      <td>53.580902</td>\n",
       "      <td>46.419098</td>\n",
       "    </tr>\n",
       "    <tr>\n",
       "      <th>3</th>\n",
       "      <td>88.0</td>\n",
       "      <td>128.0</td>\n",
       "      <td>216</td>\n",
       "      <td>40.740741</td>\n",
       "      <td>59.259259</td>\n",
       "    </tr>\n",
       "    <tr>\n",
       "      <th>4</th>\n",
       "      <td>32.0</td>\n",
       "      <td>38.0</td>\n",
       "      <td>70</td>\n",
       "      <td>45.714286</td>\n",
       "      <td>54.285714</td>\n",
       "    </tr>\n",
       "    <tr>\n",
       "      <th>5</th>\n",
       "      <td>5.0</td>\n",
       "      <td>13.0</td>\n",
       "      <td>18</td>\n",
       "      <td>27.777778</td>\n",
       "      <td>72.222222</td>\n",
       "    </tr>\n",
       "    <tr>\n",
       "      <th>6</th>\n",
       "      <td>2.0</td>\n",
       "      <td>3.0</td>\n",
       "      <td>5</td>\n",
       "      <td>40.000000</td>\n",
       "      <td>60.000000</td>\n",
       "    </tr>\n",
       "    <tr>\n",
       "      <th>7</th>\n",
       "      <td>1.0</td>\n",
       "      <td>NaN</td>\n",
       "      <td>1</td>\n",
       "      <td>100.000000</td>\n",
       "      <td>NaN</td>\n",
       "    </tr>\n",
       "    <tr>\n",
       "      <th>totals</th>\n",
       "      <td>36548.0</td>\n",
       "      <td>4640.0</td>\n",
       "      <td>41188</td>\n",
       "      <td>88.734583</td>\n",
       "      <td>11.265417</td>\n",
       "    </tr>\n",
       "  </tbody>\n",
       "</table>\n",
       "</div>"
      ],
      "text/plain": [
       "y              no     yes  totals        % no      % yes\n",
       "previous                                                \n",
       "0         32422.0  3141.0   35563   91.167787   8.832213\n",
       "1          3594.0   967.0    4561   78.798509  21.201491\n",
       "2           404.0   350.0     754   53.580902  46.419098\n",
       "3            88.0   128.0     216   40.740741  59.259259\n",
       "4            32.0    38.0      70   45.714286  54.285714\n",
       "5             5.0    13.0      18   27.777778  72.222222\n",
       "6             2.0     3.0       5   40.000000  60.000000\n",
       "7             1.0     NaN       1  100.000000        NaN\n",
       "totals    36548.0  4640.0   41188   88.734583  11.265417"
      ]
     },
     "execution_count": 71,
     "metadata": {},
     "output_type": "execute_result"
    }
   ],
   "source": [
    "pivot_previous=campaign_df.pivot_table(values = \"campaign\",index=\"previous\",columns= \"y\",aggfunc=\"count\",margins=True, margins_name= \"totals\")\n",
    "\n",
    "pivot_previous[\"% no\"]=pivot_previous.no/pivot_previous.totals*100\n",
    "pivot_previous[\"% yes\"]=pivot_previous.yes/pivot_previous.totals*100\n",
    "\n",
    "print(\"Contacts before this campaign:\")\n",
    "pivot_previous\n",
    "\n"
   ]
  },
  {
   "cell_type": "markdown",
   "id": "21c81ecd",
   "metadata": {},
   "source": [
    "More contactas seems to be better acceptance/conversion rate."
   ]
  },
  {
   "cell_type": "code",
   "execution_count": 73,
   "id": "8d2c44ad",
   "metadata": {},
   "outputs": [
    {
     "name": "stdout",
     "output_type": "stream",
     "text": [
      "Outcome from previous campaign:\n"
     ]
    },
    {
     "data": {
      "text/html": [
       "<div>\n",
       "<style scoped>\n",
       "    .dataframe tbody tr th:only-of-type {\n",
       "        vertical-align: middle;\n",
       "    }\n",
       "\n",
       "    .dataframe tbody tr th {\n",
       "        vertical-align: top;\n",
       "    }\n",
       "\n",
       "    .dataframe thead th {\n",
       "        text-align: right;\n",
       "    }\n",
       "</style>\n",
       "<table border=\"1\" class=\"dataframe\">\n",
       "  <thead>\n",
       "    <tr style=\"text-align: right;\">\n",
       "      <th>y</th>\n",
       "      <th>no</th>\n",
       "      <th>yes</th>\n",
       "      <th>totals</th>\n",
       "      <th>% no</th>\n",
       "      <th>% yes</th>\n",
       "    </tr>\n",
       "    <tr>\n",
       "      <th>poutcome</th>\n",
       "      <th></th>\n",
       "      <th></th>\n",
       "      <th></th>\n",
       "      <th></th>\n",
       "      <th></th>\n",
       "    </tr>\n",
       "  </thead>\n",
       "  <tbody>\n",
       "    <tr>\n",
       "      <th>failure</th>\n",
       "      <td>3647</td>\n",
       "      <td>605</td>\n",
       "      <td>4252</td>\n",
       "      <td>85.771402</td>\n",
       "      <td>14.228598</td>\n",
       "    </tr>\n",
       "    <tr>\n",
       "      <th>nonexistent</th>\n",
       "      <td>32422</td>\n",
       "      <td>3141</td>\n",
       "      <td>35563</td>\n",
       "      <td>91.167787</td>\n",
       "      <td>8.832213</td>\n",
       "    </tr>\n",
       "    <tr>\n",
       "      <th>success</th>\n",
       "      <td>479</td>\n",
       "      <td>894</td>\n",
       "      <td>1373</td>\n",
       "      <td>34.887109</td>\n",
       "      <td>65.112891</td>\n",
       "    </tr>\n",
       "    <tr>\n",
       "      <th>totals</th>\n",
       "      <td>36548</td>\n",
       "      <td>4640</td>\n",
       "      <td>41188</td>\n",
       "      <td>88.734583</td>\n",
       "      <td>11.265417</td>\n",
       "    </tr>\n",
       "  </tbody>\n",
       "</table>\n",
       "</div>"
      ],
      "text/plain": [
       "y               no   yes  totals       % no      % yes\n",
       "poutcome                                              \n",
       "failure       3647   605    4252  85.771402  14.228598\n",
       "nonexistent  32422  3141   35563  91.167787   8.832213\n",
       "success        479   894    1373  34.887109  65.112891\n",
       "totals       36548  4640   41188  88.734583  11.265417"
      ]
     },
     "execution_count": 73,
     "metadata": {},
     "output_type": "execute_result"
    }
   ],
   "source": [
    "pivot_poutcome=campaign_df.pivot_table(values = \"campaign\",index=\"poutcome\",columns= \"y\",aggfunc=\"count\",margins=True, margins_name= \"totals\")\n",
    "\n",
    "pivot_poutcome[\"% no\"]=pivot_poutcome.no/pivot_poutcome.totals*100\n",
    "pivot_poutcome[\"% yes\"]=pivot_poutcome.yes/pivot_poutcome.totals*100\n",
    "\n",
    "print(\"Outcome from previous campaign:\")\n",
    "pivot_poutcome\n",
    "\n"
   ]
  },
  {
   "cell_type": "markdown",
   "id": "086e667b",
   "metadata": {},
   "source": [
    "Customers with a success in previous campaign have a way higher acceptance rate now."
   ]
  },
  {
   "cell_type": "code",
   "execution_count": 79,
   "id": "99160bdf",
   "metadata": {},
   "outputs": [
    {
     "data": {
      "text/plain": [
       "Text(0.5, 1.0, 'Outcome from previous campaign')"
      ]
     },
     "execution_count": 79,
     "metadata": {},
     "output_type": "execute_result"
    },
    {
     "data": {
      "image/png": "[encoded data removed]",
      "text/plain": [
       "<Figure size 2376x648 with 2 Axes>"
      ]
     },
     "metadata": {},
     "output_type": "display_data"
    },
    {
     "data": {
      "image/png": "[encoded data removed]",
      "text/plain": [
       "<Figure size 2376x648 with 1 Axes>"
      ]
     },
     "metadata": {},
     "output_type": "display_data"
    }
   ],
   "source": [
    "plt.figure(figsize=(33,9))\n",
    "\n",
    "plt.subplot(1,4,1)\n",
    "\n",
    "#fig, ax = plt.subplots(figsize = (9, 5))\n",
    "ax = sns.histplot(data=campaign_df, x='campaign_range', hue='y', binwidth=10,multiple='stack',stat=\"probability\", edgecolor ='black')\n",
    "plt.setp( ax.get_xticklabels(),rotation=75)\n",
    "plt.xlabel(\"Contacts\") \n",
    "plt.ylabel(\"Percentage\")\n",
    "plt.title(\"Previous contacts in campaign\")\n",
    "\n",
    "plt.subplot(1,4,2)\n",
    "\n",
    "#fig, ax = plt.subplots(figsize = (9, 5))\n",
    "ax = sns.histplot(data=campaign_df, x='pdays_range', hue='y', binwidth=10,multiple='stack',stat=\"probability\", edgecolor ='black')\n",
    "plt.setp( ax.get_xticklabels(),rotation=75)\n",
    "plt.xlabel(\"Days\") \n",
    "plt.ylabel(\"Percentage\")\n",
    "plt.title(\"Days from last contact in previous campaign\")\n",
    "\n",
    "plt.figure(figsize=(33,9))\n",
    "\n",
    "plt.subplot(1,4,3)\n",
    "\n",
    "#fig, ax = plt.subplots(figsize = (9, 5))\n",
    "#plt.setp( ax.get_xticklabels(),rotation=90)\n",
    "ax = sns.histplot(data=campaign_df, x='poutcome', hue='y', binwidth=10,multiple='stack',stat=\"probability\", edgecolor ='black')\n",
    "plt.setp( ax.get_xticklabels(),rotation=75)\n",
    "plt.xlabel(\"Outcome previous campaign\") \n",
    "plt.ylabel(\"Percentage\")\n",
    "plt.title(\"Outcome from previous campaign\")\n",
    "\n",
    "\n",
    "\n",
    "\n"
   ]
  },
  {
   "cell_type": "code",
   "execution_count": null,
   "id": "cb46f8f8",
   "metadata": {},
   "outputs": [],
   "source": []
  }
 ],
 "metadata": {
  "kernelspec": {
   "display_name": "Python 3",
   "language": "python",
   "name": "python3"
  },
  "language_info": {
   "codemirror_mode": {
    "name": "ipython",
    "version": 3
   },
   "file_extension": ".py",
   "mimetype": "text/x-python",
   "name": "python",
   "nbconvert_exporter": "python",
   "pygments_lexer": "ipython3",
   "version": "3.8.8"
  }
 },
 "nbformat": 4,
 "nbformat_minor": 5
}
